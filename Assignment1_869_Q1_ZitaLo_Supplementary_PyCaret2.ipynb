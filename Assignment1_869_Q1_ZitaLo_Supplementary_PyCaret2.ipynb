{
 "cells": [
  {
   "cell_type": "code",
   "execution_count": null,
   "metadata": {},
   "outputs": [],
   "source": [
    "# Name: Zita Lo\n",
    "# Student Number: 20196119\n",
    "# Program: MMA\n",
    "# Cohort: Winter 2021\n",
    "# Course Number: MMA 869\n",
    "# Date: August 13, 2020\n",
    "\n",
    "\n",
    "# Answer to Question 1\n",
    "# See Assignment1_869_Q1_ZitaLo.py for Final Result\n",
    "# This is supplementary code - Pycaret 2.0 (HClust and Kmeans)\n"
   ]
  },
  {
   "cell_type": "code",
   "execution_count": 2,
   "metadata": {},
   "outputs": [],
   "source": [
    "# Import packages\n",
    "import pandas as pd\n",
    "import numpy as np\n",
    "import matplotlib.pyplot as plt\n",
    "import seaborn as sns\n",
    "%matplotlib inline\n",
    "\n",
    "from IPython.core.interactiveshell import InteractiveShell\n",
    "InteractiveShell.ast_node_interactivity = \"all\""
   ]
  },
  {
   "cell_type": "code",
   "execution_count": 3,
   "metadata": {},
   "outputs": [],
   "source": [
    "# Read in data\n",
    "df = pd.read_csv(\"jewelry_customers.csv\")"
   ]
  },
  {
   "cell_type": "markdown",
   "metadata": {},
   "source": [
    "# EDA"
   ]
  },
  {
   "cell_type": "code",
   "execution_count": 4,
   "metadata": {},
   "outputs": [
    {
     "data": {
      "text/html": [
       "<div>\n",
       "<style scoped>\n",
       "    .dataframe tbody tr th:only-of-type {\n",
       "        vertical-align: middle;\n",
       "    }\n",
       "\n",
       "    .dataframe tbody tr th {\n",
       "        vertical-align: top;\n",
       "    }\n",
       "\n",
       "    .dataframe thead th {\n",
       "        text-align: right;\n",
       "    }\n",
       "</style>\n",
       "<table border=\"1\" class=\"dataframe\">\n",
       "  <thead>\n",
       "    <tr style=\"text-align: right;\">\n",
       "      <th></th>\n",
       "      <th>Age</th>\n",
       "      <th>Income</th>\n",
       "      <th>SpendingScore</th>\n",
       "      <th>Savings</th>\n",
       "    </tr>\n",
       "  </thead>\n",
       "  <tbody>\n",
       "    <tr>\n",
       "      <th>0</th>\n",
       "      <td>58</td>\n",
       "      <td>77769</td>\n",
       "      <td>0.791329</td>\n",
       "      <td>6559.829923</td>\n",
       "    </tr>\n",
       "    <tr>\n",
       "      <th>1</th>\n",
       "      <td>59</td>\n",
       "      <td>81799</td>\n",
       "      <td>0.791082</td>\n",
       "      <td>5417.661426</td>\n",
       "    </tr>\n",
       "    <tr>\n",
       "      <th>2</th>\n",
       "      <td>62</td>\n",
       "      <td>74751</td>\n",
       "      <td>0.702657</td>\n",
       "      <td>9258.992965</td>\n",
       "    </tr>\n",
       "    <tr>\n",
       "      <th>3</th>\n",
       "      <td>59</td>\n",
       "      <td>74373</td>\n",
       "      <td>0.765680</td>\n",
       "      <td>7346.334504</td>\n",
       "    </tr>\n",
       "    <tr>\n",
       "      <th>4</th>\n",
       "      <td>87</td>\n",
       "      <td>17760</td>\n",
       "      <td>0.348778</td>\n",
       "      <td>16869.507130</td>\n",
       "    </tr>\n",
       "  </tbody>\n",
       "</table>\n",
       "</div>"
      ],
      "text/plain": [
       "   Age  Income  SpendingScore       Savings\n",
       "0   58   77769       0.791329   6559.829923\n",
       "1   59   81799       0.791082   5417.661426\n",
       "2   62   74751       0.702657   9258.992965\n",
       "3   59   74373       0.765680   7346.334504\n",
       "4   87   17760       0.348778  16869.507130"
      ]
     },
     "execution_count": 4,
     "metadata": {},
     "output_type": "execute_result"
    },
    {
     "name": "stdout",
     "output_type": "stream",
     "text": [
      "<class 'pandas.core.frame.DataFrame'>\n",
      "RangeIndex: 505 entries, 0 to 504\n",
      "Data columns (total 4 columns):\n",
      " #   Column         Non-Null Count  Dtype  \n",
      "---  ------         --------------  -----  \n",
      " 0   Age            505 non-null    int64  \n",
      " 1   Income         505 non-null    int64  \n",
      " 2   SpendingScore  505 non-null    float64\n",
      " 3   Savings        505 non-null    float64\n",
      "dtypes: float64(2), int64(2)\n",
      "memory usage: 15.9 KB\n"
     ]
    }
   ],
   "source": [
    "df.head()\n",
    "df.info()"
   ]
  },
  {
   "cell_type": "markdown",
   "metadata": {},
   "source": [
    "# PyCaret"
   ]
  },
  {
   "cell_type": "code",
   "execution_count": 5,
   "metadata": {
    "scrolled": false
   },
   "outputs": [
    {
     "name": "stdout",
     "output_type": "stream",
     "text": [
      "Setup Succesfully Completed!\n"
     ]
    },
    {
     "data": {
      "text/html": [
       "<style  type=\"text/css\" >\n",
       "    #T_2fab4802_dd73_11ea_9d81_4c1d96add1f7row12_col1 {\n",
       "            background-color:  lightgreen;\n",
       "        }    #T_2fab4802_dd73_11ea_9d81_4c1d96add1f7row17_col1 {\n",
       "            background-color:  lightgreen;\n",
       "        }    #T_2fab4802_dd73_11ea_9d81_4c1d96add1f7row21_col1 {\n",
       "            background-color:  lightgreen;\n",
       "        }</style><table id=\"T_2fab4802_dd73_11ea_9d81_4c1d96add1f7\" ><thead>    <tr>        <th class=\"blank level0\" ></th>        <th class=\"col_heading level0 col0\" >Description</th>        <th class=\"col_heading level0 col1\" >Value</th>    </tr></thead><tbody>\n",
       "                <tr>\n",
       "                        <th id=\"T_2fab4802_dd73_11ea_9d81_4c1d96add1f7level0_row0\" class=\"row_heading level0 row0\" >0</th>\n",
       "                        <td id=\"T_2fab4802_dd73_11ea_9d81_4c1d96add1f7row0_col0\" class=\"data row0 col0\" >session_id </td>\n",
       "                        <td id=\"T_2fab4802_dd73_11ea_9d81_4c1d96add1f7row0_col1\" class=\"data row0 col1\" >123</td>\n",
       "            </tr>\n",
       "            <tr>\n",
       "                        <th id=\"T_2fab4802_dd73_11ea_9d81_4c1d96add1f7level0_row1\" class=\"row_heading level0 row1\" >1</th>\n",
       "                        <td id=\"T_2fab4802_dd73_11ea_9d81_4c1d96add1f7row1_col0\" class=\"data row1 col0\" >Original Data </td>\n",
       "                        <td id=\"T_2fab4802_dd73_11ea_9d81_4c1d96add1f7row1_col1\" class=\"data row1 col1\" >(505, 4)</td>\n",
       "            </tr>\n",
       "            <tr>\n",
       "                        <th id=\"T_2fab4802_dd73_11ea_9d81_4c1d96add1f7level0_row2\" class=\"row_heading level0 row2\" >2</th>\n",
       "                        <td id=\"T_2fab4802_dd73_11ea_9d81_4c1d96add1f7row2_col0\" class=\"data row2 col0\" >Missing Values </td>\n",
       "                        <td id=\"T_2fab4802_dd73_11ea_9d81_4c1d96add1f7row2_col1\" class=\"data row2 col1\" >False</td>\n",
       "            </tr>\n",
       "            <tr>\n",
       "                        <th id=\"T_2fab4802_dd73_11ea_9d81_4c1d96add1f7level0_row3\" class=\"row_heading level0 row3\" >3</th>\n",
       "                        <td id=\"T_2fab4802_dd73_11ea_9d81_4c1d96add1f7row3_col0\" class=\"data row3 col0\" >Numeric Features </td>\n",
       "                        <td id=\"T_2fab4802_dd73_11ea_9d81_4c1d96add1f7row3_col1\" class=\"data row3 col1\" >4</td>\n",
       "            </tr>\n",
       "            <tr>\n",
       "                        <th id=\"T_2fab4802_dd73_11ea_9d81_4c1d96add1f7level0_row4\" class=\"row_heading level0 row4\" >4</th>\n",
       "                        <td id=\"T_2fab4802_dd73_11ea_9d81_4c1d96add1f7row4_col0\" class=\"data row4 col0\" >Categorical Features </td>\n",
       "                        <td id=\"T_2fab4802_dd73_11ea_9d81_4c1d96add1f7row4_col1\" class=\"data row4 col1\" >0</td>\n",
       "            </tr>\n",
       "            <tr>\n",
       "                        <th id=\"T_2fab4802_dd73_11ea_9d81_4c1d96add1f7level0_row5\" class=\"row_heading level0 row5\" >5</th>\n",
       "                        <td id=\"T_2fab4802_dd73_11ea_9d81_4c1d96add1f7row5_col0\" class=\"data row5 col0\" >Ordinal Features </td>\n",
       "                        <td id=\"T_2fab4802_dd73_11ea_9d81_4c1d96add1f7row5_col1\" class=\"data row5 col1\" >False</td>\n",
       "            </tr>\n",
       "            <tr>\n",
       "                        <th id=\"T_2fab4802_dd73_11ea_9d81_4c1d96add1f7level0_row6\" class=\"row_heading level0 row6\" >6</th>\n",
       "                        <td id=\"T_2fab4802_dd73_11ea_9d81_4c1d96add1f7row6_col0\" class=\"data row6 col0\" >High Cardinality Features </td>\n",
       "                        <td id=\"T_2fab4802_dd73_11ea_9d81_4c1d96add1f7row6_col1\" class=\"data row6 col1\" >False</td>\n",
       "            </tr>\n",
       "            <tr>\n",
       "                        <th id=\"T_2fab4802_dd73_11ea_9d81_4c1d96add1f7level0_row7\" class=\"row_heading level0 row7\" >7</th>\n",
       "                        <td id=\"T_2fab4802_dd73_11ea_9d81_4c1d96add1f7row7_col0\" class=\"data row7 col0\" >Transformed Data </td>\n",
       "                        <td id=\"T_2fab4802_dd73_11ea_9d81_4c1d96add1f7row7_col1\" class=\"data row7 col1\" >(505, 4)</td>\n",
       "            </tr>\n",
       "            <tr>\n",
       "                        <th id=\"T_2fab4802_dd73_11ea_9d81_4c1d96add1f7level0_row8\" class=\"row_heading level0 row8\" >8</th>\n",
       "                        <td id=\"T_2fab4802_dd73_11ea_9d81_4c1d96add1f7row8_col0\" class=\"data row8 col0\" >Numeric Imputer </td>\n",
       "                        <td id=\"T_2fab4802_dd73_11ea_9d81_4c1d96add1f7row8_col1\" class=\"data row8 col1\" >mean</td>\n",
       "            </tr>\n",
       "            <tr>\n",
       "                        <th id=\"T_2fab4802_dd73_11ea_9d81_4c1d96add1f7level0_row9\" class=\"row_heading level0 row9\" >9</th>\n",
       "                        <td id=\"T_2fab4802_dd73_11ea_9d81_4c1d96add1f7row9_col0\" class=\"data row9 col0\" >Categorical Imputer </td>\n",
       "                        <td id=\"T_2fab4802_dd73_11ea_9d81_4c1d96add1f7row9_col1\" class=\"data row9 col1\" >constant</td>\n",
       "            </tr>\n",
       "            <tr>\n",
       "                        <th id=\"T_2fab4802_dd73_11ea_9d81_4c1d96add1f7level0_row10\" class=\"row_heading level0 row10\" >10</th>\n",
       "                        <td id=\"T_2fab4802_dd73_11ea_9d81_4c1d96add1f7row10_col0\" class=\"data row10 col0\" >Normalize </td>\n",
       "                        <td id=\"T_2fab4802_dd73_11ea_9d81_4c1d96add1f7row10_col1\" class=\"data row10 col1\" >False</td>\n",
       "            </tr>\n",
       "            <tr>\n",
       "                        <th id=\"T_2fab4802_dd73_11ea_9d81_4c1d96add1f7level0_row11\" class=\"row_heading level0 row11\" >11</th>\n",
       "                        <td id=\"T_2fab4802_dd73_11ea_9d81_4c1d96add1f7row11_col0\" class=\"data row11 col0\" >Normalize Method </td>\n",
       "                        <td id=\"T_2fab4802_dd73_11ea_9d81_4c1d96add1f7row11_col1\" class=\"data row11 col1\" >None</td>\n",
       "            </tr>\n",
       "            <tr>\n",
       "                        <th id=\"T_2fab4802_dd73_11ea_9d81_4c1d96add1f7level0_row12\" class=\"row_heading level0 row12\" >12</th>\n",
       "                        <td id=\"T_2fab4802_dd73_11ea_9d81_4c1d96add1f7row12_col0\" class=\"data row12 col0\" >Transformation </td>\n",
       "                        <td id=\"T_2fab4802_dd73_11ea_9d81_4c1d96add1f7row12_col1\" class=\"data row12 col1\" >True</td>\n",
       "            </tr>\n",
       "            <tr>\n",
       "                        <th id=\"T_2fab4802_dd73_11ea_9d81_4c1d96add1f7level0_row13\" class=\"row_heading level0 row13\" >13</th>\n",
       "                        <td id=\"T_2fab4802_dd73_11ea_9d81_4c1d96add1f7row13_col0\" class=\"data row13 col0\" >Transformation Method </td>\n",
       "                        <td id=\"T_2fab4802_dd73_11ea_9d81_4c1d96add1f7row13_col1\" class=\"data row13 col1\" >yeo-johnson</td>\n",
       "            </tr>\n",
       "            <tr>\n",
       "                        <th id=\"T_2fab4802_dd73_11ea_9d81_4c1d96add1f7level0_row14\" class=\"row_heading level0 row14\" >14</th>\n",
       "                        <td id=\"T_2fab4802_dd73_11ea_9d81_4c1d96add1f7row14_col0\" class=\"data row14 col0\" >PCA </td>\n",
       "                        <td id=\"T_2fab4802_dd73_11ea_9d81_4c1d96add1f7row14_col1\" class=\"data row14 col1\" >False</td>\n",
       "            </tr>\n",
       "            <tr>\n",
       "                        <th id=\"T_2fab4802_dd73_11ea_9d81_4c1d96add1f7level0_row15\" class=\"row_heading level0 row15\" >15</th>\n",
       "                        <td id=\"T_2fab4802_dd73_11ea_9d81_4c1d96add1f7row15_col0\" class=\"data row15 col0\" >PCA Method </td>\n",
       "                        <td id=\"T_2fab4802_dd73_11ea_9d81_4c1d96add1f7row15_col1\" class=\"data row15 col1\" >None</td>\n",
       "            </tr>\n",
       "            <tr>\n",
       "                        <th id=\"T_2fab4802_dd73_11ea_9d81_4c1d96add1f7level0_row16\" class=\"row_heading level0 row16\" >16</th>\n",
       "                        <td id=\"T_2fab4802_dd73_11ea_9d81_4c1d96add1f7row16_col0\" class=\"data row16 col0\" >PCA components </td>\n",
       "                        <td id=\"T_2fab4802_dd73_11ea_9d81_4c1d96add1f7row16_col1\" class=\"data row16 col1\" >None</td>\n",
       "            </tr>\n",
       "            <tr>\n",
       "                        <th id=\"T_2fab4802_dd73_11ea_9d81_4c1d96add1f7level0_row17\" class=\"row_heading level0 row17\" >17</th>\n",
       "                        <td id=\"T_2fab4802_dd73_11ea_9d81_4c1d96add1f7row17_col0\" class=\"data row17 col0\" >Ignore Low Variance </td>\n",
       "                        <td id=\"T_2fab4802_dd73_11ea_9d81_4c1d96add1f7row17_col1\" class=\"data row17 col1\" >True</td>\n",
       "            </tr>\n",
       "            <tr>\n",
       "                        <th id=\"T_2fab4802_dd73_11ea_9d81_4c1d96add1f7level0_row18\" class=\"row_heading level0 row18\" >18</th>\n",
       "                        <td id=\"T_2fab4802_dd73_11ea_9d81_4c1d96add1f7row18_col0\" class=\"data row18 col0\" >Combine Rare Levels </td>\n",
       "                        <td id=\"T_2fab4802_dd73_11ea_9d81_4c1d96add1f7row18_col1\" class=\"data row18 col1\" >False</td>\n",
       "            </tr>\n",
       "            <tr>\n",
       "                        <th id=\"T_2fab4802_dd73_11ea_9d81_4c1d96add1f7level0_row19\" class=\"row_heading level0 row19\" >19</th>\n",
       "                        <td id=\"T_2fab4802_dd73_11ea_9d81_4c1d96add1f7row19_col0\" class=\"data row19 col0\" >Rare Level Threshold </td>\n",
       "                        <td id=\"T_2fab4802_dd73_11ea_9d81_4c1d96add1f7row19_col1\" class=\"data row19 col1\" >None</td>\n",
       "            </tr>\n",
       "            <tr>\n",
       "                        <th id=\"T_2fab4802_dd73_11ea_9d81_4c1d96add1f7level0_row20\" class=\"row_heading level0 row20\" >20</th>\n",
       "                        <td id=\"T_2fab4802_dd73_11ea_9d81_4c1d96add1f7row20_col0\" class=\"data row20 col0\" >Numeric Binning </td>\n",
       "                        <td id=\"T_2fab4802_dd73_11ea_9d81_4c1d96add1f7row20_col1\" class=\"data row20 col1\" >False</td>\n",
       "            </tr>\n",
       "            <tr>\n",
       "                        <th id=\"T_2fab4802_dd73_11ea_9d81_4c1d96add1f7level0_row21\" class=\"row_heading level0 row21\" >21</th>\n",
       "                        <td id=\"T_2fab4802_dd73_11ea_9d81_4c1d96add1f7row21_col0\" class=\"data row21 col0\" >Remove Multicollinearity </td>\n",
       "                        <td id=\"T_2fab4802_dd73_11ea_9d81_4c1d96add1f7row21_col1\" class=\"data row21 col1\" >True</td>\n",
       "            </tr>\n",
       "            <tr>\n",
       "                        <th id=\"T_2fab4802_dd73_11ea_9d81_4c1d96add1f7level0_row22\" class=\"row_heading level0 row22\" >22</th>\n",
       "                        <td id=\"T_2fab4802_dd73_11ea_9d81_4c1d96add1f7row22_col0\" class=\"data row22 col0\" >Multicollinearity Threshold </td>\n",
       "                        <td id=\"T_2fab4802_dd73_11ea_9d81_4c1d96add1f7row22_col1\" class=\"data row22 col1\" >0.900000</td>\n",
       "            </tr>\n",
       "            <tr>\n",
       "                        <th id=\"T_2fab4802_dd73_11ea_9d81_4c1d96add1f7level0_row23\" class=\"row_heading level0 row23\" >23</th>\n",
       "                        <td id=\"T_2fab4802_dd73_11ea_9d81_4c1d96add1f7row23_col0\" class=\"data row23 col0\" >Group Features </td>\n",
       "                        <td id=\"T_2fab4802_dd73_11ea_9d81_4c1d96add1f7row23_col1\" class=\"data row23 col1\" >False</td>\n",
       "            </tr>\n",
       "    </tbody></table>"
      ],
      "text/plain": [
       "<pandas.io.formats.style.Styler at 0x1ef1a2265c0>"
      ]
     },
     "metadata": {},
     "output_type": "display_data"
    },
    {
     "name": "stderr",
     "output_type": "stream",
     "text": [
      "2020/08/13 10:42:17 WARNING mlflow.tracking.context.git_context: Failed to import Git (the Git executable is probably not on your PATH), so Git SHA is not available. Error: Failed to initialize: Bad git executable.\n",
      "The git executable must be specified in one of the following ways:\n",
      "    - be included in your $PATH\n",
      "    - be set via $GIT_PYTHON_GIT_EXECUTABLE\n",
      "    - explicitly set via git.refresh()\n",
      "\n",
      "All git commands will error until this is rectified.\n",
      "\n",
      "This initial warning can be silenced or aggravated in the future by setting the\n",
      "$GIT_PYTHON_REFRESH environment variable. Use one of the following values:\n",
      "    - quiet|q|silence|s|none|n|0: for no warning or exception\n",
      "    - warn|w|warning|1: for a printed warning\n",
      "    - error|e|raise|r|2: for a raised exception\n",
      "\n",
      "Example:\n",
      "    export GIT_PYTHON_REFRESH=quiet\n",
      "\n"
     ]
    }
   ],
   "source": [
    "# Set up data for clustering\n",
    "from pycaret.clustering import *\n",
    "\n",
    "clu1 = setup(df, \n",
    "             remove_multicollinearity = True, multicollinearity_threshold = 0.9, \n",
    "             session_id=123, log_experiment=True, log_plots = True, \n",
    "             transformation=True,          \n",
    "             ignore_low_variance = True )\n",
    "\n",
    "\n",
    "\n"
   ]
  },
  {
   "cell_type": "code",
   "execution_count": 6,
   "metadata": {
    "scrolled": true
   },
   "outputs": [
    {
     "data": {
      "text/plain": [
       "(          Age    Income  SpendingScore   Savings\n",
       " 0    0.013700  0.104533       1.095834 -1.076586\n",
       " 1    0.054429  0.213185       1.095079 -1.302050\n",
       " 2    0.175578  0.022564       0.815269 -0.537259\n",
       " 3    0.054429  0.012260       1.016603 -0.920296\n",
       " 4    1.134368 -1.680274      -0.533657  1.016885\n",
       " ..        ...       ...            ...       ...\n",
       " 500 -1.316147  0.725017      -0.364514  0.618524\n",
       " 501  1.353305 -1.606098      -1.233624  1.244567\n",
       " 502  1.244304 -1.112404      -0.505343  0.856251\n",
       " 503  1.280740 -1.580922      -0.507425  1.334014\n",
       " 504  1.207765 -1.269220      -0.806770  0.505479\n",
       " \n",
       " [505 rows x 4 columns],\n",
       "      Age  Income  SpendingScore       Savings\n",
       " 0     58   77769       0.791329   6559.829923\n",
       " 1     59   81799       0.791082   5417.661426\n",
       " 2     62   74751       0.702657   9258.992965\n",
       " 3     59   74373       0.765680   7346.334504\n",
       " 4     87   17760       0.348778  16869.507130\n",
       " ..   ...     ...            ...           ...\n",
       " 500   28  101206       0.387441  14936.775389\n",
       " 501   93   19934       0.203140  17969.693769\n",
       " 502   90   35297       0.355149  16091.401954\n",
       " 503   91   20681       0.354679  18401.088445\n",
       " 504   89   30267       0.289310  14386.351880\n",
       " \n",
       " [505 rows x 4 columns],\n",
       " 123,\n",
       " Pipeline(memory=None,\n",
       "          steps=[('dtypes',\n",
       "                  DataTypes_Auto_infer(categorical_features=[],\n",
       "                                       display_types=True, features_todrop=[],\n",
       "                                       ml_usecase='regression',\n",
       "                                       numerical_features=[],\n",
       "                                       target='dummy_target',\n",
       "                                       time_features=[])),\n",
       "                 ('imputer',\n",
       "                  Simple_Imputer(categorical_strategy='not_available',\n",
       "                                 numeric_strategy='mean',\n",
       "                                 target_variable=None)),\n",
       "                 ('new_levels1',\n",
       "                  New_Catagorical_L...\n",
       "                                                   target='dummy_target')),\n",
       "                 ('binn', Empty()), ('fix_perfect', Empty()),\n",
       "                 ('rem_outliers', Empty()),\n",
       "                 ('dummy', Dummify(target='dummy_target')),\n",
       "                 ('clean_names', Clean_Colum_Names()),\n",
       "                 ('fix_multi',\n",
       "                  Fix_multicollinearity(correlation_with_target_preference=None,\n",
       "                                        correlation_with_target_threshold=0.0,\n",
       "                                        target_variable='dummy_target',\n",
       "                                        threshold=0.9)),\n",
       "                 ('pca', Empty())],\n",
       "          verbose=False),\n",
       " <module 'pycaret.preprocess' from 'C:\\\\ProgramData\\\\Anaconda3\\\\envs\\\\pycaretenv\\\\lib\\\\site-packages\\\\pycaret\\\\preprocess.py'>,\n",
       " [('Clustering Setup Config',\n",
       "                        Description        Value\n",
       "   0                    session_id           123\n",
       "   1                 Original Data      (505, 4)\n",
       "   2                Missing Values         False\n",
       "   3              Numeric Features             4\n",
       "   4          Categorical Features             0\n",
       "   5              Ordinal Features         False\n",
       "   6     High Cardinality Features         False\n",
       "   7              Transformed Data      (505, 4)\n",
       "   8               Numeric Imputer          mean\n",
       "   9           Categorical Imputer      constant\n",
       "   10                    Normalize         False\n",
       "   11             Normalize Method          None\n",
       "   12               Transformation          True\n",
       "   13        Transformation Method   yeo-johnson\n",
       "   14                          PCA         False\n",
       "   15                   PCA Method          None\n",
       "   16               PCA components          None\n",
       "   17          Ignore Low Variance          True\n",
       "   18          Combine Rare Levels         False\n",
       "   19         Rare Level Threshold          None\n",
       "   20              Numeric Binning         False\n",
       "   21     Remove Multicollinearity          True\n",
       "   22  Multicollinearity Threshold           0.9\n",
       "   23               Group Features         False),\n",
       "  ('Orignal Dataset',\n",
       "        Age  Income  SpendingScore       Savings\n",
       "   0     58   77769       0.791329   6559.829923\n",
       "   1     59   81799       0.791082   5417.661426\n",
       "   2     62   74751       0.702657   9258.992965\n",
       "   3     59   74373       0.765680   7346.334504\n",
       "   4     87   17760       0.348778  16869.507130\n",
       "   ..   ...     ...            ...           ...\n",
       "   500   28  101206       0.387441  14936.775389\n",
       "   501   93   19934       0.203140  17969.693769\n",
       "   502   90   35297       0.355149  16091.401954\n",
       "   503   91   20681       0.354679  18401.088445\n",
       "   504   89   30267       0.289310  14386.351880\n",
       "   \n",
       "   [505 rows x 4 columns]),\n",
       "  ('Transformed Dataset',\n",
       "             Age    Income  SpendingScore   Savings\n",
       "   0    0.013700  0.104533       1.095834 -1.076586\n",
       "   1    0.054429  0.213185       1.095079 -1.302050\n",
       "   2    0.175578  0.022564       0.815269 -0.537259\n",
       "   3    0.054429  0.012260       1.016603 -0.920296\n",
       "   4    1.134368 -1.680274      -0.533657  1.016885\n",
       "   ..        ...       ...            ...       ...\n",
       "   500 -1.316147  0.725017      -0.364514  0.618524\n",
       "   501  1.353305 -1.606098      -1.233624  1.244567\n",
       "   502  1.244304 -1.112404      -0.505343  0.856251\n",
       "   503  1.280740 -1.580922      -0.507425  1.334014\n",
       "   504  1.207765 -1.269220      -0.806770  0.505479\n",
       "   \n",
       "   [505 rows x 4 columns]),\n",
       "  ('Transformation Pipeline',\n",
       "   Pipeline(memory=None,\n",
       "            steps=[('dtypes',\n",
       "                    DataTypes_Auto_infer(categorical_features=[],\n",
       "                                         display_types=True, features_todrop=[],\n",
       "                                         ml_usecase='regression',\n",
       "                                         numerical_features=[],\n",
       "                                         target='dummy_target',\n",
       "                                         time_features=[])),\n",
       "                   ('imputer',\n",
       "                    Simple_Imputer(categorical_strategy='not_available',\n",
       "                                   numeric_strategy='mean',\n",
       "                                   target_variable=None)),\n",
       "                   ('new_levels1',\n",
       "                    New_Catagorical_L...\n",
       "                                                     target='dummy_target')),\n",
       "                   ('binn', Empty()), ('fix_perfect', Empty()),\n",
       "                   ('rem_outliers', Empty()),\n",
       "                   ('dummy', Dummify(target='dummy_target')),\n",
       "                   ('clean_names', Clean_Colum_Names()),\n",
       "                   ('fix_multi',\n",
       "                    Fix_multicollinearity(correlation_with_target_preference=None,\n",
       "                                          correlation_with_target_threshold=0.0,\n",
       "                                          target_variable='dummy_target',\n",
       "                                          threshold=0.9)),\n",
       "                   ('pca', Empty())],\n",
       "            verbose=False))],\n",
       " -1,\n",
       " True,\n",
       " 'clu-default-name',\n",
       " True,\n",
       " True,\n",
       " '78ef')"
      ]
     },
     "execution_count": 6,
     "metadata": {},
     "output_type": "execute_result"
    }
   ],
   "source": [
    "# Display the data after set up\n",
    "clu1"
   ]
  },
  {
   "cell_type": "code",
   "execution_count": 7,
   "metadata": {},
   "outputs": [
    {
     "data": {
      "text/plain": [
       "tuple"
      ]
     },
     "execution_count": 7,
     "metadata": {},
     "output_type": "execute_result"
    },
    {
     "name": "stdout",
     "output_type": "stream",
     "text": [
      "          Age    Income  SpendingScore   Savings\n",
      "0    0.013700  0.104533       1.095834 -1.076586\n",
      "1    0.054429  0.213185       1.095079 -1.302050\n",
      "2    0.175578  0.022564       0.815269 -0.537259\n",
      "3    0.054429  0.012260       1.016603 -0.920296\n",
      "4    1.134368 -1.680274      -0.533657  1.016885\n",
      "..        ...       ...            ...       ...\n",
      "500 -1.316147  0.725017      -0.364514  0.618524\n",
      "501  1.353305 -1.606098      -1.233624  1.244567\n",
      "502  1.244304 -1.112404      -0.505343  0.856251\n",
      "503  1.280740 -1.580922      -0.507425  1.334014\n",
      "504  1.207765 -1.269220      -0.806770  0.505479\n",
      "\n",
      "[505 rows x 4 columns]\n"
     ]
    }
   ],
   "source": [
    "# Call out the transformed data\n",
    "\n",
    "type(clu1)\n",
    "transformedData = clu1[5][2][1]\n",
    "print(transformedData)"
   ]
  },
  {
   "cell_type": "code",
   "execution_count": 8,
   "metadata": {},
   "outputs": [
    {
     "data": {
      "text/html": [
       "<div>\n",
       "<style scoped>\n",
       "    .dataframe tbody tr th:only-of-type {\n",
       "        vertical-align: middle;\n",
       "    }\n",
       "\n",
       "    .dataframe tbody tr th {\n",
       "        vertical-align: top;\n",
       "    }\n",
       "\n",
       "    .dataframe thead th {\n",
       "        text-align: right;\n",
       "    }\n",
       "</style>\n",
       "<table border=\"1\" class=\"dataframe\">\n",
       "  <thead>\n",
       "    <tr style=\"text-align: right;\">\n",
       "      <th></th>\n",
       "      <th>Name</th>\n",
       "      <th>Reference</th>\n",
       "    </tr>\n",
       "    <tr>\n",
       "      <th>ID</th>\n",
       "      <th></th>\n",
       "      <th></th>\n",
       "    </tr>\n",
       "  </thead>\n",
       "  <tbody>\n",
       "    <tr>\n",
       "      <th>kmeans</th>\n",
       "      <td>K-Means Clustering</td>\n",
       "      <td>sklearn.cluster.KMeans</td>\n",
       "    </tr>\n",
       "    <tr>\n",
       "      <th>ap</th>\n",
       "      <td>Affinity Propagation</td>\n",
       "      <td>sklearn.cluster.AffinityPropagation</td>\n",
       "    </tr>\n",
       "    <tr>\n",
       "      <th>meanshift</th>\n",
       "      <td>Mean shift Clustering</td>\n",
       "      <td>sklearn.cluster.MeanShift</td>\n",
       "    </tr>\n",
       "    <tr>\n",
       "      <th>sc</th>\n",
       "      <td>Spectral Clustering</td>\n",
       "      <td>sklearn.cluster.SpectralClustering</td>\n",
       "    </tr>\n",
       "    <tr>\n",
       "      <th>hclust</th>\n",
       "      <td>Agglomerative Clustering</td>\n",
       "      <td>sklearn.cluster.AgglomerativeClustering</td>\n",
       "    </tr>\n",
       "    <tr>\n",
       "      <th>dbscan</th>\n",
       "      <td>Density-Based Spatial Clustering</td>\n",
       "      <td>sklearn.cluster.DBSCAN</td>\n",
       "    </tr>\n",
       "    <tr>\n",
       "      <th>optics</th>\n",
       "      <td>OPTICS Clustering</td>\n",
       "      <td>sklearn.cluster.OPTICS</td>\n",
       "    </tr>\n",
       "    <tr>\n",
       "      <th>birch</th>\n",
       "      <td>Birch Clustering</td>\n",
       "      <td>sklearn.cluster.Birch</td>\n",
       "    </tr>\n",
       "    <tr>\n",
       "      <th>kmodes</th>\n",
       "      <td>K-Modes Clustering</td>\n",
       "      <td>git/nicodv/kmodes</td>\n",
       "    </tr>\n",
       "  </tbody>\n",
       "</table>\n",
       "</div>"
      ],
      "text/plain": [
       "                                       Name  \\\n",
       "ID                                            \n",
       "kmeans                   K-Means Clustering   \n",
       "ap                     Affinity Propagation   \n",
       "meanshift             Mean shift Clustering   \n",
       "sc                      Spectral Clustering   \n",
       "hclust             Agglomerative Clustering   \n",
       "dbscan     Density-Based Spatial Clustering   \n",
       "optics                    OPTICS Clustering   \n",
       "birch                      Birch Clustering   \n",
       "kmodes                   K-Modes Clustering   \n",
       "\n",
       "                                         Reference  \n",
       "ID                                                  \n",
       "kmeans                      sklearn.cluster.KMeans  \n",
       "ap             sklearn.cluster.AffinityPropagation  \n",
       "meanshift                sklearn.cluster.MeanShift  \n",
       "sc              sklearn.cluster.SpectralClustering  \n",
       "hclust     sklearn.cluster.AgglomerativeClustering  \n",
       "dbscan                      sklearn.cluster.DBSCAN  \n",
       "optics                      sklearn.cluster.OPTICS  \n",
       "birch                        sklearn.cluster.Birch  \n",
       "kmodes                           git/nicodv/kmodes  "
      ]
     },
     "execution_count": 8,
     "metadata": {},
     "output_type": "execute_result"
    }
   ],
   "source": [
    "# Create models\n",
    "models()"
   ]
  },
  {
   "cell_type": "code",
   "execution_count": 14,
   "metadata": {},
   "outputs": [
    {
     "data": {
      "text/html": [
       "<div>\n",
       "<style scoped>\n",
       "    .dataframe tbody tr th:only-of-type {\n",
       "        vertical-align: middle;\n",
       "    }\n",
       "\n",
       "    .dataframe tbody tr th {\n",
       "        vertical-align: top;\n",
       "    }\n",
       "\n",
       "    .dataframe thead th {\n",
       "        text-align: right;\n",
       "    }\n",
       "</style>\n",
       "<table border=\"1\" class=\"dataframe\">\n",
       "  <thead>\n",
       "    <tr style=\"text-align: right;\">\n",
       "      <th></th>\n",
       "      <th>Metric</th>\n",
       "    </tr>\n",
       "  </thead>\n",
       "  <tbody>\n",
       "    <tr>\n",
       "      <th>Silhouette</th>\n",
       "      <td>0.8063</td>\n",
       "    </tr>\n",
       "    <tr>\n",
       "      <th>Calinski-Harabasz</th>\n",
       "      <td>3503.4024</td>\n",
       "    </tr>\n",
       "    <tr>\n",
       "      <th>Davies-Bouldin</th>\n",
       "      <td>0.2748</td>\n",
       "    </tr>\n",
       "  </tbody>\n",
       "</table>\n",
       "</div>"
      ],
      "text/plain": [
       "                      Metric\n",
       "Silhouette            0.8063\n",
       "Calinski-Harabasz  3503.4024\n",
       "Davies-Bouldin        0.2748"
      ]
     },
     "metadata": {},
     "output_type": "display_data"
    },
    {
     "data": {
      "text/plain": [
       "<Figure size 576x396 with 0 Axes>"
      ]
     },
     "metadata": {},
     "output_type": "display_data"
    }
   ],
   "source": [
    "# Create kmeans model\n",
    "kmeans = create_model('kmeans', num_clusters = 5)\n"
   ]
  },
  {
   "cell_type": "code",
   "execution_count": 12,
   "metadata": {},
   "outputs": [
    {
     "data": {
      "text/html": [
       "<div>\n",
       "<style scoped>\n",
       "    .dataframe tbody tr th:only-of-type {\n",
       "        vertical-align: middle;\n",
       "    }\n",
       "\n",
       "    .dataframe tbody tr th {\n",
       "        vertical-align: top;\n",
       "    }\n",
       "\n",
       "    .dataframe thead th {\n",
       "        text-align: right;\n",
       "    }\n",
       "</style>\n",
       "<table border=\"1\" class=\"dataframe\">\n",
       "  <thead>\n",
       "    <tr style=\"text-align: right;\">\n",
       "      <th></th>\n",
       "      <th>Age</th>\n",
       "      <th>Income</th>\n",
       "      <th>SpendingScore</th>\n",
       "      <th>Savings</th>\n",
       "      <th>Cluster</th>\n",
       "    </tr>\n",
       "  </thead>\n",
       "  <tbody>\n",
       "    <tr>\n",
       "      <th>0</th>\n",
       "      <td>58</td>\n",
       "      <td>77769</td>\n",
       "      <td>0.791329</td>\n",
       "      <td>6559.829923</td>\n",
       "      <td>Cluster 1</td>\n",
       "    </tr>\n",
       "    <tr>\n",
       "      <th>1</th>\n",
       "      <td>59</td>\n",
       "      <td>81799</td>\n",
       "      <td>0.791082</td>\n",
       "      <td>5417.661426</td>\n",
       "      <td>Cluster 1</td>\n",
       "    </tr>\n",
       "    <tr>\n",
       "      <th>2</th>\n",
       "      <td>62</td>\n",
       "      <td>74751</td>\n",
       "      <td>0.702657</td>\n",
       "      <td>9258.992965</td>\n",
       "      <td>Cluster 1</td>\n",
       "    </tr>\n",
       "    <tr>\n",
       "      <th>3</th>\n",
       "      <td>59</td>\n",
       "      <td>74373</td>\n",
       "      <td>0.765680</td>\n",
       "      <td>7346.334504</td>\n",
       "      <td>Cluster 1</td>\n",
       "    </tr>\n",
       "    <tr>\n",
       "      <th>4</th>\n",
       "      <td>87</td>\n",
       "      <td>17760</td>\n",
       "      <td>0.348778</td>\n",
       "      <td>16869.507130</td>\n",
       "      <td>Cluster 5</td>\n",
       "    </tr>\n",
       "  </tbody>\n",
       "</table>\n",
       "</div>"
      ],
      "text/plain": [
       "   Age  Income  SpendingScore       Savings    Cluster\n",
       "0   58   77769       0.791329   6559.829923  Cluster 1\n",
       "1   59   81799       0.791082   5417.661426  Cluster 1\n",
       "2   62   74751       0.702657   9258.992965  Cluster 1\n",
       "3   59   74373       0.765680   7346.334504  Cluster 1\n",
       "4   87   17760       0.348778  16869.507130  Cluster 5"
      ]
     },
     "execution_count": 12,
     "metadata": {},
     "output_type": "execute_result"
    }
   ],
   "source": [
    "# Assign kmeans model and export to csv\n",
    "kmeans_results = assign_model(kmeans)\n",
    "kmeans_results.head()\n",
    "kmeans_results.to_csv('kmeans_results_pycaret.csv')"
   ]
  },
  {
   "cell_type": "code",
   "execution_count": 68,
   "metadata": {},
   "outputs": [
    {
     "data": {
      "text/html": [
       "        <script type=\"text/javascript\">\n",
       "        window.PlotlyConfig = {MathJaxConfig: 'local'};\n",
       "        if (window.MathJax) {MathJax.Hub.Config({SVG: {font: \"STIX-Web\"}});}\n",
       "        if (typeof require !== 'undefined') {\n",
       "        require.undef(\"plotly\");\n",
       "        requirejs.config({\n",
       "            paths: {\n",
       "                'plotly': ['https://cdn.plot.ly/plotly-latest.min']\n",
       "            }\n",
       "        });\n",
       "        require(['plotly'], function(Plotly) {\n",
       "            window._Plotly = Plotly;\n",
       "        });\n",
       "        }\n",
       "        </script>\n",
       "        "
      ]
     },
     "metadata": {},
     "output_type": "display_data"
    },
    {
     "data": {
      "image/png": "[encoded data removed]",
      "text/plain": [
       "<Figure size 576x396 with 1 Axes>"
      ]
     },
     "metadata": {},
     "output_type": "display_data"
    }
   ],
   "source": [
    "# Plot silhouette graph\n",
    "plot_model(kmeans, plot = 'silhouette')"
   ]
  },
  {
   "cell_type": "code",
   "execution_count": 71,
   "metadata": {},
   "outputs": [
    {
     "data": {
      "text/html": [
       "        <script type=\"text/javascript\">\n",
       "        window.PlotlyConfig = {MathJaxConfig: 'local'};\n",
       "        if (window.MathJax) {MathJax.Hub.Config({SVG: {font: \"STIX-Web\"}});}\n",
       "        if (typeof require !== 'undefined') {\n",
       "        require.undef(\"plotly\");\n",
       "        requirejs.config({\n",
       "            paths: {\n",
       "                'plotly': ['https://cdn.plot.ly/plotly-latest.min']\n",
       "            }\n",
       "        });\n",
       "        require(['plotly'], function(Plotly) {\n",
       "            window._Plotly = Plotly;\n",
       "        });\n",
       "        }\n",
       "        </script>\n",
       "        "
      ]
     },
     "metadata": {},
     "output_type": "display_data"
    },
    {
     "data": {
      "image/png": "[encoded data removed]",
      "text/plain": [
       "<Figure size 576x396 with 1 Axes>"
      ]
     },
     "metadata": {},
     "output_type": "display_data"
    }
   ],
   "source": [
    "# Plot kmeans elbow graph\n",
    "plot_model(kmeans, plot = 'elbow')"
   ]
  },
  {
   "cell_type": "code",
   "execution_count": 69,
   "metadata": {},
   "outputs": [
    {
     "data": {
      "text/html": [
       "        <script type=\"text/javascript\">\n",
       "        window.PlotlyConfig = {MathJaxConfig: 'local'};\n",
       "        if (window.MathJax) {MathJax.Hub.Config({SVG: {font: \"STIX-Web\"}});}\n",
       "        if (typeof require !== 'undefined') {\n",
       "        require.undef(\"plotly\");\n",
       "        requirejs.config({\n",
       "            paths: {\n",
       "                'plotly': ['https://cdn.plot.ly/plotly-latest.min']\n",
       "            }\n",
       "        });\n",
       "        require(['plotly'], function(Plotly) {\n",
       "            window._Plotly = Plotly;\n",
       "        });\n",
       "        }\n",
       "        </script>\n",
       "        "
      ]
     },
     "metadata": {},
     "output_type": "display_data"
    },
    {
     "data": {
      "application/vnd.plotly.v1+json": {
       "config": {
        "plotlyServerURL": "https://plot.ly"
       },
       "data": [
        {
         "customdata": [
          [
           89
          ],
          [
           91
          ],
          [
           92
          ],
          [
           90
          ],
          [
           93
          ],
          [
           89
          ],
          [
           88
          ],
          [
           87
          ],
          [
           86
          ],
          [
           82
          ],
          [
           91
          ],
          [
           88
          ],
          [
           87
          ],
          [
           91
          ],
          [
           90
          ],
          [
           85
          ],
          [
           91
          ],
          [
           88
          ],
          [
           85
          ],
          [
           85
          ],
          [
           88
          ],
          [
           84
          ],
          [
           88
          ],
          [
           94
          ],
          [
           86
          ],
          [
           94
          ],
          [
           89
          ],
          [
           87
          ],
          [
           84
          ],
          [
           91
          ],
          [
           91
          ],
          [
           88
          ],
          [
           88
          ],
          [
           89
          ],
          [
           91
          ],
          [
           90
          ],
          [
           89
          ],
          [
           83
          ],
          [
           83
          ],
          [
           86
          ],
          [
           84
          ],
          [
           94
          ],
          [
           94
          ],
          [
           79
          ],
          [
           88
          ],
          [
           85
          ],
          [
           82
          ],
          [
           82
          ],
          [
           91
          ],
          [
           91
          ],
          [
           89
          ],
          [
           84
          ],
          [
           87
          ],
          [
           81
          ],
          [
           93
          ],
          [
           84
          ],
          [
           95
          ],
          [
           89
          ],
          [
           86
          ],
          [
           85
          ],
          [
           87
          ],
          [
           92
          ],
          [
           89
          ],
          [
           85
          ],
          [
           88
          ],
          [
           86
          ],
          [
           94
          ],
          [
           87
          ],
          [
           85
          ],
          [
           83
          ],
          [
           87
          ],
          [
           88
          ],
          [
           84
          ],
          [
           85
          ],
          [
           91
          ],
          [
           90
          ],
          [
           88
          ],
          [
           89
          ],
          [
           88
          ],
          [
           92
          ],
          [
           90
          ],
          [
           85
          ],
          [
           88
          ],
          [
           94
          ],
          [
           84
          ],
          [
           91
          ],
          [
           88
          ],
          [
           87
          ],
          [
           86
          ],
          [
           83
          ],
          [
           83
          ],
          [
           91
          ],
          [
           86
          ],
          [
           89
          ],
          [
           92
          ],
          [
           87
          ],
          [
           84
          ],
          [
           83
          ],
          [
           83
          ],
          [
           85
          ],
          [
           90
          ],
          [
           97
          ],
          [
           92
          ],
          [
           87
          ],
          [
           91
          ],
          [
           83
          ],
          [
           87
          ],
          [
           91
          ],
          [
           82
          ],
          [
           91
          ],
          [
           90
          ],
          [
           86
          ],
          [
           85
          ],
          [
           90
          ],
          [
           84
          ],
          [
           87
          ],
          [
           84
          ],
          [
           88
          ],
          [
           91
          ],
          [
           84
          ],
          [
           94
          ],
          [
           89
          ],
          [
           92
          ],
          [
           89
          ],
          [
           90
          ],
          [
           90
          ],
          [
           88
          ],
          [
           88
          ],
          [
           93
          ],
          [
           90
          ],
          [
           87
          ],
          [
           87
          ],
          [
           91
          ],
          [
           87
          ],
          [
           87
          ],
          [
           92
          ],
          [
           84
          ],
          [
           87
          ],
          [
           87
          ],
          [
           83
          ],
          [
           79
          ],
          [
           92
          ],
          [
           91
          ],
          [
           83
          ],
          [
           86
          ],
          [
           84
          ],
          [
           82
          ]
         ],
         "hoverlabel": {
          "namelength": 0
         },
         "hovertemplate": "Cluster=Cluster 0<br>PCA1=%{x}<br>PCA2=%{y}<br>Feature=%{customdata[0]}",
         "legendgroup": "Cluster=Cluster 0",
         "marker": {
          "color": "#636efa",
          "opacity": 0.5,
          "symbol": "circle"
         },
         "mode": "markers",
         "name": "Cluster=Cluster 0",
         "showlegend": true,
         "textposition": "top center",
         "type": "scatter",
         "x": [
          -1.8697280492822221,
          -2.434409452240331,
          -2.4264928677563407,
          -1.8685392009729573,
          -2.573251180005187,
          -2.0825488387367774,
          -2.1726275303271336,
          -2.0509914497973174,
          -2.3083745565709424,
          -2.0409297248188443,
          -2.3014860877684185,
          -1.9328812899277126,
          -2.2112114881979883,
          -1.941830217396177,
          -2.506327661246921,
          -2.073465438046343,
          -2.0397597688071043,
          -1.8391129584522707,
          -1.8312598260555624,
          -1.8203605363189377,
          -1.8179028009565337,
          -1.7823104435599608,
          -2.16763723554197,
          -2.0723362530196874,
          -1.9195349904205221,
          -2.0324573477442054,
          -2.116082246852266,
          -1.933866709547426,
          -2.0302665780186,
          -2.2358001519510866,
          -2.0280538892551094,
          -2.0874157729938436,
          -1.8354966996507216,
          -1.544833237561717,
          -2.456740223886677,
          -1.75781831703705,
          -1.9410288223098253,
          -2.1056752134257426,
          -2.062633174326468,
          -2.078129212955828,
          -2.0920785409420724,
          -2.388501760698686,
          -2.218504917204356,
          -1.6173369030791969,
          -2.1986747579336976,
          -2.098348376809807,
          -1.6642927252834203,
          -1.8931308692782232,
          -2.3543937200349037,
          -2.364292865128858,
          -2.157714119240597,
          -1.8350599673755954,
          -2.1155698357947905,
          -1.9065821086775259,
          -2.4156994450467693,
          -2.38210225209256,
          -2.3554662245072477,
          -2.213920210083084,
          -1.7249982423507855,
          -1.75099418299541,
          -1.996764985874087,
          -1.9988960783896637,
          -2.095399542784508,
          -2.016024532553483,
          -2.27619846625506,
          -2.2889074272684744,
          -2.028528867977642,
          -2.214180093266009,
          -2.2010305324025308,
          -1.6889642519699852,
          -1.5930428171318833,
          -1.9496018153742165,
          -1.841654787631974,
          -1.9379027196432868,
          -2.169876798095487,
          -2.1059714070515705,
          -1.9050708539721548,
          -2.2569291738145036,
          -2.017053989697897,
          -1.9316213773466568,
          -2.213609523539268,
          -2.1420245144677605,
          -1.9086935145347095,
          -2.2963285716234747,
          -2.067675219987386,
          -2.13540342553809,
          -2.3501939980199786,
          -1.8642300546387074,
          -2.127973371527552,
          -1.83725587443133,
          -2.075834863497948,
          -2.2682668429440165,
          -2.45257816416769,
          -2.031563122728981,
          -2.0663645413484715,
          -2.200578134323644,
          -1.789310258609948,
          -2.0321678851269134,
          -2.0754078003594625,
          -1.7509951256267824,
          -2.1023799169538546,
          -2.1331628517151247,
          -2.1275155265360484,
          -2.096353409278053,
          -2.2507286691543555,
          -2.1683199158883157,
          -1.9532680466193002,
          -2.1737801527393144,
          -1.9024417794162414,
          -2.1775890211238633,
          -2.0802942483176636,
          -2.0383210974174126,
          -1.8416815899287775,
          -2.0306149254956956,
          -2.3429814681922903,
          -1.9840517141780682,
          -2.150973438347759,
          -1.8308477570558004,
          -2.1790865314894234,
          -1.8198144426233003,
          -2.277429385314473,
          -1.930007864222133,
          -2.009514375504899,
          -1.6408923844731527,
          -1.9542313127111783,
          -1.8610601608814794,
          -2.39115476146643,
          -1.6663039497396257,
          -2.707704272816405,
          -2.009562745741259,
          -1.8827111419501743,
          -1.8376313868861256,
          -1.9905084148264245,
          -2.178457545857197,
          -1.924474898381085,
          -1.9471237092316096,
          -2.0051735109307396,
          -2.1443530777650897,
          -1.9240066060950782,
          -1.6635162684512903,
          -1.7242589064033047,
          -2.2926793799241785,
          -2.3766512846758046,
          -1.8717867086714808,
          -2.0729035379264222,
          -2.0406619679447626,
          -2.1586795450148273
         ],
         "xaxis": "x",
         "y": [
          -0.5805164265698372,
          -0.24464809305188878,
          -0.5223152797453512,
          -0.646512589588662,
          -0.5601757161893913,
          -0.5522831575898658,
          -0.39127121964390577,
          -0.3745370800907231,
          -0.06765341940763064,
          -0.15127575003775526,
          -0.9278015703632004,
          -0.46217940797732954,
          -0.8665194545259575,
          -0.4474985357594559,
          -0.3458391868660693,
          -0.5863263912488839,
          -0.5056552939718552,
          -0.6995563607527958,
          -0.6162852748867939,
          -0.4488179712511732,
          -0.531751864402695,
          -0.17582931957520756,
          -0.46891148853210995,
          -0.7217304623516894,
          -0.5390151390286889,
          -0.41296531679874515,
          -0.5718523623889735,
          -0.6325914202993487,
          -0.410684140260364,
          -0.4444059182231616,
          -0.6544788961337656,
          -0.6741591009069243,
          -0.7311063475017331,
          -1.1357583490086818,
          -0.2149934260760995,
          -0.6974569742995147,
          -0.5261186812267993,
          -0.58397975185848,
          -0.40286675253601484,
          -0.7184174711133118,
          -0.3236017857265204,
          -0.7336846203617965,
          -0.7970647759288879,
          -0.3145015151948761,
          -0.6446001105079334,
          -0.2661795286260783,
          -0.8615209458726673,
          -0.31930529170000077,
          -0.7051855275909662,
          -0.6143021309743978,
          -0.6781150497461609,
          -0.5962198951327754,
          -0.5819853496551203,
          -0.16871255960275408,
          -0.5883260957616696,
          -0.056021301731337556,
          -0.5337893768130518,
          -0.4557403569924211,
          -0.1342401326494584,
          -0.613766447660328,
          -0.5798839826265018,
          -0.4953877249370109,
          -0.8250823055352449,
          -0.41237474727593837,
          -0.1755786962408624,
          -0.04485464987958266,
          -0.728276688885474,
          -0.5808905194796489,
          -0.2545884323196625,
          -0.680248855997893,
          -0.2924473277628603,
          -1.0344856845282335,
          -0.3051126045403697,
          -0.28753924414760706,
          -0.6243609836837652,
          -0.42933757064153094,
          -0.5315276372180464,
          -0.255221928244276,
          -0.5177839284078175,
          -0.6482214557154231,
          -0.5318906661040491,
          -0.415846876312065,
          -0.6726174163454761,
          -0.49811683685423236,
          -0.6096569429464762,
          -0.5826941350892458,
          -0.5308599913770026,
          -0.5324358705767818,
          -0.08120090768069115,
          -0.42364773125641614,
          -0.10644304402683552,
          -0.4808961050879653,
          -0.4487369192532842,
          -0.7884261388730069,
          -0.4118351486427883,
          -0.554069585224186,
          -0.3758089690344978,
          -0.2999519467201972,
          -0.47456299995454343,
          -0.6656568722532703,
          -0.31251224674139927,
          -0.7074422913241161,
          -0.8564292881080303,
          -0.566370215361419,
          -0.43033285933146215,
          -0.23166647060625123,
          -0.44963058523596294,
          -0.5946229146229913,
          -0.3230601527205462,
          -0.5877756332419971,
          -0.6145576971608393,
          -0.547289089741102,
          -0.7564246595232503,
          -0.7729868189866745,
          -0.4258295603648385,
          -0.6440711179767933,
          -0.3728279094550169,
          -0.6355826840182314,
          -0.6108517483588553,
          -0.5599740335029505,
          -0.6379969887850206,
          -0.6443535416739371,
          -0.553322897746785,
          -0.6914141025040674,
          -0.41419669885929294,
          -0.5422549521155179,
          -0.5237968907636517,
          -0.7235074938340725,
          -0.2840625416465853,
          -0.5561029147461268,
          -0.7133896695498214,
          -0.6450394376349382,
          -0.552215307318975,
          -0.7134886382155601,
          -0.9713045528517574,
          -0.5731169250694227,
          -0.6891675147133185,
          -0.37459159845589657,
          -0.20396253486593707,
          -0.4682233578430872,
          -0.329127219123727,
          -0.6101991826767976,
          -0.05300649454133988,
          -0.3003232467793292,
          -0.4475575797003766,
          -0.4456363874126079,
          -0.30006515795971106
         ],
         "yaxis": "y"
        },
        {
         "customdata": [
          [
           65
          ],
          [
           57
          ],
          [
           65
          ],
          [
           59
          ],
          [
           61
          ],
          [
           60
          ],
          [
           55
          ],
          [
           63
          ],
          [
           62
          ],
          [
           59
          ],
          [
           67
          ],
          [
           58
          ],
          [
           66
          ],
          [
           58
          ],
          [
           57
          ],
          [
           57
          ],
          [
           66
          ],
          [
           59
          ],
          [
           68
          ],
          [
           61
          ],
          [
           58
          ],
          [
           59
          ],
          [
           61
          ],
          [
           64
          ],
          [
           63
          ],
          [
           64
          ],
          [
           62
          ],
          [
           61
          ],
          [
           62
          ],
          [
           67
          ],
          [
           61
          ],
          [
           57
          ],
          [
           63
          ],
          [
           56
          ],
          [
           51
          ],
          [
           59
          ],
          [
           58
          ],
          [
           55
          ],
          [
           61
          ],
          [
           55
          ],
          [
           58
          ],
          [
           68
          ],
          [
           58
          ],
          [
           67
          ],
          [
           56
          ],
          [
           59
          ],
          [
           59
          ],
          [
           57
          ],
          [
           60
          ],
          [
           67
          ],
          [
           61
          ],
          [
           60
          ],
          [
           59
          ],
          [
           57
          ],
          [
           59
          ],
          [
           59
          ],
          [
           58
          ],
          [
           63
          ],
          [
           61
          ],
          [
           56
          ],
          [
           58
          ],
          [
           56
          ],
          [
           59
          ],
          [
           61
          ],
          [
           60
          ],
          [
           56
          ],
          [
           63
          ],
          [
           58
          ],
          [
           59
          ],
          [
           62
          ],
          [
           59
          ],
          [
           59
          ],
          [
           65
          ],
          [
           64
          ],
          [
           59
          ],
          [
           59
          ],
          [
           61
          ],
          [
           64
          ],
          [
           58
          ],
          [
           57
          ],
          [
           58
          ],
          [
           56
          ],
          [
           63
          ],
          [
           58
          ],
          [
           60
          ],
          [
           58
          ],
          [
           62
          ],
          [
           66
          ],
          [
           66
          ],
          [
           63
          ],
          [
           64
          ],
          [
           62
          ],
          [
           62
          ],
          [
           60
          ],
          [
           65
          ],
          [
           60
          ],
          [
           63
          ],
          [
           56
          ],
          [
           58
          ],
          [
           62
          ],
          [
           56
          ],
          [
           59
          ],
          [
           65
          ],
          [
           62
          ],
          [
           59
          ],
          [
           64
          ],
          [
           66
          ],
          [
           59
          ],
          [
           59
          ],
          [
           59
          ],
          [
           62
          ],
          [
           59
          ],
          [
           54
          ],
          [
           61
          ],
          [
           55
          ],
          [
           53
          ],
          [
           55
          ],
          [
           61
          ],
          [
           59
          ],
          [
           59
          ],
          [
           56
          ],
          [
           61
          ],
          [
           61
          ],
          [
           60
          ],
          [
           57
          ],
          [
           61
          ],
          [
           55
          ],
          [
           53
          ],
          [
           61
          ],
          [
           64
          ],
          [
           62
          ],
          [
           55
          ],
          [
           58
          ],
          [
           57
          ],
          [
           58
          ],
          [
           64
          ],
          [
           57
          ],
          [
           63
          ],
          [
           53
          ],
          [
           56
          ],
          [
           60
          ],
          [
           55
          ],
          [
           60
          ],
          [
           61
          ],
          [
           62
          ],
          [
           61
          ],
          [
           56
          ],
          [
           64
          ],
          [
           62
          ],
          [
           62
          ],
          [
           62
          ],
          [
           58
          ],
          [
           56
          ],
          [
           58
          ],
          [
           58
          ],
          [
           60
          ],
          [
           59
          ]
         ],
         "hoverlabel": {
          "namelength": 0
         },
         "hovertemplate": "Cluster=Cluster 1<br>PCA1=%{x}<br>PCA2=%{y}<br>Feature=%{customdata[0]}",
         "legendgroup": "Cluster=Cluster 1",
         "marker": {
          "color": "#EF553B",
          "opacity": 0.5,
          "symbol": "circle"
         },
         "mode": "markers",
         "name": "Cluster=Cluster 1",
         "showlegend": true,
         "textposition": "top center",
         "type": "scatter",
         "x": [
          0.7239112201382846,
          0.9571353877952674,
          0.6478275645005543,
          1.148630911341342,
          0.7067815653426051,
          1.1042995032054315,
          1.2001761522613563,
          0.9005512076840446,
          0.913510898461857,
          1.2298121391581476,
          0.7700672272604187,
          1.1141007448294606,
          0.8792738469657456,
          1.2303912589888955,
          0.9338372084676223,
          1.2579324208643237,
          0.7618952590909004,
          1.010430889890269,
          0.9920509220265862,
          0.8130583991800271,
          1.110090111967917,
          1.0860834631559388,
          0.906327696371811,
          1.0307558481195223,
          0.587495020774433,
          0.9787343363735489,
          1.0389401959091815,
          0.8585655800673436,
          1.2202717551543694,
          0.7249920266719722,
          1.0057580252199225,
          1.0411652628551484,
          1.1223054064560902,
          1.0034312490135382,
          1.1995233369715046,
          1.2741578324324205,
          0.9635000489418426,
          0.9597714184823419,
          1.1797424349453591,
          0.9891262539028138,
          1.2033580787372493,
          0.7345224536973606,
          0.7012057006565174,
          1.1009880353844501,
          1.03153052906236,
          0.9780286611471134,
          1.2896994688891956,
          1.3096489367282758,
          0.8851694928542458,
          1.017774283463358,
          0.9274436793601518,
          0.900154839534069,
          0.8841763416019125,
          0.936687584956589,
          0.9097383481894072,
          0.8746209506670777,
          0.8948999863698722,
          0.8396236642159601,
          0.9290424183035485,
          1.0762714657361943,
          1.0077838123091274,
          1.1083351039976728,
          0.8882657128433469,
          0.9237975531166805,
          0.7536542920504703,
          1.1555901253734104,
          0.8515298284149736,
          1.1482022259284113,
          0.8311167460272423,
          0.917101851227257,
          1.0276462557383785,
          0.6422857813201294,
          0.8409539543751346,
          0.5769670648673789,
          0.8896978494461357,
          0.984440321205992,
          0.7154392143016086,
          0.8786678441937484,
          1.1468876247150963,
          1.1485118892294275,
          1.1322172843358063,
          0.9717515952895664,
          1.0952935033637554,
          0.9587404739564881,
          1.344363470386025,
          0.9274461945087721,
          0.9632799957287449,
          0.9525916330653011,
          0.9431516159078607,
          1.1354956368540747,
          0.971444747927849,
          0.8562799812956972,
          0.7249837560928997,
          0.8649715699350828,
          0.8476895267480912,
          0.7922339525591616,
          1.1922844949437712,
          1.1871770375613515,
          1.0575568848340322,
          0.8490308300039281,
          0.9023436791080554,
          0.8781458068178456,
          0.8870065000324077,
          0.9235060256341693,
          0.9521164820641914,
          1.0634574127660064,
          1.0537081823530925,
          0.6357717909350328,
          1.101807742700451,
          1.3006755047034924,
          0.6005385777151324,
          0.95984658365927,
          1.1697346195328324,
          0.9264159454924336,
          0.9406912733862142,
          1.3394961401468366,
          1.075892886938178,
          0.9565958187381567,
          0.9566943442267907,
          0.8850119549128225,
          0.831873188839805,
          1.1636286139111318,
          0.876634876597755,
          0.933315807089178,
          1.0012029912185747,
          0.963194869371253,
          1.1846884299933702,
          0.8561992797300061,
          1.1738067741239218,
          0.6391237210213268,
          1.122260656473749,
          0.9724171706319942,
          0.943688615428215,
          1.1403409067101886,
          0.9302440657310584,
          0.9542073864397952,
          1.196204847766827,
          0.7468121011647828,
          1.0002245891757409,
          0.7937665202778104,
          0.6600458052850804,
          1.3537747237686777,
          0.9380694584256887,
          0.6666187788730189,
          0.7842922234584785,
          0.7496519064749219,
          0.8368247283629235,
          1.052795914092742,
          1.0298407611661433,
          0.9617402458141201,
          0.839738412176907,
          1.2492430376410202,
          1.0237673233968174,
          1.0859190974687243,
          1.2767029202859064,
          0.9828233353724,
          0.9044526928941075
         ],
         "xaxis": "x",
         "y": [
          -1.0507470349734904,
          -0.9565819796170687,
          -1.0359646762228452,
          -1.3121424450067765,
          -0.8793663591691477,
          -1.348768057288338,
          -1.015827952741259,
          -1.0610728540732426,
          -1.3337170540163852,
          -1.1517869497731896,
          -1.4642365784839704,
          -0.9421656927207698,
          -1.046145579101808,
          -1.2819246368405388,
          -1.1029271622884147,
          -1.1249923805906836,
          -1.121532982997155,
          -1.12481585565712,
          -1.2434959251847706,
          -0.8845749062692375,
          -1.2400731019552833,
          -1.0614239888146544,
          -1.0511809661886875,
          -1.155176797443866,
          -1.2657504433580289,
          -1.0343041033681748,
          -1.3354215530049682,
          -1.118168605139058,
          -1.3105601054950982,
          -1.2147689018237111,
          -0.9559112403520237,
          -1.0164501160909123,
          -1.4914780162827943,
          -0.7525024627463048,
          -0.9477794401632047,
          -1.0463684634358998,
          -0.7727413564345438,
          -1.0513254462232922,
          -1.3369076902187333,
          -0.7822596239105338,
          -1.1123684216426564,
          -1.2291518684300584,
          -0.8434352647277826,
          -1.2445037590847663,
          -0.9728022402340457,
          -1.0665351333493085,
          -0.8636901977227738,
          -1.0741646084522773,
          -1.0239607621545121,
          -1.1656553153572782,
          -1.23593564395872,
          -0.9546617155047082,
          -0.883460326232841,
          -1.0995649396023361,
          -1.414951087765637,
          -1.0453663262140032,
          -0.9811823394698048,
          -1.114488044198396,
          -1.0753706347754173,
          -1.1747153624334554,
          -0.9053816282992313,
          -0.9580578179176918,
          -1.1006490408047043,
          -1.1172042807724425,
          -1.1145607567968934,
          -0.9365035619575762,
          -0.8140489820848756,
          -1.0037927169385228,
          -0.758435179968551,
          -1.190639352771616,
          -1.1511135727122206,
          -0.8817110002017661,
          -1.0784400580942912,
          -1.1297691314887484,
          -0.6885532249176779,
          -1.0678256384123315,
          -1.042096056939778,
          -1.3264010299557352,
          -1.0152786302882955,
          -1.0099903883596038,
          -1.1494041562954525,
          -0.5649600821262502,
          -0.9611063612314243,
          -1.0432359401220646,
          -1.1927289211003644,
          -0.9959200993131953,
          -1.0837930828009537,
          -1.2809187624549898,
          -1.4349214298920447,
          -1.317022034496794,
          -1.269523681122866,
          -1.2523686077315679,
          -1.1918147399627204,
          -1.0532901989434427,
          -1.3159987548266672,
          -0.9398166771098884,
          -1.1301357535798997,
          -0.8125526735700419,
          -1.0091355521181082,
          -1.054976666022166,
          -0.9336007915987249,
          -1.0463193934652173,
          -1.3435832857455183,
          -0.8595055605314001,
          -1.1563579576315994,
          -0.891828490987825,
          -1.087713520984252,
          -0.7367980450519105,
          -1.149041291902285,
          -1.0677674191672901,
          -0.7548244477818224,
          -0.9748347344571849,
          -0.9198672968790512,
          -1.1290579834183962,
          -0.8808471845883361,
          -0.9913379913927998,
          -0.8568977558910137,
          -0.9855813347503578,
          -1.2166843588808522,
          -1.0165017672645724,
          -1.032181050886837,
          -1.2056989722609774,
          -1.281890310531212,
          -1.1153776376066373,
          -0.8833160228396809,
          -1.1033987930252478,
          -1.02806344702206,
          -0.969580679782165,
          -1.3728850855905388,
          -1.2502687489679603,
          -1.3655426725674513,
          -0.9207784656681911,
          -0.9083467846147816,
          -0.9227179212670819,
          -0.8523800969479176,
          -1.0465531834828221,
          -1.1065738734144612,
          -1.0451032464753884,
          -0.7626500679044004,
          -1.0760098573240726,
          -0.983773436033552,
          -1.1631989621469194,
          -1.1838093703927492,
          -0.9215721697739372,
          -1.063949412004081,
          -1.0145670833985094,
          -0.9568953644188056,
          -0.9213721361046181,
          -1.0482490063880947,
          -1.2186962045310639,
          -1.1551968788296632,
          -1.0523088391424915,
          -1.1033585592811566,
          -0.9452613546469523,
          -1.0100873588647488,
          -1.2485588625603425,
          -0.9647568583715012
         ],
         "yaxis": "y"
        },
        {
         "customdata": [
          [
           36
          ],
          [
           29
          ],
          [
           31
          ],
          [
           31
          ],
          [
           38
          ],
          [
           30
          ],
          [
           39
          ],
          [
           36
          ],
          [
           35
          ],
          [
           30
          ],
          [
           29
          ],
          [
           33
          ],
          [
           33
          ],
          [
           32
          ],
          [
           38
          ],
          [
           37
          ],
          [
           35
          ],
          [
           36
          ],
          [
           32
          ],
          [
           31
          ],
          [
           37
          ],
          [
           36
          ],
          [
           31
          ],
          [
           37
          ],
          [
           35
          ],
          [
           35
          ],
          [
           37
          ],
          [
           34
          ],
          [
           44
          ],
          [
           31
          ],
          [
           25
          ],
          [
           22
          ],
          [
           29
          ],
          [
           31
          ],
          [
           38
          ],
          [
           33
          ],
          [
           33
          ],
          [
           29
          ],
          [
           32
          ],
          [
           30
          ],
          [
           31
          ],
          [
           31
          ],
          [
           30
          ],
          [
           36
          ],
          [
           30
          ],
          [
           28
          ],
          [
           37
          ],
          [
           29
          ],
          [
           31
          ],
          [
           33
          ],
          [
           32
          ],
          [
           36
          ],
          [
           36
          ],
          [
           29
          ],
          [
           31
          ],
          [
           34
          ],
          [
           39
          ],
          [
           36
          ],
          [
           34
          ],
          [
           37
          ],
          [
           25
          ],
          [
           31
          ],
          [
           35
          ],
          [
           28
          ],
          [
           33
          ],
          [
           31
          ],
          [
           28
          ],
          [
           39
          ],
          [
           31
          ],
          [
           27
          ],
          [
           34
          ],
          [
           29
          ],
          [
           43
          ],
          [
           33
          ],
          [
           26
          ],
          [
           24
          ],
          [
           31
          ],
          [
           29
          ],
          [
           33
          ],
          [
           36
          ],
          [
           31
          ],
          [
           40
          ],
          [
           42
          ],
          [
           32
          ],
          [
           37
          ],
          [
           34
          ],
          [
           33
          ],
          [
           35
          ],
          [
           37
          ],
          [
           28
          ],
          [
           33
          ],
          [
           33
          ],
          [
           29
          ],
          [
           28
          ],
          [
           31
          ],
          [
           37
          ],
          [
           31
          ],
          [
           33
          ],
          [
           30
          ],
          [
           30
          ],
          [
           34
          ],
          [
           30
          ],
          [
           30
          ],
          [
           29
          ],
          [
           30
          ],
          [
           34
          ],
          [
           37
          ],
          [
           34
          ],
          [
           38
          ],
          [
           33
          ],
          [
           34
          ],
          [
           30
          ],
          [
           35
          ],
          [
           36
          ],
          [
           29
          ],
          [
           32
          ],
          [
           35
          ],
          [
           28
          ],
          [
           31
          ],
          [
           34
          ],
          [
           35
          ],
          [
           33
          ],
          [
           28
          ],
          [
           32
          ],
          [
           34
          ],
          [
           35
          ]
         ],
         "hoverlabel": {
          "namelength": 0
         },
         "hovertemplate": "Cluster=Cluster 2<br>PCA1=%{x}<br>PCA2=%{y}<br>Feature=%{customdata[0]}",
         "legendgroup": "Cluster=Cluster 2",
         "marker": {
          "color": "#00cc96",
          "opacity": 0.5,
          "symbol": "circle"
         },
         "mode": "markers",
         "name": "Cluster=Cluster 2",
         "showlegend": true,
         "textposition": "top center",
         "type": "scatter",
         "x": [
          0.09673032822120745,
          0.25042651146460215,
          0.38710406497924066,
          0.5185981404318576,
          0.2650154277043922,
          0.3069078787811712,
          -0.006468025279818359,
          0.3437587941710388,
          0.024001307254419943,
          0.3057930567850856,
          0.584759073105424,
          0.08024305381566141,
          0.2936124222088349,
          0.3727728318957418,
          0.3664728401947459,
          0.15198305961188927,
          0.11071991137137464,
          0.20567888975494616,
          -0.04968093964063528,
          0.5452752093266902,
          -0.16677564882897886,
          0.2679191814272718,
          0.39146386686634094,
          0.3414146466230355,
          0.19548578829641963,
          0.22406947728996734,
          0.4282798729004831,
          0.17234856466096352,
          0.2247760568948386,
          0.053964472537442285,
          0.35579426205444237,
          0.4927454296214791,
          0.20276288878265805,
          0.027736853226805594,
          -0.048888915492323944,
          0.22337118271621278,
          0.36194896264686816,
          0.38907561819711867,
          0.07995823881348534,
          0.3625065507971224,
          0.3971649995899922,
          0.4729348531496343,
          0.4919717971174586,
          -0.13685559370131772,
          0.30313547144560254,
          0.4984012657689416,
          -0.08303284009090857,
          0.6286924870783729,
          0.5284487627009915,
          0.22660349946699965,
          0.5054336761019059,
          -0.0038820277293611333,
          -0.03804973889746746,
          0.4402666879537103,
          0.14417381093558193,
          0.05733948358088145,
          -0.19665034354948738,
          0.134481236165202,
          -0.03495992933636098,
          0.35957420818189584,
          0.490435522567851,
          0.7852626925848276,
          0.22722301373569634,
          0.1487020669596357,
          0.4086770958302612,
          0.4655146363510323,
          0.1940061790898513,
          0.023800034019156778,
          0.45112566394768244,
          0.32968656590210194,
          0.4591164161866805,
          0.5237234715682929,
          0.20141490529333217,
          0.4503179507765595,
          0.20578940530668322,
          0.5360012104415603,
          0.28969226438189866,
          0.690906723567272,
          0.28304917380758693,
          0.12793108986064058,
          0.27307896834242595,
          -0.16363100906070185,
          0.13257246875515516,
          0.2219583717509898,
          0.16776579028489855,
          0.3449593972426621,
          0.44282179644137876,
          0.24261077787919458,
          -0.14116088760897288,
          0.4814838044302811,
          0.07393711916142034,
          0.36602249697063527,
          0.2216738934979723,
          0.20166698692266166,
          0.399166416897995,
          0.21653502421287846,
          0.43487049606147715,
          0.30058208311151907,
          0.12145280919457399,
          0.29862034062206516,
          -0.2548237528180676,
          0.48450085362116724,
          0.5794692124747521,
          0.30784219342862384,
          0.13738956128030835,
          0.28393760556401304,
          0.20330526748275352,
          0.2046623125481884,
          0.29504088373913595,
          -0.014697097471744936,
          0.33143705425093956,
          0.4346602593531404,
          0.3452905327995578,
          0.26913818104696025,
          0.3018537489358099,
          0.015327966610085139,
          0.11048998627359029,
          0.640083955100535,
          0.30853165705142777,
          0.426339310227902,
          -0.053834708931847504,
          0.25683385611223836,
          0.2973083261170753,
          0.46404467576637776,
          0.2880639750193823,
          0.4230093119167909
         ],
         "xaxis": "x",
         "y": [
          1.6883803368860282,
          1.7045737168680584,
          1.6327021954108745,
          1.6110514952537338,
          1.3083700428412073,
          1.8163264661040186,
          1.4065030087999912,
          1.4900560698948315,
          1.8335899900320298,
          1.4227930628879149,
          1.663613175996638,
          1.5786771127142127,
          1.264013377462412,
          1.5950420209258984,
          1.5049755155184428,
          1.6813486703531937,
          1.6282156708943851,
          1.4236760759691667,
          1.8084510956242181,
          1.6225836216764207,
          1.9774513127660724,
          1.3625596570144105,
          1.52463817050699,
          1.5060626653747764,
          1.5491572950554597,
          1.5579353422760727,
          1.3538259752633228,
          1.5985063871979601,
          1.431478595139497,
          1.879212174498775,
          1.8030470223324389,
          1.9718039845992688,
          1.6763723210811776,
          1.7775658109685324,
          1.3356345326366277,
          1.725791681996304,
          1.544971007287245,
          1.5835804046764868,
          1.8817135560796954,
          1.553462642661909,
          1.5611120792695707,
          1.6131155536732487,
          1.4004458102457686,
          1.709337162867264,
          1.4356540674669325,
          1.4668140133406482,
          1.7477775151104065,
          1.7706295477806975,
          1.7138725020207166,
          1.5336527633449721,
          1.7349848989221501,
          1.5056229051014898,
          1.5639820418294053,
          1.6176442163635727,
          1.73116625072267,
          1.5652697184166733,
          1.6777087208849673,
          1.66696882119156,
          1.788117522181012,
          1.3842669781928516,
          1.724598229783462,
          1.2961194698254566,
          1.6914136090722671,
          1.841091128649502,
          1.748374953865555,
          1.6949834534892416,
          1.6256572190401368,
          1.373251559171965,
          1.6261973246818524,
          1.8825045705647967,
          1.3652888788155262,
          1.800776487686494,
          1.1172874659131973,
          1.300892283960428,
          1.7808274530189123,
          1.902871708774997,
          1.6938535756527968,
          1.5046695624157949,
          1.3339903084159737,
          1.6563184455170614,
          1.948723705925217,
          1.539214376484883,
          1.3794772197998677,
          1.6538061883701927,
          1.5884879805808447,
          1.1115856337569499,
          1.7178062831537215,
          1.8213872096778956,
          1.6330479814137964,
          1.858779650834613,
          1.9754941876402792,
          1.601550924718381,
          1.5545837401125537,
          1.7577290127423641,
          1.3979723220008213,
          1.25188262081358,
          1.6665504109774725,
          1.5767779928226533,
          1.9802749942157685,
          1.779841048936421,
          1.9388703447510922,
          1.5308144735053286,
          1.5592465200220986,
          1.6832209909007443,
          1.8001751549855391,
          1.5811689876494455,
          1.5979907566980192,
          1.6348950978265089,
          1.6111760839375877,
          1.771970243004947,
          1.8559979497540275,
          1.6911797176787826,
          1.3469663712514408,
          1.4903918198750619,
          1.8607182156336632,
          1.6530802508705518,
          1.6112778160406769,
          1.565138920568123,
          1.65832577066864,
          1.5506070567409977,
          1.880504182184665,
          1.669142672132959,
          1.6131913255928783,
          1.6197173738617596,
          1.339220691513907,
          1.5933858435585802
         ],
         "yaxis": "y"
        },
        {
         "customdata": [
          [
           20
          ],
          [
           26
          ],
          [
           17
          ],
          [
           25
          ],
          [
           18
          ],
          [
           28
          ],
          [
           28
          ],
          [
           21
          ],
          [
           17
          ],
          [
           24
          ],
          [
           24
          ],
          [
           30
          ],
          [
           23
          ],
          [
           25
          ],
          [
           23
          ],
          [
           26
          ],
          [
           22
          ],
          [
           29
          ],
          [
           22
          ],
          [
           25
          ],
          [
           23
          ],
          [
           25
          ],
          [
           21
          ],
          [
           28
          ],
          [
           27
          ],
          [
           27
          ],
          [
           25
          ],
          [
           20
          ],
          [
           17
          ],
          [
           24
          ],
          [
           24
          ],
          [
           27
          ],
          [
           28
          ],
          [
           29
          ],
          [
           20
          ],
          [
           28
          ],
          [
           31
          ],
          [
           26
          ],
          [
           26
          ],
          [
           23
          ],
          [
           24
          ],
          [
           24
          ],
          [
           29
          ],
          [
           25
          ],
          [
           24
          ],
          [
           22
          ],
          [
           26
          ],
          [
           17
          ],
          [
           28
          ],
          [
           18
          ]
         ],
         "hoverlabel": {
          "namelength": 0
         },
         "hovertemplate": "Cluster=Cluster 3<br>PCA1=%{x}<br>PCA2=%{y}<br>Feature=%{customdata[0]}",
         "legendgroup": "Cluster=Cluster 3",
         "marker": {
          "color": "#ab63fa",
          "opacity": 0.5,
          "symbol": "circle"
         },
         "mode": "markers",
         "name": "Cluster=Cluster 3",
         "showlegend": true,
         "textposition": "top center",
         "type": "scatter",
         "x": [
          2.9746754371514825,
          2.640843241893842,
          3.174508943970732,
          2.8393403842736813,
          2.895151046938777,
          2.5924747891532167,
          2.5781609522364097,
          3.069942802316508,
          3.226889225110597,
          3.0316088334899116,
          3.272920432210054,
          2.5319520001292095,
          3.2150627218039767,
          2.995478237895019,
          2.962705253782905,
          2.921754004535288,
          2.926771944159538,
          2.855974600756293,
          3.179855781881797,
          2.731893082559852,
          2.7956134120132616,
          2.924833848117506,
          3.015997241498176,
          2.6742850000849936,
          2.813779616507524,
          2.7278880570709094,
          2.6524433273146073,
          2.8919325130956586,
          3.574659076465146,
          2.9488018362117545,
          3.0282067846672174,
          3.0369381609667565,
          2.9445626913206135,
          2.912240638098012,
          2.946174796554267,
          3.017276907678435,
          2.8120134954171805,
          2.8932637199609275,
          2.6960211291052683,
          2.998489358625382,
          3.069820746052281,
          2.9683775865455604,
          2.9232445728248004,
          3.217300822203086,
          2.79228384382904,
          2.894059984176769,
          2.9771795063443514,
          3.280104640371691,
          3.1151268129853094,
          3.0082481072070255
         ],
         "xaxis": "x",
         "y": [
          0.18812441934617055,
          0.20007400245974,
          0.048418175898206794,
          0.15108398587787242,
          0.2932077351659222,
          -0.09778160567888099,
          0.005986017086142222,
          0.07048902990258887,
          0.278510961124053,
          0.11792704083326908,
          -0.011433907512107258,
          -0.016054823596124153,
          0.08407239346363263,
          0.0016140903642261478,
          0.1153453541325655,
          -0.20465230850872485,
          0.28247214165392,
          -0.005594946396853922,
          0.05253080601071553,
          0.20866220429412677,
          0.017222496205368868,
          0.03491418959418737,
          0.04887447278271473,
          0.06420133505403501,
          -0.1292777025450038,
          -0.09820174672237966,
          0.05766718346507335,
          0.27490967861885235,
          0.042457019736512426,
          0.09223412829220491,
          0.08174843209851099,
          -0.2738297104010226,
          -0.30204787320671334,
          0.12579515625111298,
          0.08272269299997426,
          -0.19393570460246945,
          -0.2748720695213678,
          0.07596964552686293,
          0.058448895029823256,
          0.016411353091425707,
          -0.08630325203006894,
          0.06693014037081221,
          -0.2966922491996123,
          -0.025878210675484566,
          -0.03384346825793681,
          -0.07605865447778332,
          -0.10114428493012478,
          0.2499176026387909,
          -0.36229901638415773,
          0.31381771787645424
         ],
         "yaxis": "y"
        },
        {
         "customdata": [
          [
           84
          ],
          [
           85
          ],
          [
           84
          ],
          [
           83
          ],
          [
           93
          ],
          [
           88
          ],
          [
           82
          ],
          [
           84
          ],
          [
           87
          ],
          [
           92
          ],
          [
           90
          ],
          [
           86
          ],
          [
           88
          ],
          [
           86
          ],
          [
           84
          ],
          [
           88
          ],
          [
           82
          ],
          [
           89
          ],
          [
           85
          ],
          [
           77
          ],
          [
           83
          ],
          [
           86
          ],
          [
           83
          ],
          [
           90
          ],
          [
           91
          ]
         ],
         "hoverlabel": {
          "namelength": 0
         },
         "hovertemplate": "Cluster=Cluster 4<br>PCA1=%{x}<br>PCA2=%{y}<br>Feature=%{customdata[0]}",
         "legendgroup": "Cluster=Cluster 4",
         "marker": {
          "color": "#FFA15A",
          "opacity": 0.5,
          "symbol": "circle"
         },
         "mode": "markers",
         "name": "Cluster=Cluster 4",
         "showlegend": true,
         "textposition": "top center",
         "type": "scatter",
         "x": [
          -1.2979515263060244,
          -1.5495777609132402,
          -1.2100457107383853,
          -1.0059359967728807,
          -1.3360268955174621,
          -1.2001127180569242,
          -1.111675812656091,
          -1.3408525815750545,
          -1.0284353284046783,
          -1.2116106454713147,
          -1.3668130185716867,
          -0.8396280683107497,
          -1.2193542424079018,
          -1.452482968769698,
          -1.0162690443379765,
          -1.7825271707199983,
          -1.1718483189508542,
          -1.387047552886112,
          -1.093176987418459,
          -1.0109589668412193,
          -1.2456794724832783,
          -1.3186928055634528,
          -1.3536715194939581,
          -1.0467426045995583,
          -1.4038953738793851
         ],
         "xaxis": "x",
         "y": [
          1.3893135331933018,
          1.621383993138039,
          1.4428374080067072,
          1.2611942597080201,
          1.5734980156902059,
          1.553967731369672,
          1.595607802887946,
          1.4527034625685618,
          1.1905123991311308,
          1.3791437465862457,
          1.6266147798411421,
          1.325933796638322,
          1.4554452456257119,
          1.8626551648882521,
          1.448700704725732,
          1.7862055583020957,
          1.7138756056786228,
          1.4915980298420346,
          1.321512107655857,
          1.8538623688858593,
          1.5515629751998394,
          1.4864784540101592,
          1.71262746159195,
          1.1704962541165729,
          1.5183231476048826
         ],
         "yaxis": "y"
        }
       ],
       "layout": {
        "height": 600,
        "legend": {
         "tracegroupgap": 0
        },
        "margin": {
         "t": 60
        },
        "plot_bgcolor": "rgb(240,240,240)",
        "template": {
         "data": {
          "bar": [
           {
            "error_x": {
             "color": "#2a3f5f"
            },
            "error_y": {
             "color": "#2a3f5f"
            },
            "marker": {
             "line": {
              "color": "#E5ECF6",
              "width": 0.5
             }
            },
            "type": "bar"
           }
          ],
          "barpolar": [
           {
            "marker": {
             "line": {
              "color": "#E5ECF6",
              "width": 0.5
             }
            },
            "type": "barpolar"
           }
          ],
          "carpet": [
           {
            "aaxis": {
             "endlinecolor": "#2a3f5f",
             "gridcolor": "white",
             "linecolor": "white",
             "minorgridcolor": "white",
             "startlinecolor": "#2a3f5f"
            },
            "baxis": {
             "endlinecolor": "#2a3f5f",
             "gridcolor": "white",
             "linecolor": "white",
             "minorgridcolor": "white",
             "startlinecolor": "#2a3f5f"
            },
            "type": "carpet"
           }
          ],
          "choropleth": [
           {
            "colorbar": {
             "outlinewidth": 0,
             "ticks": ""
            },
            "type": "choropleth"
           }
          ],
          "contour": [
           {
            "colorbar": {
             "outlinewidth": 0,
             "ticks": ""
            },
            "colorscale": [
             [
              0,
              "#0d0887"
             ],
             [
              0.1111111111111111,
              "#46039f"
             ],
             [
              0.2222222222222222,
              "#7201a8"
             ],
             [
              0.3333333333333333,
              "#9c179e"
             ],
             [
              0.4444444444444444,
              "#bd3786"
             ],
             [
              0.5555555555555556,
              "#d8576b"
             ],
             [
              0.6666666666666666,
              "#ed7953"
             ],
             [
              0.7777777777777778,
              "#fb9f3a"
             ],
             [
              0.8888888888888888,
              "#fdca26"
             ],
             [
              1,
              "#f0f921"
             ]
            ],
            "type": "contour"
           }
          ],
          "contourcarpet": [
           {
            "colorbar": {
             "outlinewidth": 0,
             "ticks": ""
            },
            "type": "contourcarpet"
           }
          ],
          "heatmap": [
           {
            "colorbar": {
             "outlinewidth": 0,
             "ticks": ""
            },
            "colorscale": [
             [
              0,
              "#0d0887"
             ],
             [
              0.1111111111111111,
              "#46039f"
             ],
             [
              0.2222222222222222,
              "#7201a8"
             ],
             [
              0.3333333333333333,
              "#9c179e"
             ],
             [
              0.4444444444444444,
              "#bd3786"
             ],
             [
              0.5555555555555556,
              "#d8576b"
             ],
             [
              0.6666666666666666,
              "#ed7953"
             ],
             [
              0.7777777777777778,
              "#fb9f3a"
             ],
             [
              0.8888888888888888,
              "#fdca26"
             ],
             [
              1,
              "#f0f921"
             ]
            ],
            "type": "heatmap"
           }
          ],
          "heatmapgl": [
           {
            "colorbar": {
             "outlinewidth": 0,
             "ticks": ""
            },
            "colorscale": [
             [
              0,
              "#0d0887"
             ],
             [
              0.1111111111111111,
              "#46039f"
             ],
             [
              0.2222222222222222,
              "#7201a8"
             ],
             [
              0.3333333333333333,
              "#9c179e"
             ],
             [
              0.4444444444444444,
              "#bd3786"
             ],
             [
              0.5555555555555556,
              "#d8576b"
             ],
             [
              0.6666666666666666,
              "#ed7953"
             ],
             [
              0.7777777777777778,
              "#fb9f3a"
             ],
             [
              0.8888888888888888,
              "#fdca26"
             ],
             [
              1,
              "#f0f921"
             ]
            ],
            "type": "heatmapgl"
           }
          ],
          "histogram": [
           {
            "marker": {
             "colorbar": {
              "outlinewidth": 0,
              "ticks": ""
             }
            },
            "type": "histogram"
           }
          ],
          "histogram2d": [
           {
            "colorbar": {
             "outlinewidth": 0,
             "ticks": ""
            },
            "colorscale": [
             [
              0,
              "#0d0887"
             ],
             [
              0.1111111111111111,
              "#46039f"
             ],
             [
              0.2222222222222222,
              "#7201a8"
             ],
             [
              0.3333333333333333,
              "#9c179e"
             ],
             [
              0.4444444444444444,
              "#bd3786"
             ],
             [
              0.5555555555555556,
              "#d8576b"
             ],
             [
              0.6666666666666666,
              "#ed7953"
             ],
             [
              0.7777777777777778,
              "#fb9f3a"
             ],
             [
              0.8888888888888888,
              "#fdca26"
             ],
             [
              1,
              "#f0f921"
             ]
            ],
            "type": "histogram2d"
           }
          ],
          "histogram2dcontour": [
           {
            "colorbar": {
             "outlinewidth": 0,
             "ticks": ""
            },
            "colorscale": [
             [
              0,
              "#0d0887"
             ],
             [
              0.1111111111111111,
              "#46039f"
             ],
             [
              0.2222222222222222,
              "#7201a8"
             ],
             [
              0.3333333333333333,
              "#9c179e"
             ],
             [
              0.4444444444444444,
              "#bd3786"
             ],
             [
              0.5555555555555556,
              "#d8576b"
             ],
             [
              0.6666666666666666,
              "#ed7953"
             ],
             [
              0.7777777777777778,
              "#fb9f3a"
             ],
             [
              0.8888888888888888,
              "#fdca26"
             ],
             [
              1,
              "#f0f921"
             ]
            ],
            "type": "histogram2dcontour"
           }
          ],
          "mesh3d": [
           {
            "colorbar": {
             "outlinewidth": 0,
             "ticks": ""
            },
            "type": "mesh3d"
           }
          ],
          "parcoords": [
           {
            "line": {
             "colorbar": {
              "outlinewidth": 0,
              "ticks": ""
             }
            },
            "type": "parcoords"
           }
          ],
          "pie": [
           {
            "automargin": true,
            "type": "pie"
           }
          ],
          "scatter": [
           {
            "marker": {
             "colorbar": {
              "outlinewidth": 0,
              "ticks": ""
             }
            },
            "type": "scatter"
           }
          ],
          "scatter3d": [
           {
            "line": {
             "colorbar": {
              "outlinewidth": 0,
              "ticks": ""
             }
            },
            "marker": {
             "colorbar": {
              "outlinewidth": 0,
              "ticks": ""
             }
            },
            "type": "scatter3d"
           }
          ],
          "scattercarpet": [
           {
            "marker": {
             "colorbar": {
              "outlinewidth": 0,
              "ticks": ""
             }
            },
            "type": "scattercarpet"
           }
          ],
          "scattergeo": [
           {
            "marker": {
             "colorbar": {
              "outlinewidth": 0,
              "ticks": ""
             }
            },
            "type": "scattergeo"
           }
          ],
          "scattergl": [
           {
            "marker": {
             "colorbar": {
              "outlinewidth": 0,
              "ticks": ""
             }
            },
            "type": "scattergl"
           }
          ],
          "scattermapbox": [
           {
            "marker": {
             "colorbar": {
              "outlinewidth": 0,
              "ticks": ""
             }
            },
            "type": "scattermapbox"
           }
          ],
          "scatterpolar": [
           {
            "marker": {
             "colorbar": {
              "outlinewidth": 0,
              "ticks": ""
             }
            },
            "type": "scatterpolar"
           }
          ],
          "scatterpolargl": [
           {
            "marker": {
             "colorbar": {
              "outlinewidth": 0,
              "ticks": ""
             }
            },
            "type": "scatterpolargl"
           }
          ],
          "scatterternary": [
           {
            "marker": {
             "colorbar": {
              "outlinewidth": 0,
              "ticks": ""
             }
            },
            "type": "scatterternary"
           }
          ],
          "surface": [
           {
            "colorbar": {
             "outlinewidth": 0,
             "ticks": ""
            },
            "colorscale": [
             [
              0,
              "#0d0887"
             ],
             [
              0.1111111111111111,
              "#46039f"
             ],
             [
              0.2222222222222222,
              "#7201a8"
             ],
             [
              0.3333333333333333,
              "#9c179e"
             ],
             [
              0.4444444444444444,
              "#bd3786"
             ],
             [
              0.5555555555555556,
              "#d8576b"
             ],
             [
              0.6666666666666666,
              "#ed7953"
             ],
             [
              0.7777777777777778,
              "#fb9f3a"
             ],
             [
              0.8888888888888888,
              "#fdca26"
             ],
             [
              1,
              "#f0f921"
             ]
            ],
            "type": "surface"
           }
          ],
          "table": [
           {
            "cells": {
             "fill": {
              "color": "#EBF0F8"
             },
             "line": {
              "color": "white"
             }
            },
            "header": {
             "fill": {
              "color": "#C8D4E3"
             },
             "line": {
              "color": "white"
             }
            },
            "type": "table"
           }
          ]
         },
         "layout": {
          "annotationdefaults": {
           "arrowcolor": "#2a3f5f",
           "arrowhead": 0,
           "arrowwidth": 1
          },
          "coloraxis": {
           "colorbar": {
            "outlinewidth": 0,
            "ticks": ""
           }
          },
          "colorscale": {
           "diverging": [
            [
             0,
             "#8e0152"
            ],
            [
             0.1,
             "#c51b7d"
            ],
            [
             0.2,
             "#de77ae"
            ],
            [
             0.3,
             "#f1b6da"
            ],
            [
             0.4,
             "#fde0ef"
            ],
            [
             0.5,
             "#f7f7f7"
            ],
            [
             0.6,
             "#e6f5d0"
            ],
            [
             0.7,
             "#b8e186"
            ],
            [
             0.8,
             "#7fbc41"
            ],
            [
             0.9,
             "#4d9221"
            ],
            [
             1,
             "#276419"
            ]
           ],
           "sequential": [
            [
             0,
             "#0d0887"
            ],
            [
             0.1111111111111111,
             "#46039f"
            ],
            [
             0.2222222222222222,
             "#7201a8"
            ],
            [
             0.3333333333333333,
             "#9c179e"
            ],
            [
             0.4444444444444444,
             "#bd3786"
            ],
            [
             0.5555555555555556,
             "#d8576b"
            ],
            [
             0.6666666666666666,
             "#ed7953"
            ],
            [
             0.7777777777777778,
             "#fb9f3a"
            ],
            [
             0.8888888888888888,
             "#fdca26"
            ],
            [
             1,
             "#f0f921"
            ]
           ],
           "sequentialminus": [
            [
             0,
             "#0d0887"
            ],
            [
             0.1111111111111111,
             "#46039f"
            ],
            [
             0.2222222222222222,
             "#7201a8"
            ],
            [
             0.3333333333333333,
             "#9c179e"
            ],
            [
             0.4444444444444444,
             "#bd3786"
            ],
            [
             0.5555555555555556,
             "#d8576b"
            ],
            [
             0.6666666666666666,
             "#ed7953"
            ],
            [
             0.7777777777777778,
             "#fb9f3a"
            ],
            [
             0.8888888888888888,
             "#fdca26"
            ],
            [
             1,
             "#f0f921"
            ]
           ]
          },
          "colorway": [
           "#636efa",
           "#EF553B",
           "#00cc96",
           "#ab63fa",
           "#FFA15A",
           "#19d3f3",
           "#FF6692",
           "#B6E880",
           "#FF97FF",
           "#FECB52"
          ],
          "font": {
           "color": "#2a3f5f"
          },
          "geo": {
           "bgcolor": "white",
           "lakecolor": "white",
           "landcolor": "#E5ECF6",
           "showlakes": true,
           "showland": true,
           "subunitcolor": "white"
          },
          "hoverlabel": {
           "align": "left"
          },
          "hovermode": "closest",
          "mapbox": {
           "style": "light"
          },
          "paper_bgcolor": "white",
          "plot_bgcolor": "#E5ECF6",
          "polar": {
           "angularaxis": {
            "gridcolor": "white",
            "linecolor": "white",
            "ticks": ""
           },
           "bgcolor": "#E5ECF6",
           "radialaxis": {
            "gridcolor": "white",
            "linecolor": "white",
            "ticks": ""
           }
          },
          "scene": {
           "xaxis": {
            "backgroundcolor": "#E5ECF6",
            "gridcolor": "white",
            "gridwidth": 2,
            "linecolor": "white",
            "showbackground": true,
            "ticks": "",
            "zerolinecolor": "white"
           },
           "yaxis": {
            "backgroundcolor": "#E5ECF6",
            "gridcolor": "white",
            "gridwidth": 2,
            "linecolor": "white",
            "showbackground": true,
            "ticks": "",
            "zerolinecolor": "white"
           },
           "zaxis": {
            "backgroundcolor": "#E5ECF6",
            "gridcolor": "white",
            "gridwidth": 2,
            "linecolor": "white",
            "showbackground": true,
            "ticks": "",
            "zerolinecolor": "white"
           }
          },
          "shapedefaults": {
           "line": {
            "color": "#2a3f5f"
           }
          },
          "ternary": {
           "aaxis": {
            "gridcolor": "white",
            "linecolor": "white",
            "ticks": ""
           },
           "baxis": {
            "gridcolor": "white",
            "linecolor": "white",
            "ticks": ""
           },
           "bgcolor": "#E5ECF6",
           "caxis": {
            "gridcolor": "white",
            "linecolor": "white",
            "ticks": ""
           }
          },
          "title": {
           "x": 0.05
          },
          "xaxis": {
           "automargin": true,
           "gridcolor": "white",
           "linecolor": "white",
           "ticks": "",
           "title": {
            "standoff": 15
           },
           "zerolinecolor": "white",
           "zerolinewidth": 2
          },
          "yaxis": {
           "automargin": true,
           "gridcolor": "white",
           "linecolor": "white",
           "ticks": "",
           "title": {
            "standoff": 15
           },
           "zerolinecolor": "white",
           "zerolinewidth": 2
          }
         }
        },
        "title": {
         "text": "2D Cluster PCA Plot"
        },
        "xaxis": {
         "anchor": "y",
         "domain": [
          0,
          1
         ],
         "title": {
          "text": "PCA1"
         }
        },
        "yaxis": {
         "anchor": "x",
         "domain": [
          0,
          1
         ],
         "title": {
          "text": "PCA2"
         }
        }
       }
      },
      "text/html": [
       "<div>\n",
       "        \n",
       "        \n",
       "            <div id=\"0c9fe4d0-19ce-457e-9ddc-9c905272734c\" class=\"plotly-graph-div\" style=\"height:600px; width:100%;\"></div>\n",
       "            <script type=\"text/javascript\">\n",
       "                require([\"plotly\"], function(Plotly) {\n",
       "                    window.PLOTLYENV=window.PLOTLYENV || {};\n",
       "                    \n",
       "                if (document.getElementById(\"0c9fe4d0-19ce-457e-9ddc-9c905272734c\")) {\n",
       "                    Plotly.newPlot(\n",
       "                        '0c9fe4d0-19ce-457e-9ddc-9c905272734c',\n",
       "                        [{\"customdata\": [[89], [91], [92], [90], [93], [89], [88], [87], [86], [82], [91], [88], [87], [91], [90], [85], [91], [88], [85], [85], [88], [84], [88], [94], [86], [94], [89], [87], [84], [91], [91], [88], [88], [89], [91], [90], [89], [83], [83], [86], [84], [94], [94], [79], [88], [85], [82], [82], [91], [91], [89], [84], [87], [81], [93], [84], [95], [89], [86], [85], [87], [92], [89], [85], [88], [86], [94], [87], [85], [83], [87], [88], [84], [85], [91], [90], [88], [89], [88], [92], [90], [85], [88], [94], [84], [91], [88], [87], [86], [83], [83], [91], [86], [89], [92], [87], [84], [83], [83], [85], [90], [97], [92], [87], [91], [83], [87], [91], [82], [91], [90], [86], [85], [90], [84], [87], [84], [88], [91], [84], [94], [89], [92], [89], [90], [90], [88], [88], [93], [90], [87], [87], [91], [87], [87], [92], [84], [87], [87], [83], [79], [92], [91], [83], [86], [84], [82]], \"hoverlabel\": {\"namelength\": 0}, \"hovertemplate\": \"Cluster=Cluster 0<br>PCA1=%{x}<br>PCA2=%{y}<br>Feature=%{customdata[0]}\", \"legendgroup\": \"Cluster=Cluster 0\", \"marker\": {\"color\": \"#636efa\", \"opacity\": 0.5, \"symbol\": \"circle\"}, \"mode\": \"markers\", \"name\": \"Cluster=Cluster 0\", \"showlegend\": true, \"textposition\": \"top center\", \"type\": \"scatter\", \"x\": [-1.8697280492822221, -2.434409452240331, -2.4264928677563407, -1.8685392009729573, -2.573251180005187, -2.0825488387367774, -2.1726275303271336, -2.0509914497973174, -2.3083745565709424, -2.0409297248188443, -2.3014860877684185, -1.9328812899277126, -2.2112114881979883, -1.941830217396177, -2.506327661246921, -2.073465438046343, -2.0397597688071043, -1.8391129584522707, -1.8312598260555624, -1.8203605363189377, -1.8179028009565337, -1.7823104435599608, -2.16763723554197, -2.0723362530196874, -1.9195349904205221, -2.0324573477442054, -2.116082246852266, -1.933866709547426, -2.0302665780186, -2.2358001519510866, -2.0280538892551094, -2.0874157729938436, -1.8354966996507216, -1.544833237561717, -2.456740223886677, -1.75781831703705, -1.9410288223098253, -2.1056752134257426, -2.062633174326468, -2.078129212955828, -2.0920785409420724, -2.388501760698686, -2.218504917204356, -1.6173369030791969, -2.1986747579336976, -2.098348376809807, -1.6642927252834203, -1.8931308692782232, -2.3543937200349037, -2.364292865128858, -2.157714119240597, -1.8350599673755954, -2.1155698357947905, -1.9065821086775259, -2.4156994450467693, -2.38210225209256, -2.3554662245072477, -2.213920210083084, -1.7249982423507855, -1.75099418299541, -1.996764985874087, -1.9988960783896637, -2.095399542784508, -2.016024532553483, -2.27619846625506, -2.2889074272684744, -2.028528867977642, -2.214180093266009, -2.2010305324025308, -1.6889642519699852, -1.5930428171318833, -1.9496018153742165, -1.841654787631974, -1.9379027196432868, -2.169876798095487, -2.1059714070515705, -1.9050708539721548, -2.2569291738145036, -2.017053989697897, -1.9316213773466568, -2.213609523539268, -2.1420245144677605, -1.9086935145347095, -2.2963285716234747, -2.067675219987386, -2.13540342553809, -2.3501939980199786, -1.8642300546387074, -2.127973371527552, -1.83725587443133, -2.075834863497948, -2.2682668429440165, -2.45257816416769, -2.031563122728981, -2.0663645413484715, -2.200578134323644, -1.789310258609948, -2.0321678851269134, -2.0754078003594625, -1.7509951256267824, -2.1023799169538546, -2.1331628517151247, -2.1275155265360484, -2.096353409278053, -2.2507286691543555, -2.1683199158883157, -1.9532680466193002, -2.1737801527393144, -1.9024417794162414, -2.1775890211238633, -2.0802942483176636, -2.0383210974174126, -1.8416815899287775, -2.0306149254956956, -2.3429814681922903, -1.9840517141780682, -2.150973438347759, -1.8308477570558004, -2.1790865314894234, -1.8198144426233003, -2.277429385314473, -1.930007864222133, -2.009514375504899, -1.6408923844731527, -1.9542313127111783, -1.8610601608814794, -2.39115476146643, -1.6663039497396257, -2.707704272816405, -2.009562745741259, -1.8827111419501743, -1.8376313868861256, -1.9905084148264245, -2.178457545857197, -1.924474898381085, -1.9471237092316096, -2.0051735109307396, -2.1443530777650897, -1.9240066060950782, -1.6635162684512903, -1.7242589064033047, -2.2926793799241785, -2.3766512846758046, -1.8717867086714808, -2.0729035379264222, -2.0406619679447626, -2.1586795450148273], \"xaxis\": \"x\", \"y\": [-0.5805164265698372, -0.24464809305188878, -0.5223152797453512, -0.646512589588662, -0.5601757161893913, -0.5522831575898658, -0.39127121964390577, -0.3745370800907231, -0.06765341940763064, -0.15127575003775526, -0.9278015703632004, -0.46217940797732954, -0.8665194545259575, -0.4474985357594559, -0.3458391868660693, -0.5863263912488839, -0.5056552939718552, -0.6995563607527958, -0.6162852748867939, -0.4488179712511732, -0.531751864402695, -0.17582931957520756, -0.46891148853210995, -0.7217304623516894, -0.5390151390286889, -0.41296531679874515, -0.5718523623889735, -0.6325914202993487, -0.410684140260364, -0.4444059182231616, -0.6544788961337656, -0.6741591009069243, -0.7311063475017331, -1.1357583490086818, -0.2149934260760995, -0.6974569742995147, -0.5261186812267993, -0.58397975185848, -0.40286675253601484, -0.7184174711133118, -0.3236017857265204, -0.7336846203617965, -0.7970647759288879, -0.3145015151948761, -0.6446001105079334, -0.2661795286260783, -0.8615209458726673, -0.31930529170000077, -0.7051855275909662, -0.6143021309743978, -0.6781150497461609, -0.5962198951327754, -0.5819853496551203, -0.16871255960275408, -0.5883260957616696, -0.056021301731337556, -0.5337893768130518, -0.4557403569924211, -0.1342401326494584, -0.613766447660328, -0.5798839826265018, -0.4953877249370109, -0.8250823055352449, -0.41237474727593837, -0.1755786962408624, -0.04485464987958266, -0.728276688885474, -0.5808905194796489, -0.2545884323196625, -0.680248855997893, -0.2924473277628603, -1.0344856845282335, -0.3051126045403697, -0.28753924414760706, -0.6243609836837652, -0.42933757064153094, -0.5315276372180464, -0.255221928244276, -0.5177839284078175, -0.6482214557154231, -0.5318906661040491, -0.415846876312065, -0.6726174163454761, -0.49811683685423236, -0.6096569429464762, -0.5826941350892458, -0.5308599913770026, -0.5324358705767818, -0.08120090768069115, -0.42364773125641614, -0.10644304402683552, -0.4808961050879653, -0.4487369192532842, -0.7884261388730069, -0.4118351486427883, -0.554069585224186, -0.3758089690344978, -0.2999519467201972, -0.47456299995454343, -0.6656568722532703, -0.31251224674139927, -0.7074422913241161, -0.8564292881080303, -0.566370215361419, -0.43033285933146215, -0.23166647060625123, -0.44963058523596294, -0.5946229146229913, -0.3230601527205462, -0.5877756332419971, -0.6145576971608393, -0.547289089741102, -0.7564246595232503, -0.7729868189866745, -0.4258295603648385, -0.6440711179767933, -0.3728279094550169, -0.6355826840182314, -0.6108517483588553, -0.5599740335029505, -0.6379969887850206, -0.6443535416739371, -0.553322897746785, -0.6914141025040674, -0.41419669885929294, -0.5422549521155179, -0.5237968907636517, -0.7235074938340725, -0.2840625416465853, -0.5561029147461268, -0.7133896695498214, -0.6450394376349382, -0.552215307318975, -0.7134886382155601, -0.9713045528517574, -0.5731169250694227, -0.6891675147133185, -0.37459159845589657, -0.20396253486593707, -0.4682233578430872, -0.329127219123727, -0.6101991826767976, -0.05300649454133988, -0.3003232467793292, -0.4475575797003766, -0.4456363874126079, -0.30006515795971106], \"yaxis\": \"y\"}, {\"customdata\": [[65], [57], [65], [59], [61], [60], [55], [63], [62], [59], [67], [58], [66], [58], [57], [57], [66], [59], [68], [61], [58], [59], [61], [64], [63], [64], [62], [61], [62], [67], [61], [57], [63], [56], [51], [59], [58], [55], [61], [55], [58], [68], [58], [67], [56], [59], [59], [57], [60], [67], [61], [60], [59], [57], [59], [59], [58], [63], [61], [56], [58], [56], [59], [61], [60], [56], [63], [58], [59], [62], [59], [59], [65], [64], [59], [59], [61], [64], [58], [57], [58], [56], [63], [58], [60], [58], [62], [66], [66], [63], [64], [62], [62], [60], [65], [60], [63], [56], [58], [62], [56], [59], [65], [62], [59], [64], [66], [59], [59], [59], [62], [59], [54], [61], [55], [53], [55], [61], [59], [59], [56], [61], [61], [60], [57], [61], [55], [53], [61], [64], [62], [55], [58], [57], [58], [64], [57], [63], [53], [56], [60], [55], [60], [61], [62], [61], [56], [64], [62], [62], [62], [58], [56], [58], [58], [60], [59]], \"hoverlabel\": {\"namelength\": 0}, \"hovertemplate\": \"Cluster=Cluster 1<br>PCA1=%{x}<br>PCA2=%{y}<br>Feature=%{customdata[0]}\", \"legendgroup\": \"Cluster=Cluster 1\", \"marker\": {\"color\": \"#EF553B\", \"opacity\": 0.5, \"symbol\": \"circle\"}, \"mode\": \"markers\", \"name\": \"Cluster=Cluster 1\", \"showlegend\": true, \"textposition\": \"top center\", \"type\": \"scatter\", \"x\": [0.7239112201382846, 0.9571353877952674, 0.6478275645005543, 1.148630911341342, 0.7067815653426051, 1.1042995032054315, 1.2001761522613563, 0.9005512076840446, 0.913510898461857, 1.2298121391581476, 0.7700672272604187, 1.1141007448294606, 0.8792738469657456, 1.2303912589888955, 0.9338372084676223, 1.2579324208643237, 0.7618952590909004, 1.010430889890269, 0.9920509220265862, 0.8130583991800271, 1.110090111967917, 1.0860834631559388, 0.906327696371811, 1.0307558481195223, 0.587495020774433, 0.9787343363735489, 1.0389401959091815, 0.8585655800673436, 1.2202717551543694, 0.7249920266719722, 1.0057580252199225, 1.0411652628551484, 1.1223054064560902, 1.0034312490135382, 1.1995233369715046, 1.2741578324324205, 0.9635000489418426, 0.9597714184823419, 1.1797424349453591, 0.9891262539028138, 1.2033580787372493, 0.7345224536973606, 0.7012057006565174, 1.1009880353844501, 1.03153052906236, 0.9780286611471134, 1.2896994688891956, 1.3096489367282758, 0.8851694928542458, 1.017774283463358, 0.9274436793601518, 0.900154839534069, 0.8841763416019125, 0.936687584956589, 0.9097383481894072, 0.8746209506670777, 0.8948999863698722, 0.8396236642159601, 0.9290424183035485, 1.0762714657361943, 1.0077838123091274, 1.1083351039976728, 0.8882657128433469, 0.9237975531166805, 0.7536542920504703, 1.1555901253734104, 0.8515298284149736, 1.1482022259284113, 0.8311167460272423, 0.917101851227257, 1.0276462557383785, 0.6422857813201294, 0.8409539543751346, 0.5769670648673789, 0.8896978494461357, 0.984440321205992, 0.7154392143016086, 0.8786678441937484, 1.1468876247150963, 1.1485118892294275, 1.1322172843358063, 0.9717515952895664, 1.0952935033637554, 0.9587404739564881, 1.344363470386025, 0.9274461945087721, 0.9632799957287449, 0.9525916330653011, 0.9431516159078607, 1.1354956368540747, 0.971444747927849, 0.8562799812956972, 0.7249837560928997, 0.8649715699350828, 0.8476895267480912, 0.7922339525591616, 1.1922844949437712, 1.1871770375613515, 1.0575568848340322, 0.8490308300039281, 0.9023436791080554, 0.8781458068178456, 0.8870065000324077, 0.9235060256341693, 0.9521164820641914, 1.0634574127660064, 1.0537081823530925, 0.6357717909350328, 1.101807742700451, 1.3006755047034924, 0.6005385777151324, 0.95984658365927, 1.1697346195328324, 0.9264159454924336, 0.9406912733862142, 1.3394961401468366, 1.075892886938178, 0.9565958187381567, 0.9566943442267907, 0.8850119549128225, 0.831873188839805, 1.1636286139111318, 0.876634876597755, 0.933315807089178, 1.0012029912185747, 0.963194869371253, 1.1846884299933702, 0.8561992797300061, 1.1738067741239218, 0.6391237210213268, 1.122260656473749, 0.9724171706319942, 0.943688615428215, 1.1403409067101886, 0.9302440657310584, 0.9542073864397952, 1.196204847766827, 0.7468121011647828, 1.0002245891757409, 0.7937665202778104, 0.6600458052850804, 1.3537747237686777, 0.9380694584256887, 0.6666187788730189, 0.7842922234584785, 0.7496519064749219, 0.8368247283629235, 1.052795914092742, 1.0298407611661433, 0.9617402458141201, 0.839738412176907, 1.2492430376410202, 1.0237673233968174, 1.0859190974687243, 1.2767029202859064, 0.9828233353724, 0.9044526928941075], \"xaxis\": \"x\", \"y\": [-1.0507470349734904, -0.9565819796170687, -1.0359646762228452, -1.3121424450067765, -0.8793663591691477, -1.348768057288338, -1.015827952741259, -1.0610728540732426, -1.3337170540163852, -1.1517869497731896, -1.4642365784839704, -0.9421656927207698, -1.046145579101808, -1.2819246368405388, -1.1029271622884147, -1.1249923805906836, -1.121532982997155, -1.12481585565712, -1.2434959251847706, -0.8845749062692375, -1.2400731019552833, -1.0614239888146544, -1.0511809661886875, -1.155176797443866, -1.2657504433580289, -1.0343041033681748, -1.3354215530049682, -1.118168605139058, -1.3105601054950982, -1.2147689018237111, -0.9559112403520237, -1.0164501160909123, -1.4914780162827943, -0.7525024627463048, -0.9477794401632047, -1.0463684634358998, -0.7727413564345438, -1.0513254462232922, -1.3369076902187333, -0.7822596239105338, -1.1123684216426564, -1.2291518684300584, -0.8434352647277826, -1.2445037590847663, -0.9728022402340457, -1.0665351333493085, -0.8636901977227738, -1.0741646084522773, -1.0239607621545121, -1.1656553153572782, -1.23593564395872, -0.9546617155047082, -0.883460326232841, -1.0995649396023361, -1.414951087765637, -1.0453663262140032, -0.9811823394698048, -1.114488044198396, -1.0753706347754173, -1.1747153624334554, -0.9053816282992313, -0.9580578179176918, -1.1006490408047043, -1.1172042807724425, -1.1145607567968934, -0.9365035619575762, -0.8140489820848756, -1.0037927169385228, -0.758435179968551, -1.190639352771616, -1.1511135727122206, -0.8817110002017661, -1.0784400580942912, -1.1297691314887484, -0.6885532249176779, -1.0678256384123315, -1.042096056939778, -1.3264010299557352, -1.0152786302882955, -1.0099903883596038, -1.1494041562954525, -0.5649600821262502, -0.9611063612314243, -1.0432359401220646, -1.1927289211003644, -0.9959200993131953, -1.0837930828009537, -1.2809187624549898, -1.4349214298920447, -1.317022034496794, -1.269523681122866, -1.2523686077315679, -1.1918147399627204, -1.0532901989434427, -1.3159987548266672, -0.9398166771098884, -1.1301357535798997, -0.8125526735700419, -1.0091355521181082, -1.054976666022166, -0.9336007915987249, -1.0463193934652173, -1.3435832857455183, -0.8595055605314001, -1.1563579576315994, -0.891828490987825, -1.087713520984252, -0.7367980450519105, -1.149041291902285, -1.0677674191672901, -0.7548244477818224, -0.9748347344571849, -0.9198672968790512, -1.1290579834183962, -0.8808471845883361, -0.9913379913927998, -0.8568977558910137, -0.9855813347503578, -1.2166843588808522, -1.0165017672645724, -1.032181050886837, -1.2056989722609774, -1.281890310531212, -1.1153776376066373, -0.8833160228396809, -1.1033987930252478, -1.02806344702206, -0.969580679782165, -1.3728850855905388, -1.2502687489679603, -1.3655426725674513, -0.9207784656681911, -0.9083467846147816, -0.9227179212670819, -0.8523800969479176, -1.0465531834828221, -1.1065738734144612, -1.0451032464753884, -0.7626500679044004, -1.0760098573240726, -0.983773436033552, -1.1631989621469194, -1.1838093703927492, -0.9215721697739372, -1.063949412004081, -1.0145670833985094, -0.9568953644188056, -0.9213721361046181, -1.0482490063880947, -1.2186962045310639, -1.1551968788296632, -1.0523088391424915, -1.1033585592811566, -0.9452613546469523, -1.0100873588647488, -1.2485588625603425, -0.9647568583715012], \"yaxis\": \"y\"}, {\"customdata\": [[36], [29], [31], [31], [38], [30], [39], [36], [35], [30], [29], [33], [33], [32], [38], [37], [35], [36], [32], [31], [37], [36], [31], [37], [35], [35], [37], [34], [44], [31], [25], [22], [29], [31], [38], [33], [33], [29], [32], [30], [31], [31], [30], [36], [30], [28], [37], [29], [31], [33], [32], [36], [36], [29], [31], [34], [39], [36], [34], [37], [25], [31], [35], [28], [33], [31], [28], [39], [31], [27], [34], [29], [43], [33], [26], [24], [31], [29], [33], [36], [31], [40], [42], [32], [37], [34], [33], [35], [37], [28], [33], [33], [29], [28], [31], [37], [31], [33], [30], [30], [34], [30], [30], [29], [30], [34], [37], [34], [38], [33], [34], [30], [35], [36], [29], [32], [35], [28], [31], [34], [35], [33], [28], [32], [34], [35]], \"hoverlabel\": {\"namelength\": 0}, \"hovertemplate\": \"Cluster=Cluster 2<br>PCA1=%{x}<br>PCA2=%{y}<br>Feature=%{customdata[0]}\", \"legendgroup\": \"Cluster=Cluster 2\", \"marker\": {\"color\": \"#00cc96\", \"opacity\": 0.5, \"symbol\": \"circle\"}, \"mode\": \"markers\", \"name\": \"Cluster=Cluster 2\", \"showlegend\": true, \"textposition\": \"top center\", \"type\": \"scatter\", \"x\": [0.09673032822120745, 0.25042651146460215, 0.38710406497924066, 0.5185981404318576, 0.2650154277043922, 0.3069078787811712, -0.006468025279818359, 0.3437587941710388, 0.024001307254419943, 0.3057930567850856, 0.584759073105424, 0.08024305381566141, 0.2936124222088349, 0.3727728318957418, 0.3664728401947459, 0.15198305961188927, 0.11071991137137464, 0.20567888975494616, -0.04968093964063528, 0.5452752093266902, -0.16677564882897886, 0.2679191814272718, 0.39146386686634094, 0.3414146466230355, 0.19548578829641963, 0.22406947728996734, 0.4282798729004831, 0.17234856466096352, 0.2247760568948386, 0.053964472537442285, 0.35579426205444237, 0.4927454296214791, 0.20276288878265805, 0.027736853226805594, -0.048888915492323944, 0.22337118271621278, 0.36194896264686816, 0.38907561819711867, 0.07995823881348534, 0.3625065507971224, 0.3971649995899922, 0.4729348531496343, 0.4919717971174586, -0.13685559370131772, 0.30313547144560254, 0.4984012657689416, -0.08303284009090857, 0.6286924870783729, 0.5284487627009915, 0.22660349946699965, 0.5054336761019059, -0.0038820277293611333, -0.03804973889746746, 0.4402666879537103, 0.14417381093558193, 0.05733948358088145, -0.19665034354948738, 0.134481236165202, -0.03495992933636098, 0.35957420818189584, 0.490435522567851, 0.7852626925848276, 0.22722301373569634, 0.1487020669596357, 0.4086770958302612, 0.4655146363510323, 0.1940061790898513, 0.023800034019156778, 0.45112566394768244, 0.32968656590210194, 0.4591164161866805, 0.5237234715682929, 0.20141490529333217, 0.4503179507765595, 0.20578940530668322, 0.5360012104415603, 0.28969226438189866, 0.690906723567272, 0.28304917380758693, 0.12793108986064058, 0.27307896834242595, -0.16363100906070185, 0.13257246875515516, 0.2219583717509898, 0.16776579028489855, 0.3449593972426621, 0.44282179644137876, 0.24261077787919458, -0.14116088760897288, 0.4814838044302811, 0.07393711916142034, 0.36602249697063527, 0.2216738934979723, 0.20166698692266166, 0.399166416897995, 0.21653502421287846, 0.43487049606147715, 0.30058208311151907, 0.12145280919457399, 0.29862034062206516, -0.2548237528180676, 0.48450085362116724, 0.5794692124747521, 0.30784219342862384, 0.13738956128030835, 0.28393760556401304, 0.20330526748275352, 0.2046623125481884, 0.29504088373913595, -0.014697097471744936, 0.33143705425093956, 0.4346602593531404, 0.3452905327995578, 0.26913818104696025, 0.3018537489358099, 0.015327966610085139, 0.11048998627359029, 0.640083955100535, 0.30853165705142777, 0.426339310227902, -0.053834708931847504, 0.25683385611223836, 0.2973083261170753, 0.46404467576637776, 0.2880639750193823, 0.4230093119167909], \"xaxis\": \"x\", \"y\": [1.6883803368860282, 1.7045737168680584, 1.6327021954108745, 1.6110514952537338, 1.3083700428412073, 1.8163264661040186, 1.4065030087999912, 1.4900560698948315, 1.8335899900320298, 1.4227930628879149, 1.663613175996638, 1.5786771127142127, 1.264013377462412, 1.5950420209258984, 1.5049755155184428, 1.6813486703531937, 1.6282156708943851, 1.4236760759691667, 1.8084510956242181, 1.6225836216764207, 1.9774513127660724, 1.3625596570144105, 1.52463817050699, 1.5060626653747764, 1.5491572950554597, 1.5579353422760727, 1.3538259752633228, 1.5985063871979601, 1.431478595139497, 1.879212174498775, 1.8030470223324389, 1.9718039845992688, 1.6763723210811776, 1.7775658109685324, 1.3356345326366277, 1.725791681996304, 1.544971007287245, 1.5835804046764868, 1.8817135560796954, 1.553462642661909, 1.5611120792695707, 1.6131155536732487, 1.4004458102457686, 1.709337162867264, 1.4356540674669325, 1.4668140133406482, 1.7477775151104065, 1.7706295477806975, 1.7138725020207166, 1.5336527633449721, 1.7349848989221501, 1.5056229051014898, 1.5639820418294053, 1.6176442163635727, 1.73116625072267, 1.5652697184166733, 1.6777087208849673, 1.66696882119156, 1.788117522181012, 1.3842669781928516, 1.724598229783462, 1.2961194698254566, 1.6914136090722671, 1.841091128649502, 1.748374953865555, 1.6949834534892416, 1.6256572190401368, 1.373251559171965, 1.6261973246818524, 1.8825045705647967, 1.3652888788155262, 1.800776487686494, 1.1172874659131973, 1.300892283960428, 1.7808274530189123, 1.902871708774997, 1.6938535756527968, 1.5046695624157949, 1.3339903084159737, 1.6563184455170614, 1.948723705925217, 1.539214376484883, 1.3794772197998677, 1.6538061883701927, 1.5884879805808447, 1.1115856337569499, 1.7178062831537215, 1.8213872096778956, 1.6330479814137964, 1.858779650834613, 1.9754941876402792, 1.601550924718381, 1.5545837401125537, 1.7577290127423641, 1.3979723220008213, 1.25188262081358, 1.6665504109774725, 1.5767779928226533, 1.9802749942157685, 1.779841048936421, 1.9388703447510922, 1.5308144735053286, 1.5592465200220986, 1.6832209909007443, 1.8001751549855391, 1.5811689876494455, 1.5979907566980192, 1.6348950978265089, 1.6111760839375877, 1.771970243004947, 1.8559979497540275, 1.6911797176787826, 1.3469663712514408, 1.4903918198750619, 1.8607182156336632, 1.6530802508705518, 1.6112778160406769, 1.565138920568123, 1.65832577066864, 1.5506070567409977, 1.880504182184665, 1.669142672132959, 1.6131913255928783, 1.6197173738617596, 1.339220691513907, 1.5933858435585802], \"yaxis\": \"y\"}, {\"customdata\": [[20], [26], [17], [25], [18], [28], [28], [21], [17], [24], [24], [30], [23], [25], [23], [26], [22], [29], [22], [25], [23], [25], [21], [28], [27], [27], [25], [20], [17], [24], [24], [27], [28], [29], [20], [28], [31], [26], [26], [23], [24], [24], [29], [25], [24], [22], [26], [17], [28], [18]], \"hoverlabel\": {\"namelength\": 0}, \"hovertemplate\": \"Cluster=Cluster 3<br>PCA1=%{x}<br>PCA2=%{y}<br>Feature=%{customdata[0]}\", \"legendgroup\": \"Cluster=Cluster 3\", \"marker\": {\"color\": \"#ab63fa\", \"opacity\": 0.5, \"symbol\": \"circle\"}, \"mode\": \"markers\", \"name\": \"Cluster=Cluster 3\", \"showlegend\": true, \"textposition\": \"top center\", \"type\": \"scatter\", \"x\": [2.9746754371514825, 2.640843241893842, 3.174508943970732, 2.8393403842736813, 2.895151046938777, 2.5924747891532167, 2.5781609522364097, 3.069942802316508, 3.226889225110597, 3.0316088334899116, 3.272920432210054, 2.5319520001292095, 3.2150627218039767, 2.995478237895019, 2.962705253782905, 2.921754004535288, 2.926771944159538, 2.855974600756293, 3.179855781881797, 2.731893082559852, 2.7956134120132616, 2.924833848117506, 3.015997241498176, 2.6742850000849936, 2.813779616507524, 2.7278880570709094, 2.6524433273146073, 2.8919325130956586, 3.574659076465146, 2.9488018362117545, 3.0282067846672174, 3.0369381609667565, 2.9445626913206135, 2.912240638098012, 2.946174796554267, 3.017276907678435, 2.8120134954171805, 2.8932637199609275, 2.6960211291052683, 2.998489358625382, 3.069820746052281, 2.9683775865455604, 2.9232445728248004, 3.217300822203086, 2.79228384382904, 2.894059984176769, 2.9771795063443514, 3.280104640371691, 3.1151268129853094, 3.0082481072070255], \"xaxis\": \"x\", \"y\": [0.18812441934617055, 0.20007400245974, 0.048418175898206794, 0.15108398587787242, 0.2932077351659222, -0.09778160567888099, 0.005986017086142222, 0.07048902990258887, 0.278510961124053, 0.11792704083326908, -0.011433907512107258, -0.016054823596124153, 0.08407239346363263, 0.0016140903642261478, 0.1153453541325655, -0.20465230850872485, 0.28247214165392, -0.005594946396853922, 0.05253080601071553, 0.20866220429412677, 0.017222496205368868, 0.03491418959418737, 0.04887447278271473, 0.06420133505403501, -0.1292777025450038, -0.09820174672237966, 0.05766718346507335, 0.27490967861885235, 0.042457019736512426, 0.09223412829220491, 0.08174843209851099, -0.2738297104010226, -0.30204787320671334, 0.12579515625111298, 0.08272269299997426, -0.19393570460246945, -0.2748720695213678, 0.07596964552686293, 0.058448895029823256, 0.016411353091425707, -0.08630325203006894, 0.06693014037081221, -0.2966922491996123, -0.025878210675484566, -0.03384346825793681, -0.07605865447778332, -0.10114428493012478, 0.2499176026387909, -0.36229901638415773, 0.31381771787645424], \"yaxis\": \"y\"}, {\"customdata\": [[84], [85], [84], [83], [93], [88], [82], [84], [87], [92], [90], [86], [88], [86], [84], [88], [82], [89], [85], [77], [83], [86], [83], [90], [91]], \"hoverlabel\": {\"namelength\": 0}, \"hovertemplate\": \"Cluster=Cluster 4<br>PCA1=%{x}<br>PCA2=%{y}<br>Feature=%{customdata[0]}\", \"legendgroup\": \"Cluster=Cluster 4\", \"marker\": {\"color\": \"#FFA15A\", \"opacity\": 0.5, \"symbol\": \"circle\"}, \"mode\": \"markers\", \"name\": \"Cluster=Cluster 4\", \"showlegend\": true, \"textposition\": \"top center\", \"type\": \"scatter\", \"x\": [-1.2979515263060244, -1.5495777609132402, -1.2100457107383853, -1.0059359967728807, -1.3360268955174621, -1.2001127180569242, -1.111675812656091, -1.3408525815750545, -1.0284353284046783, -1.2116106454713147, -1.3668130185716867, -0.8396280683107497, -1.2193542424079018, -1.452482968769698, -1.0162690443379765, -1.7825271707199983, -1.1718483189508542, -1.387047552886112, -1.093176987418459, -1.0109589668412193, -1.2456794724832783, -1.3186928055634528, -1.3536715194939581, -1.0467426045995583, -1.4038953738793851], \"xaxis\": \"x\", \"y\": [1.3893135331933018, 1.621383993138039, 1.4428374080067072, 1.2611942597080201, 1.5734980156902059, 1.553967731369672, 1.595607802887946, 1.4527034625685618, 1.1905123991311308, 1.3791437465862457, 1.6266147798411421, 1.325933796638322, 1.4554452456257119, 1.8626551648882521, 1.448700704725732, 1.7862055583020957, 1.7138756056786228, 1.4915980298420346, 1.321512107655857, 1.8538623688858593, 1.5515629751998394, 1.4864784540101592, 1.71262746159195, 1.1704962541165729, 1.5183231476048826], \"yaxis\": \"y\"}],\n",
       "                        {\"height\": 600, \"legend\": {\"tracegroupgap\": 0}, \"margin\": {\"t\": 60}, \"plot_bgcolor\": \"rgb(240,240,240)\", \"template\": {\"data\": {\"bar\": [{\"error_x\": {\"color\": \"#2a3f5f\"}, \"error_y\": {\"color\": \"#2a3f5f\"}, \"marker\": {\"line\": {\"color\": \"#E5ECF6\", \"width\": 0.5}}, \"type\": \"bar\"}], \"barpolar\": [{\"marker\": {\"line\": {\"color\": \"#E5ECF6\", \"width\": 0.5}}, \"type\": \"barpolar\"}], \"carpet\": [{\"aaxis\": {\"endlinecolor\": \"#2a3f5f\", \"gridcolor\": \"white\", \"linecolor\": \"white\", \"minorgridcolor\": \"white\", \"startlinecolor\": \"#2a3f5f\"}, \"baxis\": {\"endlinecolor\": \"#2a3f5f\", \"gridcolor\": \"white\", \"linecolor\": \"white\", \"minorgridcolor\": \"white\", \"startlinecolor\": \"#2a3f5f\"}, \"type\": \"carpet\"}], \"choropleth\": [{\"colorbar\": {\"outlinewidth\": 0, \"ticks\": \"\"}, \"type\": \"choropleth\"}], \"contour\": [{\"colorbar\": {\"outlinewidth\": 0, \"ticks\": \"\"}, \"colorscale\": [[0.0, \"#0d0887\"], [0.1111111111111111, \"#46039f\"], [0.2222222222222222, \"#7201a8\"], [0.3333333333333333, \"#9c179e\"], [0.4444444444444444, \"#bd3786\"], [0.5555555555555556, \"#d8576b\"], [0.6666666666666666, \"#ed7953\"], [0.7777777777777778, \"#fb9f3a\"], [0.8888888888888888, \"#fdca26\"], [1.0, \"#f0f921\"]], \"type\": \"contour\"}], \"contourcarpet\": [{\"colorbar\": {\"outlinewidth\": 0, \"ticks\": \"\"}, \"type\": \"contourcarpet\"}], \"heatmap\": [{\"colorbar\": {\"outlinewidth\": 0, \"ticks\": \"\"}, \"colorscale\": [[0.0, \"#0d0887\"], [0.1111111111111111, \"#46039f\"], [0.2222222222222222, \"#7201a8\"], [0.3333333333333333, \"#9c179e\"], [0.4444444444444444, \"#bd3786\"], [0.5555555555555556, \"#d8576b\"], [0.6666666666666666, \"#ed7953\"], [0.7777777777777778, \"#fb9f3a\"], [0.8888888888888888, \"#fdca26\"], [1.0, \"#f0f921\"]], \"type\": \"heatmap\"}], \"heatmapgl\": [{\"colorbar\": {\"outlinewidth\": 0, \"ticks\": \"\"}, \"colorscale\": [[0.0, \"#0d0887\"], [0.1111111111111111, \"#46039f\"], [0.2222222222222222, \"#7201a8\"], [0.3333333333333333, \"#9c179e\"], [0.4444444444444444, \"#bd3786\"], [0.5555555555555556, \"#d8576b\"], [0.6666666666666666, \"#ed7953\"], [0.7777777777777778, \"#fb9f3a\"], [0.8888888888888888, \"#fdca26\"], [1.0, \"#f0f921\"]], \"type\": \"heatmapgl\"}], \"histogram\": [{\"marker\": {\"colorbar\": {\"outlinewidth\": 0, \"ticks\": \"\"}}, \"type\": \"histogram\"}], \"histogram2d\": [{\"colorbar\": {\"outlinewidth\": 0, \"ticks\": \"\"}, \"colorscale\": [[0.0, \"#0d0887\"], [0.1111111111111111, \"#46039f\"], [0.2222222222222222, \"#7201a8\"], [0.3333333333333333, \"#9c179e\"], [0.4444444444444444, \"#bd3786\"], [0.5555555555555556, \"#d8576b\"], [0.6666666666666666, \"#ed7953\"], [0.7777777777777778, \"#fb9f3a\"], [0.8888888888888888, \"#fdca26\"], [1.0, \"#f0f921\"]], \"type\": \"histogram2d\"}], \"histogram2dcontour\": [{\"colorbar\": {\"outlinewidth\": 0, \"ticks\": \"\"}, \"colorscale\": [[0.0, \"#0d0887\"], [0.1111111111111111, \"#46039f\"], [0.2222222222222222, \"#7201a8\"], [0.3333333333333333, \"#9c179e\"], [0.4444444444444444, \"#bd3786\"], [0.5555555555555556, \"#d8576b\"], [0.6666666666666666, \"#ed7953\"], [0.7777777777777778, \"#fb9f3a\"], [0.8888888888888888, \"#fdca26\"], [1.0, \"#f0f921\"]], \"type\": \"histogram2dcontour\"}], \"mesh3d\": [{\"colorbar\": {\"outlinewidth\": 0, \"ticks\": \"\"}, \"type\": \"mesh3d\"}], \"parcoords\": [{\"line\": {\"colorbar\": {\"outlinewidth\": 0, \"ticks\": \"\"}}, \"type\": \"parcoords\"}], \"pie\": [{\"automargin\": true, \"type\": \"pie\"}], \"scatter\": [{\"marker\": {\"colorbar\": {\"outlinewidth\": 0, \"ticks\": \"\"}}, \"type\": \"scatter\"}], \"scatter3d\": [{\"line\": {\"colorbar\": {\"outlinewidth\": 0, \"ticks\": \"\"}}, \"marker\": {\"colorbar\": {\"outlinewidth\": 0, \"ticks\": \"\"}}, \"type\": \"scatter3d\"}], \"scattercarpet\": [{\"marker\": {\"colorbar\": {\"outlinewidth\": 0, \"ticks\": \"\"}}, \"type\": \"scattercarpet\"}], \"scattergeo\": [{\"marker\": {\"colorbar\": {\"outlinewidth\": 0, \"ticks\": \"\"}}, \"type\": \"scattergeo\"}], \"scattergl\": [{\"marker\": {\"colorbar\": {\"outlinewidth\": 0, \"ticks\": \"\"}}, \"type\": \"scattergl\"}], \"scattermapbox\": [{\"marker\": {\"colorbar\": {\"outlinewidth\": 0, \"ticks\": \"\"}}, \"type\": \"scattermapbox\"}], \"scatterpolar\": [{\"marker\": {\"colorbar\": {\"outlinewidth\": 0, \"ticks\": \"\"}}, \"type\": \"scatterpolar\"}], \"scatterpolargl\": [{\"marker\": {\"colorbar\": {\"outlinewidth\": 0, \"ticks\": \"\"}}, \"type\": \"scatterpolargl\"}], \"scatterternary\": [{\"marker\": {\"colorbar\": {\"outlinewidth\": 0, \"ticks\": \"\"}}, \"type\": \"scatterternary\"}], \"surface\": [{\"colorbar\": {\"outlinewidth\": 0, \"ticks\": \"\"}, \"colorscale\": [[0.0, \"#0d0887\"], [0.1111111111111111, \"#46039f\"], [0.2222222222222222, \"#7201a8\"], [0.3333333333333333, \"#9c179e\"], [0.4444444444444444, \"#bd3786\"], [0.5555555555555556, \"#d8576b\"], [0.6666666666666666, \"#ed7953\"], [0.7777777777777778, \"#fb9f3a\"], [0.8888888888888888, \"#fdca26\"], [1.0, \"#f0f921\"]], \"type\": \"surface\"}], \"table\": [{\"cells\": {\"fill\": {\"color\": \"#EBF0F8\"}, \"line\": {\"color\": \"white\"}}, \"header\": {\"fill\": {\"color\": \"#C8D4E3\"}, \"line\": {\"color\": \"white\"}}, \"type\": \"table\"}]}, \"layout\": {\"annotationdefaults\": {\"arrowcolor\": \"#2a3f5f\", \"arrowhead\": 0, \"arrowwidth\": 1}, \"coloraxis\": {\"colorbar\": {\"outlinewidth\": 0, \"ticks\": \"\"}}, \"colorscale\": {\"diverging\": [[0, \"#8e0152\"], [0.1, \"#c51b7d\"], [0.2, \"#de77ae\"], [0.3, \"#f1b6da\"], [0.4, \"#fde0ef\"], [0.5, \"#f7f7f7\"], [0.6, \"#e6f5d0\"], [0.7, \"#b8e186\"], [0.8, \"#7fbc41\"], [0.9, \"#4d9221\"], [1, \"#276419\"]], \"sequential\": [[0.0, \"#0d0887\"], [0.1111111111111111, \"#46039f\"], [0.2222222222222222, \"#7201a8\"], [0.3333333333333333, \"#9c179e\"], [0.4444444444444444, \"#bd3786\"], [0.5555555555555556, \"#d8576b\"], [0.6666666666666666, \"#ed7953\"], [0.7777777777777778, \"#fb9f3a\"], [0.8888888888888888, \"#fdca26\"], [1.0, \"#f0f921\"]], \"sequentialminus\": [[0.0, \"#0d0887\"], [0.1111111111111111, \"#46039f\"], [0.2222222222222222, \"#7201a8\"], [0.3333333333333333, \"#9c179e\"], [0.4444444444444444, \"#bd3786\"], [0.5555555555555556, \"#d8576b\"], [0.6666666666666666, \"#ed7953\"], [0.7777777777777778, \"#fb9f3a\"], [0.8888888888888888, \"#fdca26\"], [1.0, \"#f0f921\"]]}, \"colorway\": [\"#636efa\", \"#EF553B\", \"#00cc96\", \"#ab63fa\", \"#FFA15A\", \"#19d3f3\", \"#FF6692\", \"#B6E880\", \"#FF97FF\", \"#FECB52\"], \"font\": {\"color\": \"#2a3f5f\"}, \"geo\": {\"bgcolor\": \"white\", \"lakecolor\": \"white\", \"landcolor\": \"#E5ECF6\", \"showlakes\": true, \"showland\": true, \"subunitcolor\": \"white\"}, \"hoverlabel\": {\"align\": \"left\"}, \"hovermode\": \"closest\", \"mapbox\": {\"style\": \"light\"}, \"paper_bgcolor\": \"white\", \"plot_bgcolor\": \"#E5ECF6\", \"polar\": {\"angularaxis\": {\"gridcolor\": \"white\", \"linecolor\": \"white\", \"ticks\": \"\"}, \"bgcolor\": \"#E5ECF6\", \"radialaxis\": {\"gridcolor\": \"white\", \"linecolor\": \"white\", \"ticks\": \"\"}}, \"scene\": {\"xaxis\": {\"backgroundcolor\": \"#E5ECF6\", \"gridcolor\": \"white\", \"gridwidth\": 2, \"linecolor\": \"white\", \"showbackground\": true, \"ticks\": \"\", \"zerolinecolor\": \"white\"}, \"yaxis\": {\"backgroundcolor\": \"#E5ECF6\", \"gridcolor\": \"white\", \"gridwidth\": 2, \"linecolor\": \"white\", \"showbackground\": true, \"ticks\": \"\", \"zerolinecolor\": \"white\"}, \"zaxis\": {\"backgroundcolor\": \"#E5ECF6\", \"gridcolor\": \"white\", \"gridwidth\": 2, \"linecolor\": \"white\", \"showbackground\": true, \"ticks\": \"\", \"zerolinecolor\": \"white\"}}, \"shapedefaults\": {\"line\": {\"color\": \"#2a3f5f\"}}, \"ternary\": {\"aaxis\": {\"gridcolor\": \"white\", \"linecolor\": \"white\", \"ticks\": \"\"}, \"baxis\": {\"gridcolor\": \"white\", \"linecolor\": \"white\", \"ticks\": \"\"}, \"bgcolor\": \"#E5ECF6\", \"caxis\": {\"gridcolor\": \"white\", \"linecolor\": \"white\", \"ticks\": \"\"}}, \"title\": {\"x\": 0.05}, \"xaxis\": {\"automargin\": true, \"gridcolor\": \"white\", \"linecolor\": \"white\", \"ticks\": \"\", \"title\": {\"standoff\": 15}, \"zerolinecolor\": \"white\", \"zerolinewidth\": 2}, \"yaxis\": {\"automargin\": true, \"gridcolor\": \"white\", \"linecolor\": \"white\", \"ticks\": \"\", \"title\": {\"standoff\": 15}, \"zerolinecolor\": \"white\", \"zerolinewidth\": 2}}}, \"title\": {\"text\": \"2D Cluster PCA Plot\"}, \"xaxis\": {\"anchor\": \"y\", \"domain\": [0.0, 1.0], \"title\": {\"text\": \"PCA1\"}}, \"yaxis\": {\"anchor\": \"x\", \"domain\": [0.0, 1.0], \"title\": {\"text\": \"PCA2\"}}},\n",
       "                        {\"responsive\": true}\n",
       "                    ).then(function(){\n",
       "                            \n",
       "var gd = document.getElementById('0c9fe4d0-19ce-457e-9ddc-9c905272734c');\n",
       "var x = new MutationObserver(function (mutations, observer) {{\n",
       "        var display = window.getComputedStyle(gd).display;\n",
       "        if (!display || display === 'none') {{\n",
       "            console.log([gd, 'removed!']);\n",
       "            Plotly.purge(gd);\n",
       "            observer.disconnect();\n",
       "        }}\n",
       "}});\n",
       "\n",
       "// Listen for the removal of the full notebook cells\n",
       "var notebookContainer = gd.closest('#notebook-container');\n",
       "if (notebookContainer) {{\n",
       "    x.observe(notebookContainer, {childList: true});\n",
       "}}\n",
       "\n",
       "// Listen for the clearing of the current output cell\n",
       "var outputEl = gd.closest('.output');\n",
       "if (outputEl) {{\n",
       "    x.observe(outputEl, {childList: true});\n",
       "}}\n",
       "\n",
       "                        })\n",
       "                };\n",
       "                });\n",
       "            </script>\n",
       "        </div>"
      ]
     },
     "metadata": {},
     "output_type": "display_data"
    }
   ],
   "source": [
    "# Plot kmeans cluster graph with PCA components\n",
    "plot_model(kmeans)"
   ]
  },
  {
   "cell_type": "code",
   "execution_count": 13,
   "metadata": {
    "scrolled": true
   },
   "outputs": [
    {
     "data": {
      "text/html": [
       "<div>\n",
       "<style scoped>\n",
       "    .dataframe tbody tr th:only-of-type {\n",
       "        vertical-align: middle;\n",
       "    }\n",
       "\n",
       "    .dataframe tbody tr th {\n",
       "        vertical-align: top;\n",
       "    }\n",
       "\n",
       "    .dataframe thead th {\n",
       "        text-align: right;\n",
       "    }\n",
       "</style>\n",
       "<table border=\"1\" class=\"dataframe\">\n",
       "  <thead>\n",
       "    <tr style=\"text-align: right;\">\n",
       "      <th></th>\n",
       "      <th>Metric</th>\n",
       "    </tr>\n",
       "  </thead>\n",
       "  <tbody>\n",
       "    <tr>\n",
       "      <th>Silhouette</th>\n",
       "      <td>0.8063</td>\n",
       "    </tr>\n",
       "    <tr>\n",
       "      <th>Calinski-Harabasz</th>\n",
       "      <td>3503.4024</td>\n",
       "    </tr>\n",
       "    <tr>\n",
       "      <th>Davies-Bouldin</th>\n",
       "      <td>0.2748</td>\n",
       "    </tr>\n",
       "  </tbody>\n",
       "</table>\n",
       "</div>"
      ],
      "text/plain": [
       "                      Metric\n",
       "Silhouette            0.8063\n",
       "Calinski-Harabasz  3503.4024\n",
       "Davies-Bouldin        0.2748"
      ]
     },
     "metadata": {},
     "output_type": "display_data"
    },
    {
     "data": {
      "text/plain": [
       "<Figure size 576x396 with 0 Axes>"
      ]
     },
     "metadata": {},
     "output_type": "display_data"
    }
   ],
   "source": [
    "# Create hierarchical clustering\n",
    "hclust = create_model('hclust', num_clusters = 5)"
   ]
  },
  {
   "cell_type": "code",
   "execution_count": 15,
   "metadata": {},
   "outputs": [
    {
     "data": {
      "text/plain": [
       "AgglomerativeClustering(affinity='euclidean', compute_full_tree='auto',\n",
       "                        connectivity=None, distance_threshold=None,\n",
       "                        linkage='ward', memory=None, n_clusters=5)"
      ]
     },
     "execution_count": 15,
     "metadata": {},
     "output_type": "execute_result"
    }
   ],
   "source": [
    "# Print out to see hclust parameters\n",
    "hclust"
   ]
  },
  {
   "cell_type": "code",
   "execution_count": 75,
   "metadata": {},
   "outputs": [
    {
     "data": {
      "text/html": [
       "<div>\n",
       "<style scoped>\n",
       "    .dataframe tbody tr th:only-of-type {\n",
       "        vertical-align: middle;\n",
       "    }\n",
       "\n",
       "    .dataframe tbody tr th {\n",
       "        vertical-align: top;\n",
       "    }\n",
       "\n",
       "    .dataframe thead th {\n",
       "        text-align: right;\n",
       "    }\n",
       "</style>\n",
       "<table border=\"1\" class=\"dataframe\">\n",
       "  <thead>\n",
       "    <tr style=\"text-align: right;\">\n",
       "      <th></th>\n",
       "      <th>Metric</th>\n",
       "    </tr>\n",
       "  </thead>\n",
       "  <tbody>\n",
       "    <tr>\n",
       "      <th>Silhouette</th>\n",
       "      <td>0.8063</td>\n",
       "    </tr>\n",
       "    <tr>\n",
       "      <th>Calinski-Harabasz</th>\n",
       "      <td>3503.4024</td>\n",
       "    </tr>\n",
       "    <tr>\n",
       "      <th>Davies-Bouldin</th>\n",
       "      <td>0.2748</td>\n",
       "    </tr>\n",
       "  </tbody>\n",
       "</table>\n",
       "</div>"
      ],
      "text/plain": [
       "                      Metric\n",
       "Silhouette            0.8063\n",
       "Calinski-Harabasz  3503.4024\n",
       "Davies-Bouldin        0.2748"
      ]
     },
     "metadata": {},
     "output_type": "display_data"
    },
    {
     "data": {
      "text/plain": [
       "<Figure size 576x396 with 0 Axes>"
      ]
     },
     "metadata": {},
     "output_type": "display_data"
    }
   ],
   "source": [
    "# Set up different parameter for hierarchical clustering\n",
    "# Score the same as hclust\n",
    "hclust1 = create_model('hclust', affinity='correlation',linkage='complete',num_clusters = 5)"
   ]
  },
  {
   "cell_type": "code",
   "execution_count": 76,
   "metadata": {},
   "outputs": [
    {
     "data": {
      "text/plain": [
       "AgglomerativeClustering(affinity='correlation', compute_full_tree='auto',\n",
       "                        connectivity=None, distance_threshold=None,\n",
       "                        linkage='complete', memory=None, n_clusters=5)"
      ]
     },
     "execution_count": 76,
     "metadata": {},
     "output_type": "execute_result"
    }
   ],
   "source": [
    "# Print out to see hclust1 parameters\n",
    "hclust1"
   ]
  },
  {
   "cell_type": "code",
   "execution_count": 16,
   "metadata": {},
   "outputs": [
    {
     "data": {
      "text/plain": [
       "array([1, 1, 1, 1, 0, 3, 1, 0, 0, 0, 4, 2, 2, 2, 1, 4, 1, 0, 0, 4, 2, 4,\n",
       "       1, 0, 4, 3, 3, 1, 0, 1, 1, 1, 0, 1, 2, 1, 0, 1, 2, 2, 1, 0, 3, 1,\n",
       "       1, 3, 4, 3, 2, 1, 0, 2, 3, 0, 1, 0, 2, 0, 0, 0, 0, 0, 0, 1, 1, 1,\n",
       "       0, 3, 3, 1, 1, 2, 0, 0, 2, 1, 2, 1, 1, 3, 1, 4, 1, 0, 0, 2, 2, 1,\n",
       "       1, 1, 1, 1, 3, 0, 1, 3, 2, 1, 1, 2, 2, 3, 2, 3, 2, 0, 0, 2, 2, 1,\n",
       "       0, 2, 1, 2, 2, 2, 1, 2, 3, 0, 2, 0, 0, 0, 2, 4, 1, 0, 1, 1, 2, 1,\n",
       "       2, 1, 3, 0, 4, 3, 1, 2, 0, 1, 1, 3, 1, 3, 1, 4, 1, 0, 1, 2, 0, 1,\n",
       "       0, 4, 2, 1, 0, 1, 2, 0, 1, 2, 0, 2, 0, 1, 2, 1, 0, 1, 2, 1, 0, 1,\n",
       "       1, 0, 0, 0, 1, 1, 2, 3, 3, 0, 2, 1, 1, 1, 2, 0, 1, 1, 1, 0, 3, 2,\n",
       "       0, 0, 0, 2, 1, 2, 1, 2, 1, 0, 3, 1, 0, 0, 0, 0, 1, 0, 2, 3, 2, 0,\n",
       "       1, 1, 2, 0, 2, 3, 2, 1, 1, 0, 1, 1, 0, 1, 1, 1, 2, 1, 2, 2, 3, 1,\n",
       "       1, 1, 4, 1, 2, 0, 3, 3, 3, 0, 1, 2, 0, 0, 2, 2, 1, 1, 4, 1, 1, 0,\n",
       "       1, 0, 2, 3, 1, 2, 0, 1, 0, 0, 2, 1, 0, 0, 1, 1, 0, 2, 2, 4, 2, 0,\n",
       "       0, 2, 4, 0, 0, 3, 1, 2, 2, 1, 2, 0, 0, 2, 1, 2, 0, 1, 2, 3, 1, 0,\n",
       "       2, 2, 0, 4, 4, 1, 0, 2, 1, 1, 0, 2, 0, 2, 0, 2, 0, 0, 2, 0, 2, 1,\n",
       "       2, 1, 1, 2, 2, 0, 0, 3, 3, 2, 0, 3, 0, 4, 1, 1, 1, 0, 0, 2, 2, 4,\n",
       "       2, 4, 1, 2, 3, 0, 1, 0, 3, 1, 0, 0, 1, 0, 2, 1, 4, 2, 2, 1, 0, 0,\n",
       "       0, 0, 0, 2, 2, 0, 1, 2, 1, 4, 0, 0, 1, 0, 0, 1, 0, 0, 2, 0, 1, 2,\n",
       "       3, 2, 1, 0, 2, 1, 1, 1, 0, 2, 3, 2, 1, 2, 1, 1, 3, 2, 4, 3, 2, 2,\n",
       "       0, 1, 0, 2, 0, 2, 1, 1, 0, 4, 2, 0, 2, 1, 1, 2, 1, 0, 1, 2, 1, 0,\n",
       "       1, 0, 3, 2, 2, 3, 2, 2, 0, 0, 1, 3, 1, 2, 2, 4, 3, 2, 3, 0, 2, 2,\n",
       "       1, 2, 0, 0, 3, 1, 2, 1, 1, 2, 1, 1, 1, 0, 2, 2, 1, 1, 1, 0, 2, 0,\n",
       "       0, 0, 0, 3, 0, 0, 0, 1, 1, 0, 0, 1, 3, 0, 2, 3, 2, 0, 0, 0, 0],\n",
       "      dtype=int64)"
      ]
     },
     "execution_count": 16,
     "metadata": {},
     "output_type": "execute_result"
    }
   ],
   "source": [
    "# View labels of hclust\n",
    "hclust.labels_"
   ]
  },
  {
   "cell_type": "code",
   "execution_count": 70,
   "metadata": {},
   "outputs": [
    {
     "data": {
      "text/html": [
       "        <script type=\"text/javascript\">\n",
       "        window.PlotlyConfig = {MathJaxConfig: 'local'};\n",
       "        if (window.MathJax) {MathJax.Hub.Config({SVG: {font: \"STIX-Web\"}});}\n",
       "        if (typeof require !== 'undefined') {\n",
       "        require.undef(\"plotly\");\n",
       "        requirejs.config({\n",
       "            paths: {\n",
       "                'plotly': ['https://cdn.plot.ly/plotly-latest.min']\n",
       "            }\n",
       "        });\n",
       "        require(['plotly'], function(Plotly) {\n",
       "            window._Plotly = Plotly;\n",
       "        });\n",
       "        }\n",
       "        </script>\n",
       "        "
      ]
     },
     "metadata": {},
     "output_type": "display_data"
    },
    {
     "data": {
      "application/vnd.plotly.v1+json": {
       "config": {
        "plotlyServerURL": "https://plot.ly"
       },
       "data": [
        {
         "customdata": [
          [
           89
          ],
          [
           91
          ],
          [
           92
          ],
          [
           90
          ],
          [
           93
          ],
          [
           89
          ],
          [
           88
          ],
          [
           87
          ],
          [
           86
          ],
          [
           82
          ],
          [
           91
          ],
          [
           88
          ],
          [
           87
          ],
          [
           91
          ],
          [
           90
          ],
          [
           85
          ],
          [
           91
          ],
          [
           88
          ],
          [
           85
          ],
          [
           85
          ],
          [
           88
          ],
          [
           84
          ],
          [
           88
          ],
          [
           94
          ],
          [
           86
          ],
          [
           94
          ],
          [
           89
          ],
          [
           87
          ],
          [
           84
          ],
          [
           91
          ],
          [
           91
          ],
          [
           88
          ],
          [
           88
          ],
          [
           89
          ],
          [
           91
          ],
          [
           90
          ],
          [
           89
          ],
          [
           83
          ],
          [
           83
          ],
          [
           86
          ],
          [
           84
          ],
          [
           94
          ],
          [
           94
          ],
          [
           79
          ],
          [
           88
          ],
          [
           85
          ],
          [
           82
          ],
          [
           82
          ],
          [
           91
          ],
          [
           91
          ],
          [
           89
          ],
          [
           84
          ],
          [
           87
          ],
          [
           81
          ],
          [
           93
          ],
          [
           84
          ],
          [
           95
          ],
          [
           89
          ],
          [
           86
          ],
          [
           85
          ],
          [
           87
          ],
          [
           92
          ],
          [
           89
          ],
          [
           85
          ],
          [
           88
          ],
          [
           86
          ],
          [
           94
          ],
          [
           87
          ],
          [
           85
          ],
          [
           83
          ],
          [
           87
          ],
          [
           88
          ],
          [
           84
          ],
          [
           85
          ],
          [
           91
          ],
          [
           90
          ],
          [
           88
          ],
          [
           89
          ],
          [
           88
          ],
          [
           92
          ],
          [
           90
          ],
          [
           85
          ],
          [
           88
          ],
          [
           94
          ],
          [
           84
          ],
          [
           91
          ],
          [
           88
          ],
          [
           87
          ],
          [
           86
          ],
          [
           83
          ],
          [
           83
          ],
          [
           91
          ],
          [
           86
          ],
          [
           89
          ],
          [
           92
          ],
          [
           87
          ],
          [
           84
          ],
          [
           83
          ],
          [
           83
          ],
          [
           85
          ],
          [
           90
          ],
          [
           97
          ],
          [
           92
          ],
          [
           87
          ],
          [
           91
          ],
          [
           83
          ],
          [
           87
          ],
          [
           91
          ],
          [
           82
          ],
          [
           91
          ],
          [
           90
          ],
          [
           86
          ],
          [
           85
          ],
          [
           90
          ],
          [
           84
          ],
          [
           87
          ],
          [
           84
          ],
          [
           88
          ],
          [
           91
          ],
          [
           84
          ],
          [
           94
          ],
          [
           89
          ],
          [
           92
          ],
          [
           89
          ],
          [
           90
          ],
          [
           90
          ],
          [
           88
          ],
          [
           88
          ],
          [
           93
          ],
          [
           90
          ],
          [
           87
          ],
          [
           87
          ],
          [
           91
          ],
          [
           87
          ],
          [
           87
          ],
          [
           92
          ],
          [
           84
          ],
          [
           87
          ],
          [
           87
          ],
          [
           83
          ],
          [
           79
          ],
          [
           92
          ],
          [
           91
          ],
          [
           83
          ],
          [
           86
          ],
          [
           84
          ],
          [
           82
          ]
         ],
         "hoverlabel": {
          "namelength": 0
         },
         "hovertemplate": "Cluster=Cluster 0<br>PCA1=%{x}<br>PCA2=%{y}<br>Feature=%{customdata[0]}",
         "legendgroup": "Cluster=Cluster 0",
         "marker": {
          "color": "#636efa",
          "opacity": 0.5,
          "symbol": "circle"
         },
         "mode": "markers",
         "name": "Cluster=Cluster 0",
         "showlegend": true,
         "textposition": "top center",
         "type": "scatter",
         "x": [
          -1.8697280492822221,
          -2.434409452240331,
          -2.4264928677563407,
          -1.8685392009729573,
          -2.573251180005187,
          -2.0825488387367774,
          -2.1726275303271336,
          -2.0509914497973174,
          -2.3083745565709424,
          -2.0409297248188443,
          -2.3014860877684185,
          -1.9328812899277126,
          -2.2112114881979883,
          -1.941830217396177,
          -2.506327661246921,
          -2.073465438046343,
          -2.0397597688071043,
          -1.8391129584522707,
          -1.8312598260555624,
          -1.8203605363189377,
          -1.8179028009565337,
          -1.7823104435599608,
          -2.16763723554197,
          -2.0723362530196874,
          -1.9195349904205221,
          -2.0324573477442054,
          -2.116082246852266,
          -1.933866709547426,
          -2.0302665780186,
          -2.2358001519510866,
          -2.0280538892551094,
          -2.0874157729938436,
          -1.8354966996507216,
          -1.544833237561717,
          -2.456740223886677,
          -1.75781831703705,
          -1.9410288223098253,
          -2.1056752134257426,
          -2.062633174326468,
          -2.078129212955828,
          -2.0920785409420724,
          -2.388501760698686,
          -2.218504917204356,
          -1.6173369030791969,
          -2.1986747579336976,
          -2.098348376809807,
          -1.6642927252834203,
          -1.8931308692782232,
          -2.3543937200349037,
          -2.364292865128858,
          -2.157714119240597,
          -1.8350599673755954,
          -2.1155698357947905,
          -1.9065821086775259,
          -2.4156994450467693,
          -2.38210225209256,
          -2.3554662245072477,
          -2.213920210083084,
          -1.7249982423507855,
          -1.75099418299541,
          -1.996764985874087,
          -1.9988960783896637,
          -2.095399542784508,
          -2.016024532553483,
          -2.27619846625506,
          -2.2889074272684744,
          -2.028528867977642,
          -2.214180093266009,
          -2.2010305324025308,
          -1.6889642519699852,
          -1.5930428171318833,
          -1.9496018153742165,
          -1.841654787631974,
          -1.9379027196432868,
          -2.169876798095487,
          -2.1059714070515705,
          -1.9050708539721548,
          -2.2569291738145036,
          -2.017053989697897,
          -1.9316213773466568,
          -2.213609523539268,
          -2.1420245144677605,
          -1.9086935145347095,
          -2.2963285716234747,
          -2.067675219987386,
          -2.13540342553809,
          -2.3501939980199786,
          -1.8642300546387074,
          -2.127973371527552,
          -1.83725587443133,
          -2.075834863497948,
          -2.2682668429440165,
          -2.45257816416769,
          -2.031563122728981,
          -2.0663645413484715,
          -2.200578134323644,
          -1.789310258609948,
          -2.0321678851269134,
          -2.0754078003594625,
          -1.7509951256267824,
          -2.1023799169538546,
          -2.1331628517151247,
          -2.1275155265360484,
          -2.096353409278053,
          -2.2507286691543555,
          -2.1683199158883157,
          -1.9532680466193002,
          -2.1737801527393144,
          -1.9024417794162414,
          -2.1775890211238633,
          -2.0802942483176636,
          -2.0383210974174126,
          -1.8416815899287775,
          -2.0306149254956956,
          -2.3429814681922903,
          -1.9840517141780682,
          -2.150973438347759,
          -1.8308477570558004,
          -2.1790865314894234,
          -1.8198144426233003,
          -2.277429385314473,
          -1.930007864222133,
          -2.009514375504899,
          -1.6408923844731527,
          -1.9542313127111783,
          -1.8610601608814794,
          -2.39115476146643,
          -1.6663039497396257,
          -2.707704272816405,
          -2.009562745741259,
          -1.8827111419501743,
          -1.8376313868861256,
          -1.9905084148264245,
          -2.178457545857197,
          -1.924474898381085,
          -1.9471237092316096,
          -2.0051735109307396,
          -2.1443530777650897,
          -1.9240066060950782,
          -1.6635162684512903,
          -1.7242589064033047,
          -2.2926793799241785,
          -2.3766512846758046,
          -1.8717867086714808,
          -2.0729035379264222,
          -2.0406619679447626,
          -2.1586795450148273
         ],
         "xaxis": "x",
         "y": [
          -0.5805164265698372,
          -0.24464809305188878,
          -0.5223152797453512,
          -0.646512589588662,
          -0.5601757161893913,
          -0.5522831575898658,
          -0.39127121964390577,
          -0.3745370800907231,
          -0.06765341940763064,
          -0.15127575003775526,
          -0.9278015703632004,
          -0.46217940797732954,
          -0.8665194545259575,
          -0.4474985357594559,
          -0.3458391868660693,
          -0.5863263912488839,
          -0.5056552939718552,
          -0.6995563607527958,
          -0.6162852748867939,
          -0.4488179712511732,
          -0.531751864402695,
          -0.17582931957520756,
          -0.46891148853210995,
          -0.7217304623516894,
          -0.5390151390286889,
          -0.41296531679874515,
          -0.5718523623889735,
          -0.6325914202993487,
          -0.410684140260364,
          -0.4444059182231616,
          -0.6544788961337656,
          -0.6741591009069243,
          -0.7311063475017331,
          -1.1357583490086818,
          -0.2149934260760995,
          -0.6974569742995147,
          -0.5261186812267993,
          -0.58397975185848,
          -0.40286675253601484,
          -0.7184174711133118,
          -0.3236017857265204,
          -0.7336846203617965,
          -0.7970647759288879,
          -0.3145015151948761,
          -0.6446001105079334,
          -0.2661795286260783,
          -0.8615209458726673,
          -0.31930529170000077,
          -0.7051855275909662,
          -0.6143021309743978,
          -0.6781150497461609,
          -0.5962198951327754,
          -0.5819853496551203,
          -0.16871255960275408,
          -0.5883260957616696,
          -0.056021301731337556,
          -0.5337893768130518,
          -0.4557403569924211,
          -0.1342401326494584,
          -0.613766447660328,
          -0.5798839826265018,
          -0.4953877249370109,
          -0.8250823055352449,
          -0.41237474727593837,
          -0.1755786962408624,
          -0.04485464987958266,
          -0.728276688885474,
          -0.5808905194796489,
          -0.2545884323196625,
          -0.680248855997893,
          -0.2924473277628603,
          -1.0344856845282335,
          -0.3051126045403697,
          -0.28753924414760706,
          -0.6243609836837652,
          -0.42933757064153094,
          -0.5315276372180464,
          -0.255221928244276,
          -0.5177839284078175,
          -0.6482214557154231,
          -0.5318906661040491,
          -0.415846876312065,
          -0.6726174163454761,
          -0.49811683685423236,
          -0.6096569429464762,
          -0.5826941350892458,
          -0.5308599913770026,
          -0.5324358705767818,
          -0.08120090768069115,
          -0.42364773125641614,
          -0.10644304402683552,
          -0.4808961050879653,
          -0.4487369192532842,
          -0.7884261388730069,
          -0.4118351486427883,
          -0.554069585224186,
          -0.3758089690344978,
          -0.2999519467201972,
          -0.47456299995454343,
          -0.6656568722532703,
          -0.31251224674139927,
          -0.7074422913241161,
          -0.8564292881080303,
          -0.566370215361419,
          -0.43033285933146215,
          -0.23166647060625123,
          -0.44963058523596294,
          -0.5946229146229913,
          -0.3230601527205462,
          -0.5877756332419971,
          -0.6145576971608393,
          -0.547289089741102,
          -0.7564246595232503,
          -0.7729868189866745,
          -0.4258295603648385,
          -0.6440711179767933,
          -0.3728279094550169,
          -0.6355826840182314,
          -0.6108517483588553,
          -0.5599740335029505,
          -0.6379969887850206,
          -0.6443535416739371,
          -0.553322897746785,
          -0.6914141025040674,
          -0.41419669885929294,
          -0.5422549521155179,
          -0.5237968907636517,
          -0.7235074938340725,
          -0.2840625416465853,
          -0.5561029147461268,
          -0.7133896695498214,
          -0.6450394376349382,
          -0.552215307318975,
          -0.7134886382155601,
          -0.9713045528517574,
          -0.5731169250694227,
          -0.6891675147133185,
          -0.37459159845589657,
          -0.20396253486593707,
          -0.4682233578430872,
          -0.329127219123727,
          -0.6101991826767976,
          -0.05300649454133988,
          -0.3003232467793292,
          -0.4475575797003766,
          -0.4456363874126079,
          -0.30006515795971106
         ],
         "yaxis": "y"
        },
        {
         "customdata": [
          [
           65
          ],
          [
           57
          ],
          [
           65
          ],
          [
           59
          ],
          [
           61
          ],
          [
           60
          ],
          [
           55
          ],
          [
           63
          ],
          [
           62
          ],
          [
           59
          ],
          [
           67
          ],
          [
           58
          ],
          [
           66
          ],
          [
           58
          ],
          [
           57
          ],
          [
           57
          ],
          [
           66
          ],
          [
           59
          ],
          [
           68
          ],
          [
           61
          ],
          [
           58
          ],
          [
           59
          ],
          [
           61
          ],
          [
           64
          ],
          [
           63
          ],
          [
           64
          ],
          [
           62
          ],
          [
           61
          ],
          [
           62
          ],
          [
           67
          ],
          [
           61
          ],
          [
           57
          ],
          [
           63
          ],
          [
           56
          ],
          [
           51
          ],
          [
           59
          ],
          [
           58
          ],
          [
           55
          ],
          [
           61
          ],
          [
           55
          ],
          [
           58
          ],
          [
           68
          ],
          [
           58
          ],
          [
           67
          ],
          [
           56
          ],
          [
           59
          ],
          [
           59
          ],
          [
           57
          ],
          [
           60
          ],
          [
           67
          ],
          [
           61
          ],
          [
           60
          ],
          [
           59
          ],
          [
           57
          ],
          [
           59
          ],
          [
           59
          ],
          [
           58
          ],
          [
           63
          ],
          [
           61
          ],
          [
           56
          ],
          [
           58
          ],
          [
           56
          ],
          [
           59
          ],
          [
           61
          ],
          [
           60
          ],
          [
           56
          ],
          [
           63
          ],
          [
           58
          ],
          [
           59
          ],
          [
           62
          ],
          [
           59
          ],
          [
           59
          ],
          [
           65
          ],
          [
           64
          ],
          [
           59
          ],
          [
           59
          ],
          [
           61
          ],
          [
           64
          ],
          [
           58
          ],
          [
           57
          ],
          [
           58
          ],
          [
           56
          ],
          [
           63
          ],
          [
           58
          ],
          [
           60
          ],
          [
           58
          ],
          [
           62
          ],
          [
           66
          ],
          [
           66
          ],
          [
           63
          ],
          [
           64
          ],
          [
           62
          ],
          [
           62
          ],
          [
           60
          ],
          [
           65
          ],
          [
           60
          ],
          [
           63
          ],
          [
           56
          ],
          [
           58
          ],
          [
           62
          ],
          [
           56
          ],
          [
           59
          ],
          [
           65
          ],
          [
           62
          ],
          [
           59
          ],
          [
           64
          ],
          [
           66
          ],
          [
           59
          ],
          [
           59
          ],
          [
           59
          ],
          [
           62
          ],
          [
           59
          ],
          [
           54
          ],
          [
           61
          ],
          [
           55
          ],
          [
           53
          ],
          [
           55
          ],
          [
           61
          ],
          [
           59
          ],
          [
           59
          ],
          [
           56
          ],
          [
           61
          ],
          [
           61
          ],
          [
           60
          ],
          [
           57
          ],
          [
           61
          ],
          [
           55
          ],
          [
           53
          ],
          [
           61
          ],
          [
           64
          ],
          [
           62
          ],
          [
           55
          ],
          [
           58
          ],
          [
           57
          ],
          [
           58
          ],
          [
           64
          ],
          [
           57
          ],
          [
           63
          ],
          [
           53
          ],
          [
           56
          ],
          [
           60
          ],
          [
           55
          ],
          [
           60
          ],
          [
           61
          ],
          [
           62
          ],
          [
           61
          ],
          [
           56
          ],
          [
           64
          ],
          [
           62
          ],
          [
           62
          ],
          [
           62
          ],
          [
           58
          ],
          [
           56
          ],
          [
           58
          ],
          [
           58
          ],
          [
           60
          ],
          [
           59
          ]
         ],
         "hoverlabel": {
          "namelength": 0
         },
         "hovertemplate": "Cluster=Cluster 1<br>PCA1=%{x}<br>PCA2=%{y}<br>Feature=%{customdata[0]}",
         "legendgroup": "Cluster=Cluster 1",
         "marker": {
          "color": "#EF553B",
          "opacity": 0.5,
          "symbol": "circle"
         },
         "mode": "markers",
         "name": "Cluster=Cluster 1",
         "showlegend": true,
         "textposition": "top center",
         "type": "scatter",
         "x": [
          0.7239112201382846,
          0.9571353877952674,
          0.6478275645005543,
          1.148630911341342,
          0.7067815653426051,
          1.1042995032054315,
          1.2001761522613563,
          0.9005512076840446,
          0.913510898461857,
          1.2298121391581476,
          0.7700672272604187,
          1.1141007448294606,
          0.8792738469657456,
          1.2303912589888955,
          0.9338372084676223,
          1.2579324208643237,
          0.7618952590909004,
          1.010430889890269,
          0.9920509220265862,
          0.8130583991800271,
          1.110090111967917,
          1.0860834631559388,
          0.906327696371811,
          1.0307558481195223,
          0.587495020774433,
          0.9787343363735489,
          1.0389401959091815,
          0.8585655800673436,
          1.2202717551543694,
          0.7249920266719722,
          1.0057580252199225,
          1.0411652628551484,
          1.1223054064560902,
          1.0034312490135382,
          1.1995233369715046,
          1.2741578324324205,
          0.9635000489418426,
          0.9597714184823419,
          1.1797424349453591,
          0.9891262539028138,
          1.2033580787372493,
          0.7345224536973606,
          0.7012057006565174,
          1.1009880353844501,
          1.03153052906236,
          0.9780286611471134,
          1.2896994688891956,
          1.3096489367282758,
          0.8851694928542458,
          1.017774283463358,
          0.9274436793601518,
          0.900154839534069,
          0.8841763416019125,
          0.936687584956589,
          0.9097383481894072,
          0.8746209506670777,
          0.8948999863698722,
          0.8396236642159601,
          0.9290424183035485,
          1.0762714657361943,
          1.0077838123091274,
          1.1083351039976728,
          0.8882657128433469,
          0.9237975531166805,
          0.7536542920504703,
          1.1555901253734104,
          0.8515298284149736,
          1.1482022259284113,
          0.8311167460272423,
          0.917101851227257,
          1.0276462557383785,
          0.6422857813201294,
          0.8409539543751346,
          0.5769670648673789,
          0.8896978494461357,
          0.984440321205992,
          0.7154392143016086,
          0.8786678441937484,
          1.1468876247150963,
          1.1485118892294275,
          1.1322172843358063,
          0.9717515952895664,
          1.0952935033637554,
          0.9587404739564881,
          1.344363470386025,
          0.9274461945087721,
          0.9632799957287449,
          0.9525916330653011,
          0.9431516159078607,
          1.1354956368540747,
          0.971444747927849,
          0.8562799812956972,
          0.7249837560928997,
          0.8649715699350828,
          0.8476895267480912,
          0.7922339525591616,
          1.1922844949437712,
          1.1871770375613515,
          1.0575568848340322,
          0.8490308300039281,
          0.9023436791080554,
          0.8781458068178456,
          0.8870065000324077,
          0.9235060256341693,
          0.9521164820641914,
          1.0634574127660064,
          1.0537081823530925,
          0.6357717909350328,
          1.101807742700451,
          1.3006755047034924,
          0.6005385777151324,
          0.95984658365927,
          1.1697346195328324,
          0.9264159454924336,
          0.9406912733862142,
          1.3394961401468366,
          1.075892886938178,
          0.9565958187381567,
          0.9566943442267907,
          0.8850119549128225,
          0.831873188839805,
          1.1636286139111318,
          0.876634876597755,
          0.933315807089178,
          1.0012029912185747,
          0.963194869371253,
          1.1846884299933702,
          0.8561992797300061,
          1.1738067741239218,
          0.6391237210213268,
          1.122260656473749,
          0.9724171706319942,
          0.943688615428215,
          1.1403409067101886,
          0.9302440657310584,
          0.9542073864397952,
          1.196204847766827,
          0.7468121011647828,
          1.0002245891757409,
          0.7937665202778104,
          0.6600458052850804,
          1.3537747237686777,
          0.9380694584256887,
          0.6666187788730189,
          0.7842922234584785,
          0.7496519064749219,
          0.8368247283629235,
          1.052795914092742,
          1.0298407611661433,
          0.9617402458141201,
          0.839738412176907,
          1.2492430376410202,
          1.0237673233968174,
          1.0859190974687243,
          1.2767029202859064,
          0.9828233353724,
          0.9044526928941075
         ],
         "xaxis": "x",
         "y": [
          -1.0507470349734904,
          -0.9565819796170687,
          -1.0359646762228452,
          -1.3121424450067765,
          -0.8793663591691477,
          -1.348768057288338,
          -1.015827952741259,
          -1.0610728540732426,
          -1.3337170540163852,
          -1.1517869497731896,
          -1.4642365784839704,
          -0.9421656927207698,
          -1.046145579101808,
          -1.2819246368405388,
          -1.1029271622884147,
          -1.1249923805906836,
          -1.121532982997155,
          -1.12481585565712,
          -1.2434959251847706,
          -0.8845749062692375,
          -1.2400731019552833,
          -1.0614239888146544,
          -1.0511809661886875,
          -1.155176797443866,
          -1.2657504433580289,
          -1.0343041033681748,
          -1.3354215530049682,
          -1.118168605139058,
          -1.3105601054950982,
          -1.2147689018237111,
          -0.9559112403520237,
          -1.0164501160909123,
          -1.4914780162827943,
          -0.7525024627463048,
          -0.9477794401632047,
          -1.0463684634358998,
          -0.7727413564345438,
          -1.0513254462232922,
          -1.3369076902187333,
          -0.7822596239105338,
          -1.1123684216426564,
          -1.2291518684300584,
          -0.8434352647277826,
          -1.2445037590847663,
          -0.9728022402340457,
          -1.0665351333493085,
          -0.8636901977227738,
          -1.0741646084522773,
          -1.0239607621545121,
          -1.1656553153572782,
          -1.23593564395872,
          -0.9546617155047082,
          -0.883460326232841,
          -1.0995649396023361,
          -1.414951087765637,
          -1.0453663262140032,
          -0.9811823394698048,
          -1.114488044198396,
          -1.0753706347754173,
          -1.1747153624334554,
          -0.9053816282992313,
          -0.9580578179176918,
          -1.1006490408047043,
          -1.1172042807724425,
          -1.1145607567968934,
          -0.9365035619575762,
          -0.8140489820848756,
          -1.0037927169385228,
          -0.758435179968551,
          -1.190639352771616,
          -1.1511135727122206,
          -0.8817110002017661,
          -1.0784400580942912,
          -1.1297691314887484,
          -0.6885532249176779,
          -1.0678256384123315,
          -1.042096056939778,
          -1.3264010299557352,
          -1.0152786302882955,
          -1.0099903883596038,
          -1.1494041562954525,
          -0.5649600821262502,
          -0.9611063612314243,
          -1.0432359401220646,
          -1.1927289211003644,
          -0.9959200993131953,
          -1.0837930828009537,
          -1.2809187624549898,
          -1.4349214298920447,
          -1.317022034496794,
          -1.269523681122866,
          -1.2523686077315679,
          -1.1918147399627204,
          -1.0532901989434427,
          -1.3159987548266672,
          -0.9398166771098884,
          -1.1301357535798997,
          -0.8125526735700419,
          -1.0091355521181082,
          -1.054976666022166,
          -0.9336007915987249,
          -1.0463193934652173,
          -1.3435832857455183,
          -0.8595055605314001,
          -1.1563579576315994,
          -0.891828490987825,
          -1.087713520984252,
          -0.7367980450519105,
          -1.149041291902285,
          -1.0677674191672901,
          -0.7548244477818224,
          -0.9748347344571849,
          -0.9198672968790512,
          -1.1290579834183962,
          -0.8808471845883361,
          -0.9913379913927998,
          -0.8568977558910137,
          -0.9855813347503578,
          -1.2166843588808522,
          -1.0165017672645724,
          -1.032181050886837,
          -1.2056989722609774,
          -1.281890310531212,
          -1.1153776376066373,
          -0.8833160228396809,
          -1.1033987930252478,
          -1.02806344702206,
          -0.969580679782165,
          -1.3728850855905388,
          -1.2502687489679603,
          -1.3655426725674513,
          -0.9207784656681911,
          -0.9083467846147816,
          -0.9227179212670819,
          -0.8523800969479176,
          -1.0465531834828221,
          -1.1065738734144612,
          -1.0451032464753884,
          -0.7626500679044004,
          -1.0760098573240726,
          -0.983773436033552,
          -1.1631989621469194,
          -1.1838093703927492,
          -0.9215721697739372,
          -1.063949412004081,
          -1.0145670833985094,
          -0.9568953644188056,
          -0.9213721361046181,
          -1.0482490063880947,
          -1.2186962045310639,
          -1.1551968788296632,
          -1.0523088391424915,
          -1.1033585592811566,
          -0.9452613546469523,
          -1.0100873588647488,
          -1.2485588625603425,
          -0.9647568583715012
         ],
         "yaxis": "y"
        },
        {
         "customdata": [
          [
           36
          ],
          [
           29
          ],
          [
           31
          ],
          [
           31
          ],
          [
           38
          ],
          [
           30
          ],
          [
           39
          ],
          [
           36
          ],
          [
           35
          ],
          [
           30
          ],
          [
           29
          ],
          [
           33
          ],
          [
           33
          ],
          [
           32
          ],
          [
           38
          ],
          [
           37
          ],
          [
           35
          ],
          [
           36
          ],
          [
           32
          ],
          [
           31
          ],
          [
           37
          ],
          [
           36
          ],
          [
           31
          ],
          [
           37
          ],
          [
           35
          ],
          [
           35
          ],
          [
           37
          ],
          [
           34
          ],
          [
           44
          ],
          [
           31
          ],
          [
           25
          ],
          [
           22
          ],
          [
           29
          ],
          [
           31
          ],
          [
           38
          ],
          [
           33
          ],
          [
           33
          ],
          [
           29
          ],
          [
           32
          ],
          [
           30
          ],
          [
           31
          ],
          [
           31
          ],
          [
           30
          ],
          [
           36
          ],
          [
           30
          ],
          [
           28
          ],
          [
           37
          ],
          [
           29
          ],
          [
           31
          ],
          [
           33
          ],
          [
           32
          ],
          [
           36
          ],
          [
           36
          ],
          [
           29
          ],
          [
           31
          ],
          [
           34
          ],
          [
           39
          ],
          [
           36
          ],
          [
           34
          ],
          [
           37
          ],
          [
           25
          ],
          [
           31
          ],
          [
           35
          ],
          [
           28
          ],
          [
           33
          ],
          [
           31
          ],
          [
           28
          ],
          [
           39
          ],
          [
           31
          ],
          [
           27
          ],
          [
           34
          ],
          [
           29
          ],
          [
           43
          ],
          [
           33
          ],
          [
           26
          ],
          [
           24
          ],
          [
           31
          ],
          [
           29
          ],
          [
           33
          ],
          [
           36
          ],
          [
           31
          ],
          [
           40
          ],
          [
           42
          ],
          [
           32
          ],
          [
           37
          ],
          [
           34
          ],
          [
           33
          ],
          [
           35
          ],
          [
           37
          ],
          [
           28
          ],
          [
           33
          ],
          [
           33
          ],
          [
           29
          ],
          [
           28
          ],
          [
           31
          ],
          [
           37
          ],
          [
           31
          ],
          [
           33
          ],
          [
           30
          ],
          [
           30
          ],
          [
           34
          ],
          [
           30
          ],
          [
           30
          ],
          [
           29
          ],
          [
           30
          ],
          [
           34
          ],
          [
           37
          ],
          [
           34
          ],
          [
           38
          ],
          [
           33
          ],
          [
           34
          ],
          [
           30
          ],
          [
           35
          ],
          [
           36
          ],
          [
           29
          ],
          [
           32
          ],
          [
           35
          ],
          [
           28
          ],
          [
           31
          ],
          [
           34
          ],
          [
           35
          ],
          [
           33
          ],
          [
           28
          ],
          [
           32
          ],
          [
           34
          ],
          [
           35
          ]
         ],
         "hoverlabel": {
          "namelength": 0
         },
         "hovertemplate": "Cluster=Cluster 2<br>PCA1=%{x}<br>PCA2=%{y}<br>Feature=%{customdata[0]}",
         "legendgroup": "Cluster=Cluster 2",
         "marker": {
          "color": "#00cc96",
          "opacity": 0.5,
          "symbol": "circle"
         },
         "mode": "markers",
         "name": "Cluster=Cluster 2",
         "showlegend": true,
         "textposition": "top center",
         "type": "scatter",
         "x": [
          0.09673032822120745,
          0.25042651146460215,
          0.38710406497924066,
          0.5185981404318576,
          0.2650154277043922,
          0.3069078787811712,
          -0.006468025279818359,
          0.3437587941710388,
          0.024001307254419943,
          0.3057930567850856,
          0.584759073105424,
          0.08024305381566141,
          0.2936124222088349,
          0.3727728318957418,
          0.3664728401947459,
          0.15198305961188927,
          0.11071991137137464,
          0.20567888975494616,
          -0.04968093964063528,
          0.5452752093266902,
          -0.16677564882897886,
          0.2679191814272718,
          0.39146386686634094,
          0.3414146466230355,
          0.19548578829641963,
          0.22406947728996734,
          0.4282798729004831,
          0.17234856466096352,
          0.2247760568948386,
          0.053964472537442285,
          0.35579426205444237,
          0.4927454296214791,
          0.20276288878265805,
          0.027736853226805594,
          -0.048888915492323944,
          0.22337118271621278,
          0.36194896264686816,
          0.38907561819711867,
          0.07995823881348534,
          0.3625065507971224,
          0.3971649995899922,
          0.4729348531496343,
          0.4919717971174586,
          -0.13685559370131772,
          0.30313547144560254,
          0.4984012657689416,
          -0.08303284009090857,
          0.6286924870783729,
          0.5284487627009915,
          0.22660349946699965,
          0.5054336761019059,
          -0.0038820277293611333,
          -0.03804973889746746,
          0.4402666879537103,
          0.14417381093558193,
          0.05733948358088145,
          -0.19665034354948738,
          0.134481236165202,
          -0.03495992933636098,
          0.35957420818189584,
          0.490435522567851,
          0.7852626925848276,
          0.22722301373569634,
          0.1487020669596357,
          0.4086770958302612,
          0.4655146363510323,
          0.1940061790898513,
          0.023800034019156778,
          0.45112566394768244,
          0.32968656590210194,
          0.4591164161866805,
          0.5237234715682929,
          0.20141490529333217,
          0.4503179507765595,
          0.20578940530668322,
          0.5360012104415603,
          0.28969226438189866,
          0.690906723567272,
          0.28304917380758693,
          0.12793108986064058,
          0.27307896834242595,
          -0.16363100906070185,
          0.13257246875515516,
          0.2219583717509898,
          0.16776579028489855,
          0.3449593972426621,
          0.44282179644137876,
          0.24261077787919458,
          -0.14116088760897288,
          0.4814838044302811,
          0.07393711916142034,
          0.36602249697063527,
          0.2216738934979723,
          0.20166698692266166,
          0.399166416897995,
          0.21653502421287846,
          0.43487049606147715,
          0.30058208311151907,
          0.12145280919457399,
          0.29862034062206516,
          -0.2548237528180676,
          0.48450085362116724,
          0.5794692124747521,
          0.30784219342862384,
          0.13738956128030835,
          0.28393760556401304,
          0.20330526748275352,
          0.2046623125481884,
          0.29504088373913595,
          -0.014697097471744936,
          0.33143705425093956,
          0.4346602593531404,
          0.3452905327995578,
          0.26913818104696025,
          0.3018537489358099,
          0.015327966610085139,
          0.11048998627359029,
          0.640083955100535,
          0.30853165705142777,
          0.426339310227902,
          -0.053834708931847504,
          0.25683385611223836,
          0.2973083261170753,
          0.46404467576637776,
          0.2880639750193823,
          0.4230093119167909
         ],
         "xaxis": "x",
         "y": [
          1.6883803368860282,
          1.7045737168680584,
          1.6327021954108745,
          1.6110514952537338,
          1.3083700428412073,
          1.8163264661040186,
          1.4065030087999912,
          1.4900560698948315,
          1.8335899900320298,
          1.4227930628879149,
          1.663613175996638,
          1.5786771127142127,
          1.264013377462412,
          1.5950420209258984,
          1.5049755155184428,
          1.6813486703531937,
          1.6282156708943851,
          1.4236760759691667,
          1.8084510956242181,
          1.6225836216764207,
          1.9774513127660724,
          1.3625596570144105,
          1.52463817050699,
          1.5060626653747764,
          1.5491572950554597,
          1.5579353422760727,
          1.3538259752633228,
          1.5985063871979601,
          1.431478595139497,
          1.879212174498775,
          1.8030470223324389,
          1.9718039845992688,
          1.6763723210811776,
          1.7775658109685324,
          1.3356345326366277,
          1.725791681996304,
          1.544971007287245,
          1.5835804046764868,
          1.8817135560796954,
          1.553462642661909,
          1.5611120792695707,
          1.6131155536732487,
          1.4004458102457686,
          1.709337162867264,
          1.4356540674669325,
          1.4668140133406482,
          1.7477775151104065,
          1.7706295477806975,
          1.7138725020207166,
          1.5336527633449721,
          1.7349848989221501,
          1.5056229051014898,
          1.5639820418294053,
          1.6176442163635727,
          1.73116625072267,
          1.5652697184166733,
          1.6777087208849673,
          1.66696882119156,
          1.788117522181012,
          1.3842669781928516,
          1.724598229783462,
          1.2961194698254566,
          1.6914136090722671,
          1.841091128649502,
          1.748374953865555,
          1.6949834534892416,
          1.6256572190401368,
          1.373251559171965,
          1.6261973246818524,
          1.8825045705647967,
          1.3652888788155262,
          1.800776487686494,
          1.1172874659131973,
          1.300892283960428,
          1.7808274530189123,
          1.902871708774997,
          1.6938535756527968,
          1.5046695624157949,
          1.3339903084159737,
          1.6563184455170614,
          1.948723705925217,
          1.539214376484883,
          1.3794772197998677,
          1.6538061883701927,
          1.5884879805808447,
          1.1115856337569499,
          1.7178062831537215,
          1.8213872096778956,
          1.6330479814137964,
          1.858779650834613,
          1.9754941876402792,
          1.601550924718381,
          1.5545837401125537,
          1.7577290127423641,
          1.3979723220008213,
          1.25188262081358,
          1.6665504109774725,
          1.5767779928226533,
          1.9802749942157685,
          1.779841048936421,
          1.9388703447510922,
          1.5308144735053286,
          1.5592465200220986,
          1.6832209909007443,
          1.8001751549855391,
          1.5811689876494455,
          1.5979907566980192,
          1.6348950978265089,
          1.6111760839375877,
          1.771970243004947,
          1.8559979497540275,
          1.6911797176787826,
          1.3469663712514408,
          1.4903918198750619,
          1.8607182156336632,
          1.6530802508705518,
          1.6112778160406769,
          1.565138920568123,
          1.65832577066864,
          1.5506070567409977,
          1.880504182184665,
          1.669142672132959,
          1.6131913255928783,
          1.6197173738617596,
          1.339220691513907,
          1.5933858435585802
         ],
         "yaxis": "y"
        },
        {
         "customdata": [
          [
           20
          ],
          [
           26
          ],
          [
           17
          ],
          [
           25
          ],
          [
           18
          ],
          [
           28
          ],
          [
           28
          ],
          [
           21
          ],
          [
           17
          ],
          [
           24
          ],
          [
           24
          ],
          [
           30
          ],
          [
           23
          ],
          [
           25
          ],
          [
           23
          ],
          [
           26
          ],
          [
           22
          ],
          [
           29
          ],
          [
           22
          ],
          [
           25
          ],
          [
           23
          ],
          [
           25
          ],
          [
           21
          ],
          [
           28
          ],
          [
           27
          ],
          [
           27
          ],
          [
           25
          ],
          [
           20
          ],
          [
           17
          ],
          [
           24
          ],
          [
           24
          ],
          [
           27
          ],
          [
           28
          ],
          [
           29
          ],
          [
           20
          ],
          [
           28
          ],
          [
           31
          ],
          [
           26
          ],
          [
           26
          ],
          [
           23
          ],
          [
           24
          ],
          [
           24
          ],
          [
           29
          ],
          [
           25
          ],
          [
           24
          ],
          [
           22
          ],
          [
           26
          ],
          [
           17
          ],
          [
           28
          ],
          [
           18
          ]
         ],
         "hoverlabel": {
          "namelength": 0
         },
         "hovertemplate": "Cluster=Cluster 3<br>PCA1=%{x}<br>PCA2=%{y}<br>Feature=%{customdata[0]}",
         "legendgroup": "Cluster=Cluster 3",
         "marker": {
          "color": "#ab63fa",
          "opacity": 0.5,
          "symbol": "circle"
         },
         "mode": "markers",
         "name": "Cluster=Cluster 3",
         "showlegend": true,
         "textposition": "top center",
         "type": "scatter",
         "x": [
          2.9746754371514825,
          2.640843241893842,
          3.174508943970732,
          2.8393403842736813,
          2.895151046938777,
          2.5924747891532167,
          2.5781609522364097,
          3.069942802316508,
          3.226889225110597,
          3.0316088334899116,
          3.272920432210054,
          2.5319520001292095,
          3.2150627218039767,
          2.995478237895019,
          2.962705253782905,
          2.921754004535288,
          2.926771944159538,
          2.855974600756293,
          3.179855781881797,
          2.731893082559852,
          2.7956134120132616,
          2.924833848117506,
          3.015997241498176,
          2.6742850000849936,
          2.813779616507524,
          2.7278880570709094,
          2.6524433273146073,
          2.8919325130956586,
          3.574659076465146,
          2.9488018362117545,
          3.0282067846672174,
          3.0369381609667565,
          2.9445626913206135,
          2.912240638098012,
          2.946174796554267,
          3.017276907678435,
          2.8120134954171805,
          2.8932637199609275,
          2.6960211291052683,
          2.998489358625382,
          3.069820746052281,
          2.9683775865455604,
          2.9232445728248004,
          3.217300822203086,
          2.79228384382904,
          2.894059984176769,
          2.9771795063443514,
          3.280104640371691,
          3.1151268129853094,
          3.0082481072070255
         ],
         "xaxis": "x",
         "y": [
          0.18812441934617055,
          0.20007400245974,
          0.048418175898206794,
          0.15108398587787242,
          0.2932077351659222,
          -0.09778160567888099,
          0.005986017086142222,
          0.07048902990258887,
          0.278510961124053,
          0.11792704083326908,
          -0.011433907512107258,
          -0.016054823596124153,
          0.08407239346363263,
          0.0016140903642261478,
          0.1153453541325655,
          -0.20465230850872485,
          0.28247214165392,
          -0.005594946396853922,
          0.05253080601071553,
          0.20866220429412677,
          0.017222496205368868,
          0.03491418959418737,
          0.04887447278271473,
          0.06420133505403501,
          -0.1292777025450038,
          -0.09820174672237966,
          0.05766718346507335,
          0.27490967861885235,
          0.042457019736512426,
          0.09223412829220491,
          0.08174843209851099,
          -0.2738297104010226,
          -0.30204787320671334,
          0.12579515625111298,
          0.08272269299997426,
          -0.19393570460246945,
          -0.2748720695213678,
          0.07596964552686293,
          0.058448895029823256,
          0.016411353091425707,
          -0.08630325203006894,
          0.06693014037081221,
          -0.2966922491996123,
          -0.025878210675484566,
          -0.03384346825793681,
          -0.07605865447778332,
          -0.10114428493012478,
          0.2499176026387909,
          -0.36229901638415773,
          0.31381771787645424
         ],
         "yaxis": "y"
        },
        {
         "customdata": [
          [
           84
          ],
          [
           85
          ],
          [
           84
          ],
          [
           83
          ],
          [
           93
          ],
          [
           88
          ],
          [
           82
          ],
          [
           84
          ],
          [
           87
          ],
          [
           92
          ],
          [
           90
          ],
          [
           86
          ],
          [
           88
          ],
          [
           86
          ],
          [
           84
          ],
          [
           88
          ],
          [
           82
          ],
          [
           89
          ],
          [
           85
          ],
          [
           77
          ],
          [
           83
          ],
          [
           86
          ],
          [
           83
          ],
          [
           90
          ],
          [
           91
          ]
         ],
         "hoverlabel": {
          "namelength": 0
         },
         "hovertemplate": "Cluster=Cluster 4<br>PCA1=%{x}<br>PCA2=%{y}<br>Feature=%{customdata[0]}",
         "legendgroup": "Cluster=Cluster 4",
         "marker": {
          "color": "#FFA15A",
          "opacity": 0.5,
          "symbol": "circle"
         },
         "mode": "markers",
         "name": "Cluster=Cluster 4",
         "showlegend": true,
         "textposition": "top center",
         "type": "scatter",
         "x": [
          -1.2979515263060244,
          -1.5495777609132402,
          -1.2100457107383853,
          -1.0059359967728807,
          -1.3360268955174621,
          -1.2001127180569242,
          -1.111675812656091,
          -1.3408525815750545,
          -1.0284353284046783,
          -1.2116106454713147,
          -1.3668130185716867,
          -0.8396280683107497,
          -1.2193542424079018,
          -1.452482968769698,
          -1.0162690443379765,
          -1.7825271707199983,
          -1.1718483189508542,
          -1.387047552886112,
          -1.093176987418459,
          -1.0109589668412193,
          -1.2456794724832783,
          -1.3186928055634528,
          -1.3536715194939581,
          -1.0467426045995583,
          -1.4038953738793851
         ],
         "xaxis": "x",
         "y": [
          1.3893135331933018,
          1.621383993138039,
          1.4428374080067072,
          1.2611942597080201,
          1.5734980156902059,
          1.553967731369672,
          1.595607802887946,
          1.4527034625685618,
          1.1905123991311308,
          1.3791437465862457,
          1.6266147798411421,
          1.325933796638322,
          1.4554452456257119,
          1.8626551648882521,
          1.448700704725732,
          1.7862055583020957,
          1.7138756056786228,
          1.4915980298420346,
          1.321512107655857,
          1.8538623688858593,
          1.5515629751998394,
          1.4864784540101592,
          1.71262746159195,
          1.1704962541165729,
          1.5183231476048826
         ],
         "yaxis": "y"
        }
       ],
       "layout": {
        "height": 600,
        "legend": {
         "tracegroupgap": 0
        },
        "margin": {
         "t": 60
        },
        "plot_bgcolor": "rgb(240,240,240)",
        "template": {
         "data": {
          "bar": [
           {
            "error_x": {
             "color": "#2a3f5f"
            },
            "error_y": {
             "color": "#2a3f5f"
            },
            "marker": {
             "line": {
              "color": "#E5ECF6",
              "width": 0.5
             }
            },
            "type": "bar"
           }
          ],
          "barpolar": [
           {
            "marker": {
             "line": {
              "color": "#E5ECF6",
              "width": 0.5
             }
            },
            "type": "barpolar"
           }
          ],
          "carpet": [
           {
            "aaxis": {
             "endlinecolor": "#2a3f5f",
             "gridcolor": "white",
             "linecolor": "white",
             "minorgridcolor": "white",
             "startlinecolor": "#2a3f5f"
            },
            "baxis": {
             "endlinecolor": "#2a3f5f",
             "gridcolor": "white",
             "linecolor": "white",
             "minorgridcolor": "white",
             "startlinecolor": "#2a3f5f"
            },
            "type": "carpet"
           }
          ],
          "choropleth": [
           {
            "colorbar": {
             "outlinewidth": 0,
             "ticks": ""
            },
            "type": "choropleth"
           }
          ],
          "contour": [
           {
            "colorbar": {
             "outlinewidth": 0,
             "ticks": ""
            },
            "colorscale": [
             [
              0,
              "#0d0887"
             ],
             [
              0.1111111111111111,
              "#46039f"
             ],
             [
              0.2222222222222222,
              "#7201a8"
             ],
             [
              0.3333333333333333,
              "#9c179e"
             ],
             [
              0.4444444444444444,
              "#bd3786"
             ],
             [
              0.5555555555555556,
              "#d8576b"
             ],
             [
              0.6666666666666666,
              "#ed7953"
             ],
             [
              0.7777777777777778,
              "#fb9f3a"
             ],
             [
              0.8888888888888888,
              "#fdca26"
             ],
             [
              1,
              "#f0f921"
             ]
            ],
            "type": "contour"
           }
          ],
          "contourcarpet": [
           {
            "colorbar": {
             "outlinewidth": 0,
             "ticks": ""
            },
            "type": "contourcarpet"
           }
          ],
          "heatmap": [
           {
            "colorbar": {
             "outlinewidth": 0,
             "ticks": ""
            },
            "colorscale": [
             [
              0,
              "#0d0887"
             ],
             [
              0.1111111111111111,
              "#46039f"
             ],
             [
              0.2222222222222222,
              "#7201a8"
             ],
             [
              0.3333333333333333,
              "#9c179e"
             ],
             [
              0.4444444444444444,
              "#bd3786"
             ],
             [
              0.5555555555555556,
              "#d8576b"
             ],
             [
              0.6666666666666666,
              "#ed7953"
             ],
             [
              0.7777777777777778,
              "#fb9f3a"
             ],
             [
              0.8888888888888888,
              "#fdca26"
             ],
             [
              1,
              "#f0f921"
             ]
            ],
            "type": "heatmap"
           }
          ],
          "heatmapgl": [
           {
            "colorbar": {
             "outlinewidth": 0,
             "ticks": ""
            },
            "colorscale": [
             [
              0,
              "#0d0887"
             ],
             [
              0.1111111111111111,
              "#46039f"
             ],
             [
              0.2222222222222222,
              "#7201a8"
             ],
             [
              0.3333333333333333,
              "#9c179e"
             ],
             [
              0.4444444444444444,
              "#bd3786"
             ],
             [
              0.5555555555555556,
              "#d8576b"
             ],
             [
              0.6666666666666666,
              "#ed7953"
             ],
             [
              0.7777777777777778,
              "#fb9f3a"
             ],
             [
              0.8888888888888888,
              "#fdca26"
             ],
             [
              1,
              "#f0f921"
             ]
            ],
            "type": "heatmapgl"
           }
          ],
          "histogram": [
           {
            "marker": {
             "colorbar": {
              "outlinewidth": 0,
              "ticks": ""
             }
            },
            "type": "histogram"
           }
          ],
          "histogram2d": [
           {
            "colorbar": {
             "outlinewidth": 0,
             "ticks": ""
            },
            "colorscale": [
             [
              0,
              "#0d0887"
             ],
             [
              0.1111111111111111,
              "#46039f"
             ],
             [
              0.2222222222222222,
              "#7201a8"
             ],
             [
              0.3333333333333333,
              "#9c179e"
             ],
             [
              0.4444444444444444,
              "#bd3786"
             ],
             [
              0.5555555555555556,
              "#d8576b"
             ],
             [
              0.6666666666666666,
              "#ed7953"
             ],
             [
              0.7777777777777778,
              "#fb9f3a"
             ],
             [
              0.8888888888888888,
              "#fdca26"
             ],
             [
              1,
              "#f0f921"
             ]
            ],
            "type": "histogram2d"
           }
          ],
          "histogram2dcontour": [
           {
            "colorbar": {
             "outlinewidth": 0,
             "ticks": ""
            },
            "colorscale": [
             [
              0,
              "#0d0887"
             ],
             [
              0.1111111111111111,
              "#46039f"
             ],
             [
              0.2222222222222222,
              "#7201a8"
             ],
             [
              0.3333333333333333,
              "#9c179e"
             ],
             [
              0.4444444444444444,
              "#bd3786"
             ],
             [
              0.5555555555555556,
              "#d8576b"
             ],
             [
              0.6666666666666666,
              "#ed7953"
             ],
             [
              0.7777777777777778,
              "#fb9f3a"
             ],
             [
              0.8888888888888888,
              "#fdca26"
             ],
             [
              1,
              "#f0f921"
             ]
            ],
            "type": "histogram2dcontour"
           }
          ],
          "mesh3d": [
           {
            "colorbar": {
             "outlinewidth": 0,
             "ticks": ""
            },
            "type": "mesh3d"
           }
          ],
          "parcoords": [
           {
            "line": {
             "colorbar": {
              "outlinewidth": 0,
              "ticks": ""
             }
            },
            "type": "parcoords"
           }
          ],
          "pie": [
           {
            "automargin": true,
            "type": "pie"
           }
          ],
          "scatter": [
           {
            "marker": {
             "colorbar": {
              "outlinewidth": 0,
              "ticks": ""
             }
            },
            "type": "scatter"
           }
          ],
          "scatter3d": [
           {
            "line": {
             "colorbar": {
              "outlinewidth": 0,
              "ticks": ""
             }
            },
            "marker": {
             "colorbar": {
              "outlinewidth": 0,
              "ticks": ""
             }
            },
            "type": "scatter3d"
           }
          ],
          "scattercarpet": [
           {
            "marker": {
             "colorbar": {
              "outlinewidth": 0,
              "ticks": ""
             }
            },
            "type": "scattercarpet"
           }
          ],
          "scattergeo": [
           {
            "marker": {
             "colorbar": {
              "outlinewidth": 0,
              "ticks": ""
             }
            },
            "type": "scattergeo"
           }
          ],
          "scattergl": [
           {
            "marker": {
             "colorbar": {
              "outlinewidth": 0,
              "ticks": ""
             }
            },
            "type": "scattergl"
           }
          ],
          "scattermapbox": [
           {
            "marker": {
             "colorbar": {
              "outlinewidth": 0,
              "ticks": ""
             }
            },
            "type": "scattermapbox"
           }
          ],
          "scatterpolar": [
           {
            "marker": {
             "colorbar": {
              "outlinewidth": 0,
              "ticks": ""
             }
            },
            "type": "scatterpolar"
           }
          ],
          "scatterpolargl": [
           {
            "marker": {
             "colorbar": {
              "outlinewidth": 0,
              "ticks": ""
             }
            },
            "type": "scatterpolargl"
           }
          ],
          "scatterternary": [
           {
            "marker": {
             "colorbar": {
              "outlinewidth": 0,
              "ticks": ""
             }
            },
            "type": "scatterternary"
           }
          ],
          "surface": [
           {
            "colorbar": {
             "outlinewidth": 0,
             "ticks": ""
            },
            "colorscale": [
             [
              0,
              "#0d0887"
             ],
             [
              0.1111111111111111,
              "#46039f"
             ],
             [
              0.2222222222222222,
              "#7201a8"
             ],
             [
              0.3333333333333333,
              "#9c179e"
             ],
             [
              0.4444444444444444,
              "#bd3786"
             ],
             [
              0.5555555555555556,
              "#d8576b"
             ],
             [
              0.6666666666666666,
              "#ed7953"
             ],
             [
              0.7777777777777778,
              "#fb9f3a"
             ],
             [
              0.8888888888888888,
              "#fdca26"
             ],
             [
              1,
              "#f0f921"
             ]
            ],
            "type": "surface"
           }
          ],
          "table": [
           {
            "cells": {
             "fill": {
              "color": "#EBF0F8"
             },
             "line": {
              "color": "white"
             }
            },
            "header": {
             "fill": {
              "color": "#C8D4E3"
             },
             "line": {
              "color": "white"
             }
            },
            "type": "table"
           }
          ]
         },
         "layout": {
          "annotationdefaults": {
           "arrowcolor": "#2a3f5f",
           "arrowhead": 0,
           "arrowwidth": 1
          },
          "coloraxis": {
           "colorbar": {
            "outlinewidth": 0,
            "ticks": ""
           }
          },
          "colorscale": {
           "diverging": [
            [
             0,
             "#8e0152"
            ],
            [
             0.1,
             "#c51b7d"
            ],
            [
             0.2,
             "#de77ae"
            ],
            [
             0.3,
             "#f1b6da"
            ],
            [
             0.4,
             "#fde0ef"
            ],
            [
             0.5,
             "#f7f7f7"
            ],
            [
             0.6,
             "#e6f5d0"
            ],
            [
             0.7,
             "#b8e186"
            ],
            [
             0.8,
             "#7fbc41"
            ],
            [
             0.9,
             "#4d9221"
            ],
            [
             1,
             "#276419"
            ]
           ],
           "sequential": [
            [
             0,
             "#0d0887"
            ],
            [
             0.1111111111111111,
             "#46039f"
            ],
            [
             0.2222222222222222,
             "#7201a8"
            ],
            [
             0.3333333333333333,
             "#9c179e"
            ],
            [
             0.4444444444444444,
             "#bd3786"
            ],
            [
             0.5555555555555556,
             "#d8576b"
            ],
            [
             0.6666666666666666,
             "#ed7953"
            ],
            [
             0.7777777777777778,
             "#fb9f3a"
            ],
            [
             0.8888888888888888,
             "#fdca26"
            ],
            [
             1,
             "#f0f921"
            ]
           ],
           "sequentialminus": [
            [
             0,
             "#0d0887"
            ],
            [
             0.1111111111111111,
             "#46039f"
            ],
            [
             0.2222222222222222,
             "#7201a8"
            ],
            [
             0.3333333333333333,
             "#9c179e"
            ],
            [
             0.4444444444444444,
             "#bd3786"
            ],
            [
             0.5555555555555556,
             "#d8576b"
            ],
            [
             0.6666666666666666,
             "#ed7953"
            ],
            [
             0.7777777777777778,
             "#fb9f3a"
            ],
            [
             0.8888888888888888,
             "#fdca26"
            ],
            [
             1,
             "#f0f921"
            ]
           ]
          },
          "colorway": [
           "#636efa",
           "#EF553B",
           "#00cc96",
           "#ab63fa",
           "#FFA15A",
           "#19d3f3",
           "#FF6692",
           "#B6E880",
           "#FF97FF",
           "#FECB52"
          ],
          "font": {
           "color": "#2a3f5f"
          },
          "geo": {
           "bgcolor": "white",
           "lakecolor": "white",
           "landcolor": "#E5ECF6",
           "showlakes": true,
           "showland": true,
           "subunitcolor": "white"
          },
          "hoverlabel": {
           "align": "left"
          },
          "hovermode": "closest",
          "mapbox": {
           "style": "light"
          },
          "paper_bgcolor": "white",
          "plot_bgcolor": "#E5ECF6",
          "polar": {
           "angularaxis": {
            "gridcolor": "white",
            "linecolor": "white",
            "ticks": ""
           },
           "bgcolor": "#E5ECF6",
           "radialaxis": {
            "gridcolor": "white",
            "linecolor": "white",
            "ticks": ""
           }
          },
          "scene": {
           "xaxis": {
            "backgroundcolor": "#E5ECF6",
            "gridcolor": "white",
            "gridwidth": 2,
            "linecolor": "white",
            "showbackground": true,
            "ticks": "",
            "zerolinecolor": "white"
           },
           "yaxis": {
            "backgroundcolor": "#E5ECF6",
            "gridcolor": "white",
            "gridwidth": 2,
            "linecolor": "white",
            "showbackground": true,
            "ticks": "",
            "zerolinecolor": "white"
           },
           "zaxis": {
            "backgroundcolor": "#E5ECF6",
            "gridcolor": "white",
            "gridwidth": 2,
            "linecolor": "white",
            "showbackground": true,
            "ticks": "",
            "zerolinecolor": "white"
           }
          },
          "shapedefaults": {
           "line": {
            "color": "#2a3f5f"
           }
          },
          "ternary": {
           "aaxis": {
            "gridcolor": "white",
            "linecolor": "white",
            "ticks": ""
           },
           "baxis": {
            "gridcolor": "white",
            "linecolor": "white",
            "ticks": ""
           },
           "bgcolor": "#E5ECF6",
           "caxis": {
            "gridcolor": "white",
            "linecolor": "white",
            "ticks": ""
           }
          },
          "title": {
           "x": 0.05
          },
          "xaxis": {
           "automargin": true,
           "gridcolor": "white",
           "linecolor": "white",
           "ticks": "",
           "title": {
            "standoff": 15
           },
           "zerolinecolor": "white",
           "zerolinewidth": 2
          },
          "yaxis": {
           "automargin": true,
           "gridcolor": "white",
           "linecolor": "white",
           "ticks": "",
           "title": {
            "standoff": 15
           },
           "zerolinecolor": "white",
           "zerolinewidth": 2
          }
         }
        },
        "title": {
         "text": "2D Cluster PCA Plot"
        },
        "xaxis": {
         "anchor": "y",
         "domain": [
          0,
          1
         ],
         "title": {
          "text": "PCA1"
         }
        },
        "yaxis": {
         "anchor": "x",
         "domain": [
          0,
          1
         ],
         "title": {
          "text": "PCA2"
         }
        }
       }
      },
      "text/html": [
       "<div>\n",
       "        \n",
       "        \n",
       "            <div id=\"2dc8f431-0596-40b9-9389-d94af348fd26\" class=\"plotly-graph-div\" style=\"height:600px; width:100%;\"></div>\n",
       "            <script type=\"text/javascript\">\n",
       "                require([\"plotly\"], function(Plotly) {\n",
       "                    window.PLOTLYENV=window.PLOTLYENV || {};\n",
       "                    \n",
       "                if (document.getElementById(\"2dc8f431-0596-40b9-9389-d94af348fd26\")) {\n",
       "                    Plotly.newPlot(\n",
       "                        '2dc8f431-0596-40b9-9389-d94af348fd26',\n",
       "                        [{\"customdata\": [[89], [91], [92], [90], [93], [89], [88], [87], [86], [82], [91], [88], [87], [91], [90], [85], [91], [88], [85], [85], [88], [84], [88], [94], [86], [94], [89], [87], [84], [91], [91], [88], [88], [89], [91], [90], [89], [83], [83], [86], [84], [94], [94], [79], [88], [85], [82], [82], [91], [91], [89], [84], [87], [81], [93], [84], [95], [89], [86], [85], [87], [92], [89], [85], [88], [86], [94], [87], [85], [83], [87], [88], [84], [85], [91], [90], [88], [89], [88], [92], [90], [85], [88], [94], [84], [91], [88], [87], [86], [83], [83], [91], [86], [89], [92], [87], [84], [83], [83], [85], [90], [97], [92], [87], [91], [83], [87], [91], [82], [91], [90], [86], [85], [90], [84], [87], [84], [88], [91], [84], [94], [89], [92], [89], [90], [90], [88], [88], [93], [90], [87], [87], [91], [87], [87], [92], [84], [87], [87], [83], [79], [92], [91], [83], [86], [84], [82]], \"hoverlabel\": {\"namelength\": 0}, \"hovertemplate\": \"Cluster=Cluster 0<br>PCA1=%{x}<br>PCA2=%{y}<br>Feature=%{customdata[0]}\", \"legendgroup\": \"Cluster=Cluster 0\", \"marker\": {\"color\": \"#636efa\", \"opacity\": 0.5, \"symbol\": \"circle\"}, \"mode\": \"markers\", \"name\": \"Cluster=Cluster 0\", \"showlegend\": true, \"textposition\": \"top center\", \"type\": \"scatter\", \"x\": [-1.8697280492822221, -2.434409452240331, -2.4264928677563407, -1.8685392009729573, -2.573251180005187, -2.0825488387367774, -2.1726275303271336, -2.0509914497973174, -2.3083745565709424, -2.0409297248188443, -2.3014860877684185, -1.9328812899277126, -2.2112114881979883, -1.941830217396177, -2.506327661246921, -2.073465438046343, -2.0397597688071043, -1.8391129584522707, -1.8312598260555624, -1.8203605363189377, -1.8179028009565337, -1.7823104435599608, -2.16763723554197, -2.0723362530196874, -1.9195349904205221, -2.0324573477442054, -2.116082246852266, -1.933866709547426, -2.0302665780186, -2.2358001519510866, -2.0280538892551094, -2.0874157729938436, -1.8354966996507216, -1.544833237561717, -2.456740223886677, -1.75781831703705, -1.9410288223098253, -2.1056752134257426, -2.062633174326468, -2.078129212955828, -2.0920785409420724, -2.388501760698686, -2.218504917204356, -1.6173369030791969, -2.1986747579336976, -2.098348376809807, -1.6642927252834203, -1.8931308692782232, -2.3543937200349037, -2.364292865128858, -2.157714119240597, -1.8350599673755954, -2.1155698357947905, -1.9065821086775259, -2.4156994450467693, -2.38210225209256, -2.3554662245072477, -2.213920210083084, -1.7249982423507855, -1.75099418299541, -1.996764985874087, -1.9988960783896637, -2.095399542784508, -2.016024532553483, -2.27619846625506, -2.2889074272684744, -2.028528867977642, -2.214180093266009, -2.2010305324025308, -1.6889642519699852, -1.5930428171318833, -1.9496018153742165, -1.841654787631974, -1.9379027196432868, -2.169876798095487, -2.1059714070515705, -1.9050708539721548, -2.2569291738145036, -2.017053989697897, -1.9316213773466568, -2.213609523539268, -2.1420245144677605, -1.9086935145347095, -2.2963285716234747, -2.067675219987386, -2.13540342553809, -2.3501939980199786, -1.8642300546387074, -2.127973371527552, -1.83725587443133, -2.075834863497948, -2.2682668429440165, -2.45257816416769, -2.031563122728981, -2.0663645413484715, -2.200578134323644, -1.789310258609948, -2.0321678851269134, -2.0754078003594625, -1.7509951256267824, -2.1023799169538546, -2.1331628517151247, -2.1275155265360484, -2.096353409278053, -2.2507286691543555, -2.1683199158883157, -1.9532680466193002, -2.1737801527393144, -1.9024417794162414, -2.1775890211238633, -2.0802942483176636, -2.0383210974174126, -1.8416815899287775, -2.0306149254956956, -2.3429814681922903, -1.9840517141780682, -2.150973438347759, -1.8308477570558004, -2.1790865314894234, -1.8198144426233003, -2.277429385314473, -1.930007864222133, -2.009514375504899, -1.6408923844731527, -1.9542313127111783, -1.8610601608814794, -2.39115476146643, -1.6663039497396257, -2.707704272816405, -2.009562745741259, -1.8827111419501743, -1.8376313868861256, -1.9905084148264245, -2.178457545857197, -1.924474898381085, -1.9471237092316096, -2.0051735109307396, -2.1443530777650897, -1.9240066060950782, -1.6635162684512903, -1.7242589064033047, -2.2926793799241785, -2.3766512846758046, -1.8717867086714808, -2.0729035379264222, -2.0406619679447626, -2.1586795450148273], \"xaxis\": \"x\", \"y\": [-0.5805164265698372, -0.24464809305188878, -0.5223152797453512, -0.646512589588662, -0.5601757161893913, -0.5522831575898658, -0.39127121964390577, -0.3745370800907231, -0.06765341940763064, -0.15127575003775526, -0.9278015703632004, -0.46217940797732954, -0.8665194545259575, -0.4474985357594559, -0.3458391868660693, -0.5863263912488839, -0.5056552939718552, -0.6995563607527958, -0.6162852748867939, -0.4488179712511732, -0.531751864402695, -0.17582931957520756, -0.46891148853210995, -0.7217304623516894, -0.5390151390286889, -0.41296531679874515, -0.5718523623889735, -0.6325914202993487, -0.410684140260364, -0.4444059182231616, -0.6544788961337656, -0.6741591009069243, -0.7311063475017331, -1.1357583490086818, -0.2149934260760995, -0.6974569742995147, -0.5261186812267993, -0.58397975185848, -0.40286675253601484, -0.7184174711133118, -0.3236017857265204, -0.7336846203617965, -0.7970647759288879, -0.3145015151948761, -0.6446001105079334, -0.2661795286260783, -0.8615209458726673, -0.31930529170000077, -0.7051855275909662, -0.6143021309743978, -0.6781150497461609, -0.5962198951327754, -0.5819853496551203, -0.16871255960275408, -0.5883260957616696, -0.056021301731337556, -0.5337893768130518, -0.4557403569924211, -0.1342401326494584, -0.613766447660328, -0.5798839826265018, -0.4953877249370109, -0.8250823055352449, -0.41237474727593837, -0.1755786962408624, -0.04485464987958266, -0.728276688885474, -0.5808905194796489, -0.2545884323196625, -0.680248855997893, -0.2924473277628603, -1.0344856845282335, -0.3051126045403697, -0.28753924414760706, -0.6243609836837652, -0.42933757064153094, -0.5315276372180464, -0.255221928244276, -0.5177839284078175, -0.6482214557154231, -0.5318906661040491, -0.415846876312065, -0.6726174163454761, -0.49811683685423236, -0.6096569429464762, -0.5826941350892458, -0.5308599913770026, -0.5324358705767818, -0.08120090768069115, -0.42364773125641614, -0.10644304402683552, -0.4808961050879653, -0.4487369192532842, -0.7884261388730069, -0.4118351486427883, -0.554069585224186, -0.3758089690344978, -0.2999519467201972, -0.47456299995454343, -0.6656568722532703, -0.31251224674139927, -0.7074422913241161, -0.8564292881080303, -0.566370215361419, -0.43033285933146215, -0.23166647060625123, -0.44963058523596294, -0.5946229146229913, -0.3230601527205462, -0.5877756332419971, -0.6145576971608393, -0.547289089741102, -0.7564246595232503, -0.7729868189866745, -0.4258295603648385, -0.6440711179767933, -0.3728279094550169, -0.6355826840182314, -0.6108517483588553, -0.5599740335029505, -0.6379969887850206, -0.6443535416739371, -0.553322897746785, -0.6914141025040674, -0.41419669885929294, -0.5422549521155179, -0.5237968907636517, -0.7235074938340725, -0.2840625416465853, -0.5561029147461268, -0.7133896695498214, -0.6450394376349382, -0.552215307318975, -0.7134886382155601, -0.9713045528517574, -0.5731169250694227, -0.6891675147133185, -0.37459159845589657, -0.20396253486593707, -0.4682233578430872, -0.329127219123727, -0.6101991826767976, -0.05300649454133988, -0.3003232467793292, -0.4475575797003766, -0.4456363874126079, -0.30006515795971106], \"yaxis\": \"y\"}, {\"customdata\": [[65], [57], [65], [59], [61], [60], [55], [63], [62], [59], [67], [58], [66], [58], [57], [57], [66], [59], [68], [61], [58], [59], [61], [64], [63], [64], [62], [61], [62], [67], [61], [57], [63], [56], [51], [59], [58], [55], [61], [55], [58], [68], [58], [67], [56], [59], [59], [57], [60], [67], [61], [60], [59], [57], [59], [59], [58], [63], [61], [56], [58], [56], [59], [61], [60], [56], [63], [58], [59], [62], [59], [59], [65], [64], [59], [59], [61], [64], [58], [57], [58], [56], [63], [58], [60], [58], [62], [66], [66], [63], [64], [62], [62], [60], [65], [60], [63], [56], [58], [62], [56], [59], [65], [62], [59], [64], [66], [59], [59], [59], [62], [59], [54], [61], [55], [53], [55], [61], [59], [59], [56], [61], [61], [60], [57], [61], [55], [53], [61], [64], [62], [55], [58], [57], [58], [64], [57], [63], [53], [56], [60], [55], [60], [61], [62], [61], [56], [64], [62], [62], [62], [58], [56], [58], [58], [60], [59]], \"hoverlabel\": {\"namelength\": 0}, \"hovertemplate\": \"Cluster=Cluster 1<br>PCA1=%{x}<br>PCA2=%{y}<br>Feature=%{customdata[0]}\", \"legendgroup\": \"Cluster=Cluster 1\", \"marker\": {\"color\": \"#EF553B\", \"opacity\": 0.5, \"symbol\": \"circle\"}, \"mode\": \"markers\", \"name\": \"Cluster=Cluster 1\", \"showlegend\": true, \"textposition\": \"top center\", \"type\": \"scatter\", \"x\": [0.7239112201382846, 0.9571353877952674, 0.6478275645005543, 1.148630911341342, 0.7067815653426051, 1.1042995032054315, 1.2001761522613563, 0.9005512076840446, 0.913510898461857, 1.2298121391581476, 0.7700672272604187, 1.1141007448294606, 0.8792738469657456, 1.2303912589888955, 0.9338372084676223, 1.2579324208643237, 0.7618952590909004, 1.010430889890269, 0.9920509220265862, 0.8130583991800271, 1.110090111967917, 1.0860834631559388, 0.906327696371811, 1.0307558481195223, 0.587495020774433, 0.9787343363735489, 1.0389401959091815, 0.8585655800673436, 1.2202717551543694, 0.7249920266719722, 1.0057580252199225, 1.0411652628551484, 1.1223054064560902, 1.0034312490135382, 1.1995233369715046, 1.2741578324324205, 0.9635000489418426, 0.9597714184823419, 1.1797424349453591, 0.9891262539028138, 1.2033580787372493, 0.7345224536973606, 0.7012057006565174, 1.1009880353844501, 1.03153052906236, 0.9780286611471134, 1.2896994688891956, 1.3096489367282758, 0.8851694928542458, 1.017774283463358, 0.9274436793601518, 0.900154839534069, 0.8841763416019125, 0.936687584956589, 0.9097383481894072, 0.8746209506670777, 0.8948999863698722, 0.8396236642159601, 0.9290424183035485, 1.0762714657361943, 1.0077838123091274, 1.1083351039976728, 0.8882657128433469, 0.9237975531166805, 0.7536542920504703, 1.1555901253734104, 0.8515298284149736, 1.1482022259284113, 0.8311167460272423, 0.917101851227257, 1.0276462557383785, 0.6422857813201294, 0.8409539543751346, 0.5769670648673789, 0.8896978494461357, 0.984440321205992, 0.7154392143016086, 0.8786678441937484, 1.1468876247150963, 1.1485118892294275, 1.1322172843358063, 0.9717515952895664, 1.0952935033637554, 0.9587404739564881, 1.344363470386025, 0.9274461945087721, 0.9632799957287449, 0.9525916330653011, 0.9431516159078607, 1.1354956368540747, 0.971444747927849, 0.8562799812956972, 0.7249837560928997, 0.8649715699350828, 0.8476895267480912, 0.7922339525591616, 1.1922844949437712, 1.1871770375613515, 1.0575568848340322, 0.8490308300039281, 0.9023436791080554, 0.8781458068178456, 0.8870065000324077, 0.9235060256341693, 0.9521164820641914, 1.0634574127660064, 1.0537081823530925, 0.6357717909350328, 1.101807742700451, 1.3006755047034924, 0.6005385777151324, 0.95984658365927, 1.1697346195328324, 0.9264159454924336, 0.9406912733862142, 1.3394961401468366, 1.075892886938178, 0.9565958187381567, 0.9566943442267907, 0.8850119549128225, 0.831873188839805, 1.1636286139111318, 0.876634876597755, 0.933315807089178, 1.0012029912185747, 0.963194869371253, 1.1846884299933702, 0.8561992797300061, 1.1738067741239218, 0.6391237210213268, 1.122260656473749, 0.9724171706319942, 0.943688615428215, 1.1403409067101886, 0.9302440657310584, 0.9542073864397952, 1.196204847766827, 0.7468121011647828, 1.0002245891757409, 0.7937665202778104, 0.6600458052850804, 1.3537747237686777, 0.9380694584256887, 0.6666187788730189, 0.7842922234584785, 0.7496519064749219, 0.8368247283629235, 1.052795914092742, 1.0298407611661433, 0.9617402458141201, 0.839738412176907, 1.2492430376410202, 1.0237673233968174, 1.0859190974687243, 1.2767029202859064, 0.9828233353724, 0.9044526928941075], \"xaxis\": \"x\", \"y\": [-1.0507470349734904, -0.9565819796170687, -1.0359646762228452, -1.3121424450067765, -0.8793663591691477, -1.348768057288338, -1.015827952741259, -1.0610728540732426, -1.3337170540163852, -1.1517869497731896, -1.4642365784839704, -0.9421656927207698, -1.046145579101808, -1.2819246368405388, -1.1029271622884147, -1.1249923805906836, -1.121532982997155, -1.12481585565712, -1.2434959251847706, -0.8845749062692375, -1.2400731019552833, -1.0614239888146544, -1.0511809661886875, -1.155176797443866, -1.2657504433580289, -1.0343041033681748, -1.3354215530049682, -1.118168605139058, -1.3105601054950982, -1.2147689018237111, -0.9559112403520237, -1.0164501160909123, -1.4914780162827943, -0.7525024627463048, -0.9477794401632047, -1.0463684634358998, -0.7727413564345438, -1.0513254462232922, -1.3369076902187333, -0.7822596239105338, -1.1123684216426564, -1.2291518684300584, -0.8434352647277826, -1.2445037590847663, -0.9728022402340457, -1.0665351333493085, -0.8636901977227738, -1.0741646084522773, -1.0239607621545121, -1.1656553153572782, -1.23593564395872, -0.9546617155047082, -0.883460326232841, -1.0995649396023361, -1.414951087765637, -1.0453663262140032, -0.9811823394698048, -1.114488044198396, -1.0753706347754173, -1.1747153624334554, -0.9053816282992313, -0.9580578179176918, -1.1006490408047043, -1.1172042807724425, -1.1145607567968934, -0.9365035619575762, -0.8140489820848756, -1.0037927169385228, -0.758435179968551, -1.190639352771616, -1.1511135727122206, -0.8817110002017661, -1.0784400580942912, -1.1297691314887484, -0.6885532249176779, -1.0678256384123315, -1.042096056939778, -1.3264010299557352, -1.0152786302882955, -1.0099903883596038, -1.1494041562954525, -0.5649600821262502, -0.9611063612314243, -1.0432359401220646, -1.1927289211003644, -0.9959200993131953, -1.0837930828009537, -1.2809187624549898, -1.4349214298920447, -1.317022034496794, -1.269523681122866, -1.2523686077315679, -1.1918147399627204, -1.0532901989434427, -1.3159987548266672, -0.9398166771098884, -1.1301357535798997, -0.8125526735700419, -1.0091355521181082, -1.054976666022166, -0.9336007915987249, -1.0463193934652173, -1.3435832857455183, -0.8595055605314001, -1.1563579576315994, -0.891828490987825, -1.087713520984252, -0.7367980450519105, -1.149041291902285, -1.0677674191672901, -0.7548244477818224, -0.9748347344571849, -0.9198672968790512, -1.1290579834183962, -0.8808471845883361, -0.9913379913927998, -0.8568977558910137, -0.9855813347503578, -1.2166843588808522, -1.0165017672645724, -1.032181050886837, -1.2056989722609774, -1.281890310531212, -1.1153776376066373, -0.8833160228396809, -1.1033987930252478, -1.02806344702206, -0.969580679782165, -1.3728850855905388, -1.2502687489679603, -1.3655426725674513, -0.9207784656681911, -0.9083467846147816, -0.9227179212670819, -0.8523800969479176, -1.0465531834828221, -1.1065738734144612, -1.0451032464753884, -0.7626500679044004, -1.0760098573240726, -0.983773436033552, -1.1631989621469194, -1.1838093703927492, -0.9215721697739372, -1.063949412004081, -1.0145670833985094, -0.9568953644188056, -0.9213721361046181, -1.0482490063880947, -1.2186962045310639, -1.1551968788296632, -1.0523088391424915, -1.1033585592811566, -0.9452613546469523, -1.0100873588647488, -1.2485588625603425, -0.9647568583715012], \"yaxis\": \"y\"}, {\"customdata\": [[36], [29], [31], [31], [38], [30], [39], [36], [35], [30], [29], [33], [33], [32], [38], [37], [35], [36], [32], [31], [37], [36], [31], [37], [35], [35], [37], [34], [44], [31], [25], [22], [29], [31], [38], [33], [33], [29], [32], [30], [31], [31], [30], [36], [30], [28], [37], [29], [31], [33], [32], [36], [36], [29], [31], [34], [39], [36], [34], [37], [25], [31], [35], [28], [33], [31], [28], [39], [31], [27], [34], [29], [43], [33], [26], [24], [31], [29], [33], [36], [31], [40], [42], [32], [37], [34], [33], [35], [37], [28], [33], [33], [29], [28], [31], [37], [31], [33], [30], [30], [34], [30], [30], [29], [30], [34], [37], [34], [38], [33], [34], [30], [35], [36], [29], [32], [35], [28], [31], [34], [35], [33], [28], [32], [34], [35]], \"hoverlabel\": {\"namelength\": 0}, \"hovertemplate\": \"Cluster=Cluster 2<br>PCA1=%{x}<br>PCA2=%{y}<br>Feature=%{customdata[0]}\", \"legendgroup\": \"Cluster=Cluster 2\", \"marker\": {\"color\": \"#00cc96\", \"opacity\": 0.5, \"symbol\": \"circle\"}, \"mode\": \"markers\", \"name\": \"Cluster=Cluster 2\", \"showlegend\": true, \"textposition\": \"top center\", \"type\": \"scatter\", \"x\": [0.09673032822120745, 0.25042651146460215, 0.38710406497924066, 0.5185981404318576, 0.2650154277043922, 0.3069078787811712, -0.006468025279818359, 0.3437587941710388, 0.024001307254419943, 0.3057930567850856, 0.584759073105424, 0.08024305381566141, 0.2936124222088349, 0.3727728318957418, 0.3664728401947459, 0.15198305961188927, 0.11071991137137464, 0.20567888975494616, -0.04968093964063528, 0.5452752093266902, -0.16677564882897886, 0.2679191814272718, 0.39146386686634094, 0.3414146466230355, 0.19548578829641963, 0.22406947728996734, 0.4282798729004831, 0.17234856466096352, 0.2247760568948386, 0.053964472537442285, 0.35579426205444237, 0.4927454296214791, 0.20276288878265805, 0.027736853226805594, -0.048888915492323944, 0.22337118271621278, 0.36194896264686816, 0.38907561819711867, 0.07995823881348534, 0.3625065507971224, 0.3971649995899922, 0.4729348531496343, 0.4919717971174586, -0.13685559370131772, 0.30313547144560254, 0.4984012657689416, -0.08303284009090857, 0.6286924870783729, 0.5284487627009915, 0.22660349946699965, 0.5054336761019059, -0.0038820277293611333, -0.03804973889746746, 0.4402666879537103, 0.14417381093558193, 0.05733948358088145, -0.19665034354948738, 0.134481236165202, -0.03495992933636098, 0.35957420818189584, 0.490435522567851, 0.7852626925848276, 0.22722301373569634, 0.1487020669596357, 0.4086770958302612, 0.4655146363510323, 0.1940061790898513, 0.023800034019156778, 0.45112566394768244, 0.32968656590210194, 0.4591164161866805, 0.5237234715682929, 0.20141490529333217, 0.4503179507765595, 0.20578940530668322, 0.5360012104415603, 0.28969226438189866, 0.690906723567272, 0.28304917380758693, 0.12793108986064058, 0.27307896834242595, -0.16363100906070185, 0.13257246875515516, 0.2219583717509898, 0.16776579028489855, 0.3449593972426621, 0.44282179644137876, 0.24261077787919458, -0.14116088760897288, 0.4814838044302811, 0.07393711916142034, 0.36602249697063527, 0.2216738934979723, 0.20166698692266166, 0.399166416897995, 0.21653502421287846, 0.43487049606147715, 0.30058208311151907, 0.12145280919457399, 0.29862034062206516, -0.2548237528180676, 0.48450085362116724, 0.5794692124747521, 0.30784219342862384, 0.13738956128030835, 0.28393760556401304, 0.20330526748275352, 0.2046623125481884, 0.29504088373913595, -0.014697097471744936, 0.33143705425093956, 0.4346602593531404, 0.3452905327995578, 0.26913818104696025, 0.3018537489358099, 0.015327966610085139, 0.11048998627359029, 0.640083955100535, 0.30853165705142777, 0.426339310227902, -0.053834708931847504, 0.25683385611223836, 0.2973083261170753, 0.46404467576637776, 0.2880639750193823, 0.4230093119167909], \"xaxis\": \"x\", \"y\": [1.6883803368860282, 1.7045737168680584, 1.6327021954108745, 1.6110514952537338, 1.3083700428412073, 1.8163264661040186, 1.4065030087999912, 1.4900560698948315, 1.8335899900320298, 1.4227930628879149, 1.663613175996638, 1.5786771127142127, 1.264013377462412, 1.5950420209258984, 1.5049755155184428, 1.6813486703531937, 1.6282156708943851, 1.4236760759691667, 1.8084510956242181, 1.6225836216764207, 1.9774513127660724, 1.3625596570144105, 1.52463817050699, 1.5060626653747764, 1.5491572950554597, 1.5579353422760727, 1.3538259752633228, 1.5985063871979601, 1.431478595139497, 1.879212174498775, 1.8030470223324389, 1.9718039845992688, 1.6763723210811776, 1.7775658109685324, 1.3356345326366277, 1.725791681996304, 1.544971007287245, 1.5835804046764868, 1.8817135560796954, 1.553462642661909, 1.5611120792695707, 1.6131155536732487, 1.4004458102457686, 1.709337162867264, 1.4356540674669325, 1.4668140133406482, 1.7477775151104065, 1.7706295477806975, 1.7138725020207166, 1.5336527633449721, 1.7349848989221501, 1.5056229051014898, 1.5639820418294053, 1.6176442163635727, 1.73116625072267, 1.5652697184166733, 1.6777087208849673, 1.66696882119156, 1.788117522181012, 1.3842669781928516, 1.724598229783462, 1.2961194698254566, 1.6914136090722671, 1.841091128649502, 1.748374953865555, 1.6949834534892416, 1.6256572190401368, 1.373251559171965, 1.6261973246818524, 1.8825045705647967, 1.3652888788155262, 1.800776487686494, 1.1172874659131973, 1.300892283960428, 1.7808274530189123, 1.902871708774997, 1.6938535756527968, 1.5046695624157949, 1.3339903084159737, 1.6563184455170614, 1.948723705925217, 1.539214376484883, 1.3794772197998677, 1.6538061883701927, 1.5884879805808447, 1.1115856337569499, 1.7178062831537215, 1.8213872096778956, 1.6330479814137964, 1.858779650834613, 1.9754941876402792, 1.601550924718381, 1.5545837401125537, 1.7577290127423641, 1.3979723220008213, 1.25188262081358, 1.6665504109774725, 1.5767779928226533, 1.9802749942157685, 1.779841048936421, 1.9388703447510922, 1.5308144735053286, 1.5592465200220986, 1.6832209909007443, 1.8001751549855391, 1.5811689876494455, 1.5979907566980192, 1.6348950978265089, 1.6111760839375877, 1.771970243004947, 1.8559979497540275, 1.6911797176787826, 1.3469663712514408, 1.4903918198750619, 1.8607182156336632, 1.6530802508705518, 1.6112778160406769, 1.565138920568123, 1.65832577066864, 1.5506070567409977, 1.880504182184665, 1.669142672132959, 1.6131913255928783, 1.6197173738617596, 1.339220691513907, 1.5933858435585802], \"yaxis\": \"y\"}, {\"customdata\": [[20], [26], [17], [25], [18], [28], [28], [21], [17], [24], [24], [30], [23], [25], [23], [26], [22], [29], [22], [25], [23], [25], [21], [28], [27], [27], [25], [20], [17], [24], [24], [27], [28], [29], [20], [28], [31], [26], [26], [23], [24], [24], [29], [25], [24], [22], [26], [17], [28], [18]], \"hoverlabel\": {\"namelength\": 0}, \"hovertemplate\": \"Cluster=Cluster 3<br>PCA1=%{x}<br>PCA2=%{y}<br>Feature=%{customdata[0]}\", \"legendgroup\": \"Cluster=Cluster 3\", \"marker\": {\"color\": \"#ab63fa\", \"opacity\": 0.5, \"symbol\": \"circle\"}, \"mode\": \"markers\", \"name\": \"Cluster=Cluster 3\", \"showlegend\": true, \"textposition\": \"top center\", \"type\": \"scatter\", \"x\": [2.9746754371514825, 2.640843241893842, 3.174508943970732, 2.8393403842736813, 2.895151046938777, 2.5924747891532167, 2.5781609522364097, 3.069942802316508, 3.226889225110597, 3.0316088334899116, 3.272920432210054, 2.5319520001292095, 3.2150627218039767, 2.995478237895019, 2.962705253782905, 2.921754004535288, 2.926771944159538, 2.855974600756293, 3.179855781881797, 2.731893082559852, 2.7956134120132616, 2.924833848117506, 3.015997241498176, 2.6742850000849936, 2.813779616507524, 2.7278880570709094, 2.6524433273146073, 2.8919325130956586, 3.574659076465146, 2.9488018362117545, 3.0282067846672174, 3.0369381609667565, 2.9445626913206135, 2.912240638098012, 2.946174796554267, 3.017276907678435, 2.8120134954171805, 2.8932637199609275, 2.6960211291052683, 2.998489358625382, 3.069820746052281, 2.9683775865455604, 2.9232445728248004, 3.217300822203086, 2.79228384382904, 2.894059984176769, 2.9771795063443514, 3.280104640371691, 3.1151268129853094, 3.0082481072070255], \"xaxis\": \"x\", \"y\": [0.18812441934617055, 0.20007400245974, 0.048418175898206794, 0.15108398587787242, 0.2932077351659222, -0.09778160567888099, 0.005986017086142222, 0.07048902990258887, 0.278510961124053, 0.11792704083326908, -0.011433907512107258, -0.016054823596124153, 0.08407239346363263, 0.0016140903642261478, 0.1153453541325655, -0.20465230850872485, 0.28247214165392, -0.005594946396853922, 0.05253080601071553, 0.20866220429412677, 0.017222496205368868, 0.03491418959418737, 0.04887447278271473, 0.06420133505403501, -0.1292777025450038, -0.09820174672237966, 0.05766718346507335, 0.27490967861885235, 0.042457019736512426, 0.09223412829220491, 0.08174843209851099, -0.2738297104010226, -0.30204787320671334, 0.12579515625111298, 0.08272269299997426, -0.19393570460246945, -0.2748720695213678, 0.07596964552686293, 0.058448895029823256, 0.016411353091425707, -0.08630325203006894, 0.06693014037081221, -0.2966922491996123, -0.025878210675484566, -0.03384346825793681, -0.07605865447778332, -0.10114428493012478, 0.2499176026387909, -0.36229901638415773, 0.31381771787645424], \"yaxis\": \"y\"}, {\"customdata\": [[84], [85], [84], [83], [93], [88], [82], [84], [87], [92], [90], [86], [88], [86], [84], [88], [82], [89], [85], [77], [83], [86], [83], [90], [91]], \"hoverlabel\": {\"namelength\": 0}, \"hovertemplate\": \"Cluster=Cluster 4<br>PCA1=%{x}<br>PCA2=%{y}<br>Feature=%{customdata[0]}\", \"legendgroup\": \"Cluster=Cluster 4\", \"marker\": {\"color\": \"#FFA15A\", \"opacity\": 0.5, \"symbol\": \"circle\"}, \"mode\": \"markers\", \"name\": \"Cluster=Cluster 4\", \"showlegend\": true, \"textposition\": \"top center\", \"type\": \"scatter\", \"x\": [-1.2979515263060244, -1.5495777609132402, -1.2100457107383853, -1.0059359967728807, -1.3360268955174621, -1.2001127180569242, -1.111675812656091, -1.3408525815750545, -1.0284353284046783, -1.2116106454713147, -1.3668130185716867, -0.8396280683107497, -1.2193542424079018, -1.452482968769698, -1.0162690443379765, -1.7825271707199983, -1.1718483189508542, -1.387047552886112, -1.093176987418459, -1.0109589668412193, -1.2456794724832783, -1.3186928055634528, -1.3536715194939581, -1.0467426045995583, -1.4038953738793851], \"xaxis\": \"x\", \"y\": [1.3893135331933018, 1.621383993138039, 1.4428374080067072, 1.2611942597080201, 1.5734980156902059, 1.553967731369672, 1.595607802887946, 1.4527034625685618, 1.1905123991311308, 1.3791437465862457, 1.6266147798411421, 1.325933796638322, 1.4554452456257119, 1.8626551648882521, 1.448700704725732, 1.7862055583020957, 1.7138756056786228, 1.4915980298420346, 1.321512107655857, 1.8538623688858593, 1.5515629751998394, 1.4864784540101592, 1.71262746159195, 1.1704962541165729, 1.5183231476048826], \"yaxis\": \"y\"}],\n",
       "                        {\"height\": 600, \"legend\": {\"tracegroupgap\": 0}, \"margin\": {\"t\": 60}, \"plot_bgcolor\": \"rgb(240,240,240)\", \"template\": {\"data\": {\"bar\": [{\"error_x\": {\"color\": \"#2a3f5f\"}, \"error_y\": {\"color\": \"#2a3f5f\"}, \"marker\": {\"line\": {\"color\": \"#E5ECF6\", \"width\": 0.5}}, \"type\": \"bar\"}], \"barpolar\": [{\"marker\": {\"line\": {\"color\": \"#E5ECF6\", \"width\": 0.5}}, \"type\": \"barpolar\"}], \"carpet\": [{\"aaxis\": {\"endlinecolor\": \"#2a3f5f\", \"gridcolor\": \"white\", \"linecolor\": \"white\", \"minorgridcolor\": \"white\", \"startlinecolor\": \"#2a3f5f\"}, \"baxis\": {\"endlinecolor\": \"#2a3f5f\", \"gridcolor\": \"white\", \"linecolor\": \"white\", \"minorgridcolor\": \"white\", \"startlinecolor\": \"#2a3f5f\"}, \"type\": \"carpet\"}], \"choropleth\": [{\"colorbar\": {\"outlinewidth\": 0, \"ticks\": \"\"}, \"type\": \"choropleth\"}], \"contour\": [{\"colorbar\": {\"outlinewidth\": 0, \"ticks\": \"\"}, \"colorscale\": [[0.0, \"#0d0887\"], [0.1111111111111111, \"#46039f\"], [0.2222222222222222, \"#7201a8\"], [0.3333333333333333, \"#9c179e\"], [0.4444444444444444, \"#bd3786\"], [0.5555555555555556, \"#d8576b\"], [0.6666666666666666, \"#ed7953\"], [0.7777777777777778, \"#fb9f3a\"], [0.8888888888888888, \"#fdca26\"], [1.0, \"#f0f921\"]], \"type\": \"contour\"}], \"contourcarpet\": [{\"colorbar\": {\"outlinewidth\": 0, \"ticks\": \"\"}, \"type\": \"contourcarpet\"}], \"heatmap\": [{\"colorbar\": {\"outlinewidth\": 0, \"ticks\": \"\"}, \"colorscale\": [[0.0, \"#0d0887\"], [0.1111111111111111, \"#46039f\"], [0.2222222222222222, \"#7201a8\"], [0.3333333333333333, \"#9c179e\"], [0.4444444444444444, \"#bd3786\"], [0.5555555555555556, \"#d8576b\"], [0.6666666666666666, \"#ed7953\"], [0.7777777777777778, \"#fb9f3a\"], [0.8888888888888888, \"#fdca26\"], [1.0, \"#f0f921\"]], \"type\": \"heatmap\"}], \"heatmapgl\": [{\"colorbar\": {\"outlinewidth\": 0, \"ticks\": \"\"}, \"colorscale\": [[0.0, \"#0d0887\"], [0.1111111111111111, \"#46039f\"], [0.2222222222222222, \"#7201a8\"], [0.3333333333333333, \"#9c179e\"], [0.4444444444444444, \"#bd3786\"], [0.5555555555555556, \"#d8576b\"], [0.6666666666666666, \"#ed7953\"], [0.7777777777777778, \"#fb9f3a\"], [0.8888888888888888, \"#fdca26\"], [1.0, \"#f0f921\"]], \"type\": \"heatmapgl\"}], \"histogram\": [{\"marker\": {\"colorbar\": {\"outlinewidth\": 0, \"ticks\": \"\"}}, \"type\": \"histogram\"}], \"histogram2d\": [{\"colorbar\": {\"outlinewidth\": 0, \"ticks\": \"\"}, \"colorscale\": [[0.0, \"#0d0887\"], [0.1111111111111111, \"#46039f\"], [0.2222222222222222, \"#7201a8\"], [0.3333333333333333, \"#9c179e\"], [0.4444444444444444, \"#bd3786\"], [0.5555555555555556, \"#d8576b\"], [0.6666666666666666, \"#ed7953\"], [0.7777777777777778, \"#fb9f3a\"], [0.8888888888888888, \"#fdca26\"], [1.0, \"#f0f921\"]], \"type\": \"histogram2d\"}], \"histogram2dcontour\": [{\"colorbar\": {\"outlinewidth\": 0, \"ticks\": \"\"}, \"colorscale\": [[0.0, \"#0d0887\"], [0.1111111111111111, \"#46039f\"], [0.2222222222222222, \"#7201a8\"], [0.3333333333333333, \"#9c179e\"], [0.4444444444444444, \"#bd3786\"], [0.5555555555555556, \"#d8576b\"], [0.6666666666666666, \"#ed7953\"], [0.7777777777777778, \"#fb9f3a\"], [0.8888888888888888, \"#fdca26\"], [1.0, \"#f0f921\"]], \"type\": \"histogram2dcontour\"}], \"mesh3d\": [{\"colorbar\": {\"outlinewidth\": 0, \"ticks\": \"\"}, \"type\": \"mesh3d\"}], \"parcoords\": [{\"line\": {\"colorbar\": {\"outlinewidth\": 0, \"ticks\": \"\"}}, \"type\": \"parcoords\"}], \"pie\": [{\"automargin\": true, \"type\": \"pie\"}], \"scatter\": [{\"marker\": {\"colorbar\": {\"outlinewidth\": 0, \"ticks\": \"\"}}, \"type\": \"scatter\"}], \"scatter3d\": [{\"line\": {\"colorbar\": {\"outlinewidth\": 0, \"ticks\": \"\"}}, \"marker\": {\"colorbar\": {\"outlinewidth\": 0, \"ticks\": \"\"}}, \"type\": \"scatter3d\"}], \"scattercarpet\": [{\"marker\": {\"colorbar\": {\"outlinewidth\": 0, \"ticks\": \"\"}}, \"type\": \"scattercarpet\"}], \"scattergeo\": [{\"marker\": {\"colorbar\": {\"outlinewidth\": 0, \"ticks\": \"\"}}, \"type\": \"scattergeo\"}], \"scattergl\": [{\"marker\": {\"colorbar\": {\"outlinewidth\": 0, \"ticks\": \"\"}}, \"type\": \"scattergl\"}], \"scattermapbox\": [{\"marker\": {\"colorbar\": {\"outlinewidth\": 0, \"ticks\": \"\"}}, \"type\": \"scattermapbox\"}], \"scatterpolar\": [{\"marker\": {\"colorbar\": {\"outlinewidth\": 0, \"ticks\": \"\"}}, \"type\": \"scatterpolar\"}], \"scatterpolargl\": [{\"marker\": {\"colorbar\": {\"outlinewidth\": 0, \"ticks\": \"\"}}, \"type\": \"scatterpolargl\"}], \"scatterternary\": [{\"marker\": {\"colorbar\": {\"outlinewidth\": 0, \"ticks\": \"\"}}, \"type\": \"scatterternary\"}], \"surface\": [{\"colorbar\": {\"outlinewidth\": 0, \"ticks\": \"\"}, \"colorscale\": [[0.0, \"#0d0887\"], [0.1111111111111111, \"#46039f\"], [0.2222222222222222, \"#7201a8\"], [0.3333333333333333, \"#9c179e\"], [0.4444444444444444, \"#bd3786\"], [0.5555555555555556, \"#d8576b\"], [0.6666666666666666, \"#ed7953\"], [0.7777777777777778, \"#fb9f3a\"], [0.8888888888888888, \"#fdca26\"], [1.0, \"#f0f921\"]], \"type\": \"surface\"}], \"table\": [{\"cells\": {\"fill\": {\"color\": \"#EBF0F8\"}, \"line\": {\"color\": \"white\"}}, \"header\": {\"fill\": {\"color\": \"#C8D4E3\"}, \"line\": {\"color\": \"white\"}}, \"type\": \"table\"}]}, \"layout\": {\"annotationdefaults\": {\"arrowcolor\": \"#2a3f5f\", \"arrowhead\": 0, \"arrowwidth\": 1}, \"coloraxis\": {\"colorbar\": {\"outlinewidth\": 0, \"ticks\": \"\"}}, \"colorscale\": {\"diverging\": [[0, \"#8e0152\"], [0.1, \"#c51b7d\"], [0.2, \"#de77ae\"], [0.3, \"#f1b6da\"], [0.4, \"#fde0ef\"], [0.5, \"#f7f7f7\"], [0.6, \"#e6f5d0\"], [0.7, \"#b8e186\"], [0.8, \"#7fbc41\"], [0.9, \"#4d9221\"], [1, \"#276419\"]], \"sequential\": [[0.0, \"#0d0887\"], [0.1111111111111111, \"#46039f\"], [0.2222222222222222, \"#7201a8\"], [0.3333333333333333, \"#9c179e\"], [0.4444444444444444, \"#bd3786\"], [0.5555555555555556, \"#d8576b\"], [0.6666666666666666, \"#ed7953\"], [0.7777777777777778, \"#fb9f3a\"], [0.8888888888888888, \"#fdca26\"], [1.0, \"#f0f921\"]], \"sequentialminus\": [[0.0, \"#0d0887\"], [0.1111111111111111, \"#46039f\"], [0.2222222222222222, \"#7201a8\"], [0.3333333333333333, \"#9c179e\"], [0.4444444444444444, \"#bd3786\"], [0.5555555555555556, \"#d8576b\"], [0.6666666666666666, \"#ed7953\"], [0.7777777777777778, \"#fb9f3a\"], [0.8888888888888888, \"#fdca26\"], [1.0, \"#f0f921\"]]}, \"colorway\": [\"#636efa\", \"#EF553B\", \"#00cc96\", \"#ab63fa\", \"#FFA15A\", \"#19d3f3\", \"#FF6692\", \"#B6E880\", \"#FF97FF\", \"#FECB52\"], \"font\": {\"color\": \"#2a3f5f\"}, \"geo\": {\"bgcolor\": \"white\", \"lakecolor\": \"white\", \"landcolor\": \"#E5ECF6\", \"showlakes\": true, \"showland\": true, \"subunitcolor\": \"white\"}, \"hoverlabel\": {\"align\": \"left\"}, \"hovermode\": \"closest\", \"mapbox\": {\"style\": \"light\"}, \"paper_bgcolor\": \"white\", \"plot_bgcolor\": \"#E5ECF6\", \"polar\": {\"angularaxis\": {\"gridcolor\": \"white\", \"linecolor\": \"white\", \"ticks\": \"\"}, \"bgcolor\": \"#E5ECF6\", \"radialaxis\": {\"gridcolor\": \"white\", \"linecolor\": \"white\", \"ticks\": \"\"}}, \"scene\": {\"xaxis\": {\"backgroundcolor\": \"#E5ECF6\", \"gridcolor\": \"white\", \"gridwidth\": 2, \"linecolor\": \"white\", \"showbackground\": true, \"ticks\": \"\", \"zerolinecolor\": \"white\"}, \"yaxis\": {\"backgroundcolor\": \"#E5ECF6\", \"gridcolor\": \"white\", \"gridwidth\": 2, \"linecolor\": \"white\", \"showbackground\": true, \"ticks\": \"\", \"zerolinecolor\": \"white\"}, \"zaxis\": {\"backgroundcolor\": \"#E5ECF6\", \"gridcolor\": \"white\", \"gridwidth\": 2, \"linecolor\": \"white\", \"showbackground\": true, \"ticks\": \"\", \"zerolinecolor\": \"white\"}}, \"shapedefaults\": {\"line\": {\"color\": \"#2a3f5f\"}}, \"ternary\": {\"aaxis\": {\"gridcolor\": \"white\", \"linecolor\": \"white\", \"ticks\": \"\"}, \"baxis\": {\"gridcolor\": \"white\", \"linecolor\": \"white\", \"ticks\": \"\"}, \"bgcolor\": \"#E5ECF6\", \"caxis\": {\"gridcolor\": \"white\", \"linecolor\": \"white\", \"ticks\": \"\"}}, \"title\": {\"x\": 0.05}, \"xaxis\": {\"automargin\": true, \"gridcolor\": \"white\", \"linecolor\": \"white\", \"ticks\": \"\", \"title\": {\"standoff\": 15}, \"zerolinecolor\": \"white\", \"zerolinewidth\": 2}, \"yaxis\": {\"automargin\": true, \"gridcolor\": \"white\", \"linecolor\": \"white\", \"ticks\": \"\", \"title\": {\"standoff\": 15}, \"zerolinecolor\": \"white\", \"zerolinewidth\": 2}}}, \"title\": {\"text\": \"2D Cluster PCA Plot\"}, \"xaxis\": {\"anchor\": \"y\", \"domain\": [0.0, 1.0], \"title\": {\"text\": \"PCA1\"}}, \"yaxis\": {\"anchor\": \"x\", \"domain\": [0.0, 1.0], \"title\": {\"text\": \"PCA2\"}}},\n",
       "                        {\"responsive\": true}\n",
       "                    ).then(function(){\n",
       "                            \n",
       "var gd = document.getElementById('2dc8f431-0596-40b9-9389-d94af348fd26');\n",
       "var x = new MutationObserver(function (mutations, observer) {{\n",
       "        var display = window.getComputedStyle(gd).display;\n",
       "        if (!display || display === 'none') {{\n",
       "            console.log([gd, 'removed!']);\n",
       "            Plotly.purge(gd);\n",
       "            observer.disconnect();\n",
       "        }}\n",
       "}});\n",
       "\n",
       "// Listen for the removal of the full notebook cells\n",
       "var notebookContainer = gd.closest('#notebook-container');\n",
       "if (notebookContainer) {{\n",
       "    x.observe(notebookContainer, {childList: true});\n",
       "}}\n",
       "\n",
       "// Listen for the clearing of the current output cell\n",
       "var outputEl = gd.closest('.output');\n",
       "if (outputEl) {{\n",
       "    x.observe(outputEl, {childList: true});\n",
       "}}\n",
       "\n",
       "                        })\n",
       "                };\n",
       "                });\n",
       "            </script>\n",
       "        </div>"
      ]
     },
     "metadata": {},
     "output_type": "display_data"
    }
   ],
   "source": [
    "# Plot model in a 2d chart using PCA components\n",
    "plot_model(hclust)"
   ]
  },
  {
   "cell_type": "code",
   "execution_count": 17,
   "metadata": {},
   "outputs": [
    {
     "data": {
      "text/html": [
       "<div>\n",
       "<style scoped>\n",
       "    .dataframe tbody tr th:only-of-type {\n",
       "        vertical-align: middle;\n",
       "    }\n",
       "\n",
       "    .dataframe tbody tr th {\n",
       "        vertical-align: top;\n",
       "    }\n",
       "\n",
       "    .dataframe thead th {\n",
       "        text-align: right;\n",
       "    }\n",
       "</style>\n",
       "<table border=\"1\" class=\"dataframe\">\n",
       "  <thead>\n",
       "    <tr style=\"text-align: right;\">\n",
       "      <th></th>\n",
       "      <th>Age</th>\n",
       "      <th>Income</th>\n",
       "      <th>SpendingScore</th>\n",
       "      <th>Savings</th>\n",
       "      <th>Cluster</th>\n",
       "    </tr>\n",
       "  </thead>\n",
       "  <tbody>\n",
       "    <tr>\n",
       "      <th>0</th>\n",
       "      <td>58</td>\n",
       "      <td>77769</td>\n",
       "      <td>0.791329</td>\n",
       "      <td>6559.829923</td>\n",
       "      <td>Cluster 1</td>\n",
       "    </tr>\n",
       "    <tr>\n",
       "      <th>1</th>\n",
       "      <td>59</td>\n",
       "      <td>81799</td>\n",
       "      <td>0.791082</td>\n",
       "      <td>5417.661426</td>\n",
       "      <td>Cluster 1</td>\n",
       "    </tr>\n",
       "    <tr>\n",
       "      <th>2</th>\n",
       "      <td>62</td>\n",
       "      <td>74751</td>\n",
       "      <td>0.702657</td>\n",
       "      <td>9258.992965</td>\n",
       "      <td>Cluster 1</td>\n",
       "    </tr>\n",
       "    <tr>\n",
       "      <th>3</th>\n",
       "      <td>59</td>\n",
       "      <td>74373</td>\n",
       "      <td>0.765680</td>\n",
       "      <td>7346.334504</td>\n",
       "      <td>Cluster 1</td>\n",
       "    </tr>\n",
       "    <tr>\n",
       "      <th>4</th>\n",
       "      <td>87</td>\n",
       "      <td>17760</td>\n",
       "      <td>0.348778</td>\n",
       "      <td>16869.507130</td>\n",
       "      <td>Cluster 0</td>\n",
       "    </tr>\n",
       "  </tbody>\n",
       "</table>\n",
       "</div>"
      ],
      "text/plain": [
       "   Age  Income  SpendingScore       Savings    Cluster\n",
       "0   58   77769       0.791329   6559.829923  Cluster 1\n",
       "1   59   81799       0.791082   5417.661426  Cluster 1\n",
       "2   62   74751       0.702657   9258.992965  Cluster 1\n",
       "3   59   74373       0.765680   7346.334504  Cluster 1\n",
       "4   87   17760       0.348778  16869.507130  Cluster 0"
      ]
     },
     "execution_count": 17,
     "metadata": {},
     "output_type": "execute_result"
    },
    {
     "data": {
      "text/plain": [
       "Cluster 1    157\n",
       "Cluster 0    147\n",
       "Cluster 2    126\n",
       "Cluster 3     50\n",
       "Cluster 4     25\n",
       "Name: Cluster, dtype: int64"
      ]
     },
     "execution_count": 17,
     "metadata": {},
     "output_type": "execute_result"
    }
   ],
   "source": [
    "# Assign model to data and explort results to csv file\n",
    "hclust_results = assign_model(hclust)\n",
    "hclust_results.head()\n",
    "hclust_results['Cluster'].value_counts()\n",
    "hclust_results.reset_index(inplace = True, drop = True) \n",
    "hclust_results.to_csv('hclust_results_pycaret.csv')"
   ]
  },
  {
   "cell_type": "markdown",
   "metadata": {},
   "source": [
    "# Intepreting the clusters"
   ]
  },
  {
   "cell_type": "markdown",
   "metadata": {},
   "source": [
    "# Means of each cluster and Examplar"
   ]
  },
  {
   "cell_type": "code",
   "execution_count": 27,
   "metadata": {
    "scrolled": false
   },
   "outputs": [
    {
     "name": "stdout",
     "output_type": "stream",
     "text": [
      "\n",
      "Cluster  2 (n=126):\n",
      "[    32.78 105265.81      0.31  14962.78]\n",
      "\n",
      "Cluster  0 (n=147):\n",
      "[   87.78 27866.1      0.33 16659.26]\n",
      "\n",
      "Cluster  1 (n=157):\n",
      "[   59.96 72448.06     0.77  6889.97]\n",
      "\n",
      "Cluster  3 (n=50):\n",
      "[    24.18 128029.12      0.9    4087.52]\n",
      "\n",
      "Cluster  4 (n=25):\n",
      "[    86.   119944.04      0.07  14808.68]\n"
     ]
    },
    {
     "data": {
      "text/plain": [
       "array([[    32.78, 105265.81,      0.31,  14962.78],\n",
       "       [    87.78,  27866.1 ,      0.33,  16659.26],\n",
       "       [    59.96,  72448.06,      0.77,   6889.97],\n",
       "       [    24.18, 128029.12,      0.9 ,   4087.52],\n",
       "       [    86.  , 119944.04,      0.07,  14808.68]])"
      ]
     },
     "execution_count": 27,
     "metadata": {},
     "output_type": "execute_result"
    },
    {
     "name": "stdout",
     "output_type": "stream",
     "text": [
      "exemplar start\n",
      "\n",
      "Cluster  2:\n"
     ]
    },
    {
     "data": {
      "text/html": [
       "<div>\n",
       "<style scoped>\n",
       "    .dataframe tbody tr th:only-of-type {\n",
       "        vertical-align: middle;\n",
       "    }\n",
       "\n",
       "    .dataframe tbody tr th {\n",
       "        vertical-align: top;\n",
       "    }\n",
       "\n",
       "    .dataframe thead th {\n",
       "        text-align: right;\n",
       "    }\n",
       "</style>\n",
       "<table border=\"1\" class=\"dataframe\">\n",
       "  <thead>\n",
       "    <tr style=\"text-align: right;\">\n",
       "      <th></th>\n",
       "      <th>Age</th>\n",
       "      <th>Income</th>\n",
       "      <th>SpendingScore</th>\n",
       "      <th>Savings</th>\n",
       "    </tr>\n",
       "  </thead>\n",
       "  <tbody>\n",
       "    <tr>\n",
       "      <th>168</th>\n",
       "      <td>33</td>\n",
       "      <td>111813</td>\n",
       "      <td>0.238244</td>\n",
       "      <td>15901.238968</td>\n",
       "    </tr>\n",
       "  </tbody>\n",
       "</table>\n",
       "</div>"
      ],
      "text/plain": [
       "     Age  Income  SpendingScore       Savings\n",
       "168   33  111813       0.238244  15901.238968"
      ]
     },
     "metadata": {},
     "output_type": "display_data"
    },
    {
     "name": "stdout",
     "output_type": "stream",
     "text": [
      "exemplar end ************\n",
      "\n",
      "exemplar start\n",
      "\n",
      "Cluster  0:\n"
     ]
    },
    {
     "data": {
      "text/html": [
       "<div>\n",
       "<style scoped>\n",
       "    .dataframe tbody tr th:only-of-type {\n",
       "        vertical-align: middle;\n",
       "    }\n",
       "\n",
       "    .dataframe tbody tr th {\n",
       "        vertical-align: top;\n",
       "    }\n",
       "\n",
       "    .dataframe thead th {\n",
       "        text-align: right;\n",
       "    }\n",
       "</style>\n",
       "<table border=\"1\" class=\"dataframe\">\n",
       "  <thead>\n",
       "    <tr style=\"text-align: right;\">\n",
       "      <th></th>\n",
       "      <th>Age</th>\n",
       "      <th>Income</th>\n",
       "      <th>SpendingScore</th>\n",
       "      <th>Savings</th>\n",
       "    </tr>\n",
       "  </thead>\n",
       "  <tbody>\n",
       "    <tr>\n",
       "      <th>376</th>\n",
       "      <td>87</td>\n",
       "      <td>25566</td>\n",
       "      <td>0.31676</td>\n",
       "      <td>15188.058749</td>\n",
       "    </tr>\n",
       "  </tbody>\n",
       "</table>\n",
       "</div>"
      ],
      "text/plain": [
       "     Age  Income  SpendingScore       Savings\n",
       "376   87   25566        0.31676  15188.058749"
      ]
     },
     "metadata": {},
     "output_type": "display_data"
    },
    {
     "name": "stdout",
     "output_type": "stream",
     "text": [
      "exemplar end ************\n",
      "\n",
      "exemplar start\n",
      "\n",
      "Cluster  1:\n"
     ]
    },
    {
     "data": {
      "text/html": [
       "<div>\n",
       "<style scoped>\n",
       "    .dataframe tbody tr th:only-of-type {\n",
       "        vertical-align: middle;\n",
       "    }\n",
       "\n",
       "    .dataframe tbody tr th {\n",
       "        vertical-align: top;\n",
       "    }\n",
       "\n",
       "    .dataframe thead th {\n",
       "        text-align: right;\n",
       "    }\n",
       "</style>\n",
       "<table border=\"1\" class=\"dataframe\">\n",
       "  <thead>\n",
       "    <tr style=\"text-align: right;\">\n",
       "      <th></th>\n",
       "      <th>Age</th>\n",
       "      <th>Income</th>\n",
       "      <th>SpendingScore</th>\n",
       "      <th>Savings</th>\n",
       "    </tr>\n",
       "  </thead>\n",
       "  <tbody>\n",
       "    <tr>\n",
       "      <th>364</th>\n",
       "      <td>58</td>\n",
       "      <td>80248</td>\n",
       "      <td>0.724956</td>\n",
       "      <td>7641.160382</td>\n",
       "    </tr>\n",
       "  </tbody>\n",
       "</table>\n",
       "</div>"
      ],
      "text/plain": [
       "     Age  Income  SpendingScore      Savings\n",
       "364   58   80248       0.724956  7641.160382"
      ]
     },
     "metadata": {},
     "output_type": "display_data"
    },
    {
     "name": "stdout",
     "output_type": "stream",
     "text": [
      "exemplar end ************\n",
      "\n",
      "exemplar start\n",
      "\n",
      "Cluster  3:\n"
     ]
    },
    {
     "data": {
      "text/html": [
       "<div>\n",
       "<style scoped>\n",
       "    .dataframe tbody tr th:only-of-type {\n",
       "        vertical-align: middle;\n",
       "    }\n",
       "\n",
       "    .dataframe tbody tr th {\n",
       "        vertical-align: top;\n",
       "    }\n",
       "\n",
       "    .dataframe thead th {\n",
       "        text-align: right;\n",
       "    }\n",
       "</style>\n",
       "<table border=\"1\" class=\"dataframe\">\n",
       "  <thead>\n",
       "    <tr style=\"text-align: right;\">\n",
       "      <th></th>\n",
       "      <th>Age</th>\n",
       "      <th>Income</th>\n",
       "      <th>SpendingScore</th>\n",
       "      <th>Savings</th>\n",
       "    </tr>\n",
       "  </thead>\n",
       "  <tbody>\n",
       "    <tr>\n",
       "      <th>217</th>\n",
       "      <td>23</td>\n",
       "      <td>129937</td>\n",
       "      <td>0.872736</td>\n",
       "      <td>4102.065425</td>\n",
       "    </tr>\n",
       "  </tbody>\n",
       "</table>\n",
       "</div>"
      ],
      "text/plain": [
       "     Age  Income  SpendingScore      Savings\n",
       "217   23  129937       0.872736  4102.065425"
      ]
     },
     "metadata": {},
     "output_type": "display_data"
    },
    {
     "name": "stdout",
     "output_type": "stream",
     "text": [
      "exemplar end ************\n",
      "\n",
      "exemplar start\n",
      "\n",
      "Cluster  4:\n"
     ]
    },
    {
     "data": {
      "text/html": [
       "<div>\n",
       "<style scoped>\n",
       "    .dataframe tbody tr th:only-of-type {\n",
       "        vertical-align: middle;\n",
       "    }\n",
       "\n",
       "    .dataframe tbody tr th {\n",
       "        vertical-align: top;\n",
       "    }\n",
       "\n",
       "    .dataframe thead th {\n",
       "        text-align: right;\n",
       "    }\n",
       "</style>\n",
       "<table border=\"1\" class=\"dataframe\">\n",
       "  <thead>\n",
       "    <tr style=\"text-align: right;\">\n",
       "      <th></th>\n",
       "      <th>Age</th>\n",
       "      <th>Income</th>\n",
       "      <th>SpendingScore</th>\n",
       "      <th>Savings</th>\n",
       "    </tr>\n",
       "  </thead>\n",
       "  <tbody>\n",
       "    <tr>\n",
       "      <th>427</th>\n",
       "      <td>86</td>\n",
       "      <td>124372</td>\n",
       "      <td>0.0</td>\n",
       "      <td>15374.465953</td>\n",
       "    </tr>\n",
       "  </tbody>\n",
       "</table>\n",
       "</div>"
      ],
      "text/plain": [
       "     Age  Income  SpendingScore       Savings\n",
       "427   86  124372            0.0  15374.465953"
      ]
     },
     "metadata": {},
     "output_type": "display_data"
    },
    {
     "name": "stdout",
     "output_type": "stream",
     "text": [
      "exemplar end ************\n",
      "\n"
     ]
    }
   ],
   "source": [
    "from scipy.spatial import distance\n",
    "\n",
    "#  Step 1 - Calulcate the mean of each cluster first\n",
    "labels = hclust_results['Cluster'].str.replace('Cluster','')\n",
    "#labels\n",
    "\n",
    "np.set_printoptions(precision=2)\n",
    "np.set_printoptions(suppress=True)\n",
    "\n",
    "K = 5\n",
    "X= hclust_results.drop(columns =['Cluster'])\n",
    "#hclust_results.shape[1]\n",
    "\n",
    "# hclust_results.shape\n",
    "# shape is 5 x 505\n",
    "means = np.zeros((K, X.shape[1]))\n",
    "\n",
    "for i, label in enumerate(set(labels)):\n",
    "    means[i,:] = X[labels==label].mean(axis=0)\n",
    "    print('\\nCluster {} (n={}):'.format(label, sum(labels==label)))\n",
    "    print(means[i,:])\n",
    "    \n",
    "means\n",
    "pd.DataFrame(means).to_csv('means_byCluster.csv')\n",
    "\n",
    "# -----------------------------------\n",
    "# Step 2 - Based on the means from step 1, calulcate examplar for each cluster\n",
    "\n",
    "i=0\n",
    "unique_id_list = list()\n",
    "\n",
    "\n",
    "for i, label in enumerate(set(labels)):\n",
    "    X_tmp= X[labels ==label].copy()\n",
    "    \n",
    "    # Euclidean distance \n",
    "    #exemplar_idx = distance.cdist([means[i]], X_tmp).argmin()\n",
    "    \n",
    "    #cosine distance\n",
    "    exemplar_idx = distance.cdist([means[i]], X_tmp,metric='cosine').argmin()   \n",
    "    \n",
    " \n",
    "    print('exemplar start')\n",
    "    print('\\nCluster {}:'.format(label))\n",
    "    display(X_tmp.iloc[[exemplar_idx]])\n",
    "    print('exemplar end ************' + '\\n')\n",
    "    \n",
    "    \n"
   ]
  },
  {
   "cell_type": "markdown",
   "metadata": {},
   "source": [
    "# Means of each cluster (another way to calculate)"
   ]
  },
  {
   "cell_type": "code",
   "execution_count": 28,
   "metadata": {
    "scrolled": false
   },
   "outputs": [
    {
     "data": {
      "text/html": [
       "<div>\n",
       "<style scoped>\n",
       "    .dataframe tbody tr th:only-of-type {\n",
       "        vertical-align: middle;\n",
       "    }\n",
       "\n",
       "    .dataframe tbody tr th {\n",
       "        vertical-align: top;\n",
       "    }\n",
       "\n",
       "    .dataframe thead tr th {\n",
       "        text-align: left;\n",
       "    }\n",
       "\n",
       "    .dataframe thead tr:last-of-type th {\n",
       "        text-align: right;\n",
       "    }\n",
       "</style>\n",
       "<table border=\"1\" class=\"dataframe\">\n",
       "  <thead>\n",
       "    <tr>\n",
       "      <th></th>\n",
       "      <th colspan=\"8\" halign=\"left\">Age</th>\n",
       "      <th colspan=\"2\" halign=\"left\">Income</th>\n",
       "      <th>...</th>\n",
       "      <th colspan=\"2\" halign=\"left\">SpendingScore</th>\n",
       "      <th colspan=\"8\" halign=\"left\">Savings</th>\n",
       "    </tr>\n",
       "    <tr>\n",
       "      <th></th>\n",
       "      <th>count</th>\n",
       "      <th>mean</th>\n",
       "      <th>std</th>\n",
       "      <th>min</th>\n",
       "      <th>25%</th>\n",
       "      <th>50%</th>\n",
       "      <th>75%</th>\n",
       "      <th>max</th>\n",
       "      <th>count</th>\n",
       "      <th>mean</th>\n",
       "      <th>...</th>\n",
       "      <th>75%</th>\n",
       "      <th>max</th>\n",
       "      <th>count</th>\n",
       "      <th>mean</th>\n",
       "      <th>std</th>\n",
       "      <th>min</th>\n",
       "      <th>25%</th>\n",
       "      <th>50%</th>\n",
       "      <th>75%</th>\n",
       "      <th>max</th>\n",
       "    </tr>\n",
       "    <tr>\n",
       "      <th>Cluster</th>\n",
       "      <th></th>\n",
       "      <th></th>\n",
       "      <th></th>\n",
       "      <th></th>\n",
       "      <th></th>\n",
       "      <th></th>\n",
       "      <th></th>\n",
       "      <th></th>\n",
       "      <th></th>\n",
       "      <th></th>\n",
       "      <th></th>\n",
       "      <th></th>\n",
       "      <th></th>\n",
       "      <th></th>\n",
       "      <th></th>\n",
       "      <th></th>\n",
       "      <th></th>\n",
       "      <th></th>\n",
       "      <th></th>\n",
       "      <th></th>\n",
       "      <th></th>\n",
       "    </tr>\n",
       "  </thead>\n",
       "  <tbody>\n",
       "    <tr>\n",
       "      <th>Cluster 0</th>\n",
       "      <td>147.0</td>\n",
       "      <td>87.775510</td>\n",
       "      <td>3.508885</td>\n",
       "      <td>79.0</td>\n",
       "      <td>85.0</td>\n",
       "      <td>88.0</td>\n",
       "      <td>91.0</td>\n",
       "      <td>97.0</td>\n",
       "      <td>147.0</td>\n",
       "      <td>27866.102041</td>\n",
       "      <td>...</td>\n",
       "      <td>0.357267</td>\n",
       "      <td>0.473550</td>\n",
       "      <td>147.0</td>\n",
       "      <td>16659.261445</td>\n",
       "      <td>1183.850178</td>\n",
       "      <td>13470.970605</td>\n",
       "      <td>15957.282919</td>\n",
       "      <td>16711.067980</td>\n",
       "      <td>17433.126684</td>\n",
       "      <td>20000.000000</td>\n",
       "    </tr>\n",
       "    <tr>\n",
       "      <th>Cluster 1</th>\n",
       "      <td>157.0</td>\n",
       "      <td>59.955414</td>\n",
       "      <td>3.376662</td>\n",
       "      <td>51.0</td>\n",
       "      <td>58.0</td>\n",
       "      <td>59.0</td>\n",
       "      <td>62.0</td>\n",
       "      <td>68.0</td>\n",
       "      <td>157.0</td>\n",
       "      <td>72448.063694</td>\n",
       "      <td>...</td>\n",
       "      <td>0.800598</td>\n",
       "      <td>0.910417</td>\n",
       "      <td>157.0</td>\n",
       "      <td>6889.972190</td>\n",
       "      <td>1052.276354</td>\n",
       "      <td>4077.658657</td>\n",
       "      <td>6225.376082</td>\n",
       "      <td>6845.056822</td>\n",
       "      <td>7497.231607</td>\n",
       "      <td>10547.775368</td>\n",
       "    </tr>\n",
       "    <tr>\n",
       "      <th>Cluster 2</th>\n",
       "      <td>126.0</td>\n",
       "      <td>32.777778</td>\n",
       "      <td>3.792390</td>\n",
       "      <td>22.0</td>\n",
       "      <td>30.0</td>\n",
       "      <td>33.0</td>\n",
       "      <td>35.0</td>\n",
       "      <td>44.0</td>\n",
       "      <td>126.0</td>\n",
       "      <td>105265.809524</td>\n",
       "      <td>...</td>\n",
       "      <td>0.341096</td>\n",
       "      <td>0.411112</td>\n",
       "      <td>126.0</td>\n",
       "      <td>14962.778066</td>\n",
       "      <td>1061.734017</td>\n",
       "      <td>12207.526078</td>\n",
       "      <td>14223.787562</td>\n",
       "      <td>14976.943192</td>\n",
       "      <td>15682.288845</td>\n",
       "      <td>17968.553929</td>\n",
       "    </tr>\n",
       "    <tr>\n",
       "      <th>Cluster 3</th>\n",
       "      <td>50.0</td>\n",
       "      <td>24.180000</td>\n",
       "      <td>3.662775</td>\n",
       "      <td>17.0</td>\n",
       "      <td>22.0</td>\n",
       "      <td>24.5</td>\n",
       "      <td>27.0</td>\n",
       "      <td>31.0</td>\n",
       "      <td>50.0</td>\n",
       "      <td>128029.120000</td>\n",
       "      <td>...</td>\n",
       "      <td>0.926473</td>\n",
       "      <td>1.000000</td>\n",
       "      <td>50.0</td>\n",
       "      <td>4087.520309</td>\n",
       "      <td>1277.754801</td>\n",
       "      <td>0.000000</td>\n",
       "      <td>3275.320193</td>\n",
       "      <td>4361.967019</td>\n",
       "      <td>4986.863329</td>\n",
       "      <td>6089.478323</td>\n",
       "    </tr>\n",
       "    <tr>\n",
       "      <th>Cluster 4</th>\n",
       "      <td>25.0</td>\n",
       "      <td>86.000000</td>\n",
       "      <td>3.662877</td>\n",
       "      <td>77.0</td>\n",
       "      <td>84.0</td>\n",
       "      <td>86.0</td>\n",
       "      <td>88.0</td>\n",
       "      <td>93.0</td>\n",
       "      <td>25.0</td>\n",
       "      <td>119944.040000</td>\n",
       "      <td>...</td>\n",
       "      <td>0.082723</td>\n",
       "      <td>0.155694</td>\n",
       "      <td>25.0</td>\n",
       "      <td>14808.683793</td>\n",
       "      <td>1159.339639</td>\n",
       "      <td>12554.692742</td>\n",
       "      <td>14047.388986</td>\n",
       "      <td>14773.407206</td>\n",
       "      <td>15391.952192</td>\n",
       "      <td>17833.093470</td>\n",
       "    </tr>\n",
       "  </tbody>\n",
       "</table>\n",
       "<p>5 rows × 32 columns</p>\n",
       "</div>"
      ],
      "text/plain": [
       "             Age                                                    Income  \\\n",
       "           count       mean       std   min   25%   50%   75%   max  count   \n",
       "Cluster                                                                      \n",
       "Cluster 0  147.0  87.775510  3.508885  79.0  85.0  88.0  91.0  97.0  147.0   \n",
       "Cluster 1  157.0  59.955414  3.376662  51.0  58.0  59.0  62.0  68.0  157.0   \n",
       "Cluster 2  126.0  32.777778  3.792390  22.0  30.0  33.0  35.0  44.0  126.0   \n",
       "Cluster 3   50.0  24.180000  3.662775  17.0  22.0  24.5  27.0  31.0   50.0   \n",
       "Cluster 4   25.0  86.000000  3.662877  77.0  84.0  86.0  88.0  93.0   25.0   \n",
       "\n",
       "                          ... SpendingScore           Savings                \\\n",
       "                    mean  ...           75%       max   count          mean   \n",
       "Cluster                   ...                                                 \n",
       "Cluster 0   27866.102041  ...      0.357267  0.473550   147.0  16659.261445   \n",
       "Cluster 1   72448.063694  ...      0.800598  0.910417   157.0   6889.972190   \n",
       "Cluster 2  105265.809524  ...      0.341096  0.411112   126.0  14962.778066   \n",
       "Cluster 3  128029.120000  ...      0.926473  1.000000    50.0   4087.520309   \n",
       "Cluster 4  119944.040000  ...      0.082723  0.155694    25.0  14808.683793   \n",
       "\n",
       "                                                                  \\\n",
       "                   std           min           25%           50%   \n",
       "Cluster                                                            \n",
       "Cluster 0  1183.850178  13470.970605  15957.282919  16711.067980   \n",
       "Cluster 1  1052.276354   4077.658657   6225.376082   6845.056822   \n",
       "Cluster 2  1061.734017  12207.526078  14223.787562  14976.943192   \n",
       "Cluster 3  1277.754801      0.000000   3275.320193   4361.967019   \n",
       "Cluster 4  1159.339639  12554.692742  14047.388986  14773.407206   \n",
       "\n",
       "                                       \n",
       "                    75%           max  \n",
       "Cluster                                \n",
       "Cluster 0  17433.126684  20000.000000  \n",
       "Cluster 1   7497.231607  10547.775368  \n",
       "Cluster 2  15682.288845  17968.553929  \n",
       "Cluster 3   4986.863329   6089.478323  \n",
       "Cluster 4  15391.952192  17833.093470  \n",
       "\n",
       "[5 rows x 32 columns]"
      ]
     },
     "execution_count": 28,
     "metadata": {},
     "output_type": "execute_result"
    },
    {
     "name": "stdout",
     "output_type": "stream",
     "text": [
      "<class 'pandas.core.frame.DataFrame'>\n",
      "Index: 5 entries, Cluster 0 to Cluster 4\n",
      "Data columns (total 32 columns):\n",
      " #   Column                  Non-Null Count  Dtype  \n",
      "---  ------                  --------------  -----  \n",
      " 0   (Age, count)            5 non-null      float64\n",
      " 1   (Age, mean)             5 non-null      float64\n",
      " 2   (Age, std)              5 non-null      float64\n",
      " 3   (Age, min)              5 non-null      float64\n",
      " 4   (Age, 25%)              5 non-null      float64\n",
      " 5   (Age, 50%)              5 non-null      float64\n",
      " 6   (Age, 75%)              5 non-null      float64\n",
      " 7   (Age, max)              5 non-null      float64\n",
      " 8   (Income, count)         5 non-null      float64\n",
      " 9   (Income, mean)          5 non-null      float64\n",
      " 10  (Income, std)           5 non-null      float64\n",
      " 11  (Income, min)           5 non-null      float64\n",
      " 12  (Income, 25%)           5 non-null      float64\n",
      " 13  (Income, 50%)           5 non-null      float64\n",
      " 14  (Income, 75%)           5 non-null      float64\n",
      " 15  (Income, max)           5 non-null      float64\n",
      " 16  (SpendingScore, count)  5 non-null      float64\n",
      " 17  (SpendingScore, mean)   5 non-null      float64\n",
      " 18  (SpendingScore, std)    5 non-null      float64\n",
      " 19  (SpendingScore, min)    5 non-null      float64\n",
      " 20  (SpendingScore, 25%)    5 non-null      float64\n",
      " 21  (SpendingScore, 50%)    5 non-null      float64\n",
      " 22  (SpendingScore, 75%)    5 non-null      float64\n",
      " 23  (SpendingScore, max)    5 non-null      float64\n",
      " 24  (Savings, count)        5 non-null      float64\n",
      " 25  (Savings, mean)         5 non-null      float64\n",
      " 26  (Savings, std)          5 non-null      float64\n",
      " 27  (Savings, min)          5 non-null      float64\n",
      " 28  (Savings, 25%)          5 non-null      float64\n",
      " 29  (Savings, 50%)          5 non-null      float64\n",
      " 30  (Savings, 75%)          5 non-null      float64\n",
      " 31  (Savings, max)          5 non-null      float64\n",
      "dtypes: float64(32)\n",
      "memory usage: 1.3+ KB\n",
      "\n",
      "\n",
      " Group by Cluster - Means of Age: \n"
     ]
    },
    {
     "data": {
      "text/html": [
       "<div>\n",
       "<style scoped>\n",
       "    .dataframe tbody tr th:only-of-type {\n",
       "        vertical-align: middle;\n",
       "    }\n",
       "\n",
       "    .dataframe tbody tr th {\n",
       "        vertical-align: top;\n",
       "    }\n",
       "\n",
       "    .dataframe thead th {\n",
       "        text-align: right;\n",
       "    }\n",
       "</style>\n",
       "<table border=\"1\" class=\"dataframe\">\n",
       "  <thead>\n",
       "    <tr style=\"text-align: right;\">\n",
       "      <th></th>\n",
       "      <th>count</th>\n",
       "      <th>mean</th>\n",
       "      <th>std</th>\n",
       "      <th>min</th>\n",
       "      <th>25%</th>\n",
       "      <th>50%</th>\n",
       "      <th>75%</th>\n",
       "      <th>max</th>\n",
       "    </tr>\n",
       "    <tr>\n",
       "      <th>Cluster</th>\n",
       "      <th></th>\n",
       "      <th></th>\n",
       "      <th></th>\n",
       "      <th></th>\n",
       "      <th></th>\n",
       "      <th></th>\n",
       "      <th></th>\n",
       "      <th></th>\n",
       "    </tr>\n",
       "  </thead>\n",
       "  <tbody>\n",
       "    <tr>\n",
       "      <th>Cluster 0</th>\n",
       "      <td>147.0</td>\n",
       "      <td>87.775510</td>\n",
       "      <td>3.508885</td>\n",
       "      <td>79.0</td>\n",
       "      <td>85.0</td>\n",
       "      <td>88.0</td>\n",
       "      <td>91.0</td>\n",
       "      <td>97.0</td>\n",
       "    </tr>\n",
       "    <tr>\n",
       "      <th>Cluster 1</th>\n",
       "      <td>157.0</td>\n",
       "      <td>59.955414</td>\n",
       "      <td>3.376662</td>\n",
       "      <td>51.0</td>\n",
       "      <td>58.0</td>\n",
       "      <td>59.0</td>\n",
       "      <td>62.0</td>\n",
       "      <td>68.0</td>\n",
       "    </tr>\n",
       "    <tr>\n",
       "      <th>Cluster 2</th>\n",
       "      <td>126.0</td>\n",
       "      <td>32.777778</td>\n",
       "      <td>3.792390</td>\n",
       "      <td>22.0</td>\n",
       "      <td>30.0</td>\n",
       "      <td>33.0</td>\n",
       "      <td>35.0</td>\n",
       "      <td>44.0</td>\n",
       "    </tr>\n",
       "    <tr>\n",
       "      <th>Cluster 3</th>\n",
       "      <td>50.0</td>\n",
       "      <td>24.180000</td>\n",
       "      <td>3.662775</td>\n",
       "      <td>17.0</td>\n",
       "      <td>22.0</td>\n",
       "      <td>24.5</td>\n",
       "      <td>27.0</td>\n",
       "      <td>31.0</td>\n",
       "    </tr>\n",
       "    <tr>\n",
       "      <th>Cluster 4</th>\n",
       "      <td>25.0</td>\n",
       "      <td>86.000000</td>\n",
       "      <td>3.662877</td>\n",
       "      <td>77.0</td>\n",
       "      <td>84.0</td>\n",
       "      <td>86.0</td>\n",
       "      <td>88.0</td>\n",
       "      <td>93.0</td>\n",
       "    </tr>\n",
       "  </tbody>\n",
       "</table>\n",
       "</div>"
      ],
      "text/plain": [
       "           count       mean       std   min   25%   50%   75%   max\n",
       "Cluster                                                            \n",
       "Cluster 0  147.0  87.775510  3.508885  79.0  85.0  88.0  91.0  97.0\n",
       "Cluster 1  157.0  59.955414  3.376662  51.0  58.0  59.0  62.0  68.0\n",
       "Cluster 2  126.0  32.777778  3.792390  22.0  30.0  33.0  35.0  44.0\n",
       "Cluster 3   50.0  24.180000  3.662775  17.0  22.0  24.5  27.0  31.0\n",
       "Cluster 4   25.0  86.000000  3.662877  77.0  84.0  86.0  88.0  93.0"
      ]
     },
     "execution_count": 28,
     "metadata": {},
     "output_type": "execute_result"
    },
    {
     "name": "stdout",
     "output_type": "stream",
     "text": [
      "\n",
      "\n",
      " Group by Cluster - Means of Spending Score: \n"
     ]
    },
    {
     "data": {
      "text/html": [
       "<div>\n",
       "<style scoped>\n",
       "    .dataframe tbody tr th:only-of-type {\n",
       "        vertical-align: middle;\n",
       "    }\n",
       "\n",
       "    .dataframe tbody tr th {\n",
       "        vertical-align: top;\n",
       "    }\n",
       "\n",
       "    .dataframe thead th {\n",
       "        text-align: right;\n",
       "    }\n",
       "</style>\n",
       "<table border=\"1\" class=\"dataframe\">\n",
       "  <thead>\n",
       "    <tr style=\"text-align: right;\">\n",
       "      <th></th>\n",
       "      <th>count</th>\n",
       "      <th>mean</th>\n",
       "      <th>std</th>\n",
       "      <th>min</th>\n",
       "      <th>25%</th>\n",
       "      <th>50%</th>\n",
       "      <th>75%</th>\n",
       "      <th>max</th>\n",
       "    </tr>\n",
       "    <tr>\n",
       "      <th>Cluster</th>\n",
       "      <th></th>\n",
       "      <th></th>\n",
       "      <th></th>\n",
       "      <th></th>\n",
       "      <th></th>\n",
       "      <th></th>\n",
       "      <th></th>\n",
       "      <th></th>\n",
       "    </tr>\n",
       "  </thead>\n",
       "  <tbody>\n",
       "    <tr>\n",
       "      <th>Cluster 0</th>\n",
       "      <td>147.0</td>\n",
       "      <td>0.328800</td>\n",
       "      <td>0.045224</td>\n",
       "      <td>0.203140</td>\n",
       "      <td>0.301502</td>\n",
       "      <td>0.324719</td>\n",
       "      <td>0.357267</td>\n",
       "      <td>0.473550</td>\n",
       "    </tr>\n",
       "    <tr>\n",
       "      <th>Cluster 1</th>\n",
       "      <td>157.0</td>\n",
       "      <td>0.771518</td>\n",
       "      <td>0.046058</td>\n",
       "      <td>0.657314</td>\n",
       "      <td>0.740367</td>\n",
       "      <td>0.766720</td>\n",
       "      <td>0.800598</td>\n",
       "      <td>0.910417</td>\n",
       "    </tr>\n",
       "    <tr>\n",
       "      <th>Cluster 2</th>\n",
       "      <td>126.0</td>\n",
       "      <td>0.309926</td>\n",
       "      <td>0.045513</td>\n",
       "      <td>0.174120</td>\n",
       "      <td>0.281237</td>\n",
       "      <td>0.309479</td>\n",
       "      <td>0.341096</td>\n",
       "      <td>0.411112</td>\n",
       "    </tr>\n",
       "    <tr>\n",
       "      <th>Cluster 3</th>\n",
       "      <td>50.0</td>\n",
       "      <td>0.896892</td>\n",
       "      <td>0.043466</td>\n",
       "      <td>0.806553</td>\n",
       "      <td>0.871957</td>\n",
       "      <td>0.890676</td>\n",
       "      <td>0.926473</td>\n",
       "      <td>1.000000</td>\n",
       "    </tr>\n",
       "    <tr>\n",
       "      <th>Cluster 4</th>\n",
       "      <td>25.0</td>\n",
       "      <td>0.068378</td>\n",
       "      <td>0.039744</td>\n",
       "      <td>0.000000</td>\n",
       "      <td>0.036795</td>\n",
       "      <td>0.063273</td>\n",
       "      <td>0.082723</td>\n",
       "      <td>0.155694</td>\n",
       "    </tr>\n",
       "  </tbody>\n",
       "</table>\n",
       "</div>"
      ],
      "text/plain": [
       "           count      mean       std       min       25%       50%       75%  \\\n",
       "Cluster                                                                        \n",
       "Cluster 0  147.0  0.328800  0.045224  0.203140  0.301502  0.324719  0.357267   \n",
       "Cluster 1  157.0  0.771518  0.046058  0.657314  0.740367  0.766720  0.800598   \n",
       "Cluster 2  126.0  0.309926  0.045513  0.174120  0.281237  0.309479  0.341096   \n",
       "Cluster 3   50.0  0.896892  0.043466  0.806553  0.871957  0.890676  0.926473   \n",
       "Cluster 4   25.0  0.068378  0.039744  0.000000  0.036795  0.063273  0.082723   \n",
       "\n",
       "                max  \n",
       "Cluster              \n",
       "Cluster 0  0.473550  \n",
       "Cluster 1  0.910417  \n",
       "Cluster 2  0.411112  \n",
       "Cluster 3  1.000000  \n",
       "Cluster 4  0.155694  "
      ]
     },
     "execution_count": 28,
     "metadata": {},
     "output_type": "execute_result"
    },
    {
     "name": "stdout",
     "output_type": "stream",
     "text": [
      "\n",
      "\n",
      " Group by Cluster - Means of Income: \n"
     ]
    },
    {
     "data": {
      "text/html": [
       "<div>\n",
       "<style scoped>\n",
       "    .dataframe tbody tr th:only-of-type {\n",
       "        vertical-align: middle;\n",
       "    }\n",
       "\n",
       "    .dataframe tbody tr th {\n",
       "        vertical-align: top;\n",
       "    }\n",
       "\n",
       "    .dataframe thead th {\n",
       "        text-align: right;\n",
       "    }\n",
       "</style>\n",
       "<table border=\"1\" class=\"dataframe\">\n",
       "  <thead>\n",
       "    <tr style=\"text-align: right;\">\n",
       "      <th></th>\n",
       "      <th>count</th>\n",
       "      <th>mean</th>\n",
       "      <th>std</th>\n",
       "      <th>min</th>\n",
       "      <th>25%</th>\n",
       "      <th>50%</th>\n",
       "      <th>75%</th>\n",
       "      <th>max</th>\n",
       "    </tr>\n",
       "    <tr>\n",
       "      <th>Cluster</th>\n",
       "      <th></th>\n",
       "      <th></th>\n",
       "      <th></th>\n",
       "      <th></th>\n",
       "      <th></th>\n",
       "      <th></th>\n",
       "      <th></th>\n",
       "      <th></th>\n",
       "    </tr>\n",
       "  </thead>\n",
       "  <tbody>\n",
       "    <tr>\n",
       "      <th>Cluster 0</th>\n",
       "      <td>147.0</td>\n",
       "      <td>27866.102041</td>\n",
       "      <td>6448.805481</td>\n",
       "      <td>12000.0</td>\n",
       "      <td>23361.00</td>\n",
       "      <td>27771.0</td>\n",
       "      <td>32601.00</td>\n",
       "      <td>46977.0</td>\n",
       "    </tr>\n",
       "    <tr>\n",
       "      <th>Cluster 1</th>\n",
       "      <td>157.0</td>\n",
       "      <td>72448.063694</td>\n",
       "      <td>6240.260008</td>\n",
       "      <td>56321.0</td>\n",
       "      <td>68463.00</td>\n",
       "      <td>72027.0</td>\n",
       "      <td>76594.00</td>\n",
       "      <td>90422.0</td>\n",
       "    </tr>\n",
       "    <tr>\n",
       "      <th>Cluster 2</th>\n",
       "      <td>126.0</td>\n",
       "      <td>105265.809524</td>\n",
       "      <td>6080.621753</td>\n",
       "      <td>89598.0</td>\n",
       "      <td>100760.25</td>\n",
       "      <td>106002.5</td>\n",
       "      <td>108858.75</td>\n",
       "      <td>119877.0</td>\n",
       "    </tr>\n",
       "    <tr>\n",
       "      <th>Cluster 3</th>\n",
       "      <td>50.0</td>\n",
       "      <td>128029.120000</td>\n",
       "      <td>5688.904656</td>\n",
       "      <td>117108.0</td>\n",
       "      <td>123042.00</td>\n",
       "      <td>128162.0</td>\n",
       "      <td>131435.75</td>\n",
       "      <td>142000.0</td>\n",
       "    </tr>\n",
       "    <tr>\n",
       "      <th>Cluster 4</th>\n",
       "      <td>25.0</td>\n",
       "      <td>119944.040000</td>\n",
       "      <td>4941.052254</td>\n",
       "      <td>110582.0</td>\n",
       "      <td>117347.00</td>\n",
       "      <td>119429.0</td>\n",
       "      <td>123651.00</td>\n",
       "      <td>128596.0</td>\n",
       "    </tr>\n",
       "  </tbody>\n",
       "</table>\n",
       "</div>"
      ],
      "text/plain": [
       "           count           mean          std       min        25%       50%  \\\n",
       "Cluster                                                                       \n",
       "Cluster 0  147.0   27866.102041  6448.805481   12000.0   23361.00   27771.0   \n",
       "Cluster 1  157.0   72448.063694  6240.260008   56321.0   68463.00   72027.0   \n",
       "Cluster 2  126.0  105265.809524  6080.621753   89598.0  100760.25  106002.5   \n",
       "Cluster 3   50.0  128029.120000  5688.904656  117108.0  123042.00  128162.0   \n",
       "Cluster 4   25.0  119944.040000  4941.052254  110582.0  117347.00  119429.0   \n",
       "\n",
       "                 75%       max  \n",
       "Cluster                         \n",
       "Cluster 0   32601.00   46977.0  \n",
       "Cluster 1   76594.00   90422.0  \n",
       "Cluster 2  108858.75  119877.0  \n",
       "Cluster 3  131435.75  142000.0  \n",
       "Cluster 4  123651.00  128596.0  "
      ]
     },
     "execution_count": 28,
     "metadata": {},
     "output_type": "execute_result"
    },
    {
     "name": "stdout",
     "output_type": "stream",
     "text": [
      "\n",
      "\n",
      " Group by Cluster - Means of Savings: \n"
     ]
    },
    {
     "data": {
      "text/html": [
       "<div>\n",
       "<style scoped>\n",
       "    .dataframe tbody tr th:only-of-type {\n",
       "        vertical-align: middle;\n",
       "    }\n",
       "\n",
       "    .dataframe tbody tr th {\n",
       "        vertical-align: top;\n",
       "    }\n",
       "\n",
       "    .dataframe thead th {\n",
       "        text-align: right;\n",
       "    }\n",
       "</style>\n",
       "<table border=\"1\" class=\"dataframe\">\n",
       "  <thead>\n",
       "    <tr style=\"text-align: right;\">\n",
       "      <th></th>\n",
       "      <th>count</th>\n",
       "      <th>mean</th>\n",
       "      <th>std</th>\n",
       "      <th>min</th>\n",
       "      <th>25%</th>\n",
       "      <th>50%</th>\n",
       "      <th>75%</th>\n",
       "      <th>max</th>\n",
       "    </tr>\n",
       "    <tr>\n",
       "      <th>Cluster</th>\n",
       "      <th></th>\n",
       "      <th></th>\n",
       "      <th></th>\n",
       "      <th></th>\n",
       "      <th></th>\n",
       "      <th></th>\n",
       "      <th></th>\n",
       "      <th></th>\n",
       "    </tr>\n",
       "  </thead>\n",
       "  <tbody>\n",
       "    <tr>\n",
       "      <th>Cluster 0</th>\n",
       "      <td>147.0</td>\n",
       "      <td>16659.261445</td>\n",
       "      <td>1183.850178</td>\n",
       "      <td>13470.970605</td>\n",
       "      <td>15957.282919</td>\n",
       "      <td>16711.067980</td>\n",
       "      <td>17433.126684</td>\n",
       "      <td>20000.000000</td>\n",
       "    </tr>\n",
       "    <tr>\n",
       "      <th>Cluster 1</th>\n",
       "      <td>157.0</td>\n",
       "      <td>6889.972190</td>\n",
       "      <td>1052.276354</td>\n",
       "      <td>4077.658657</td>\n",
       "      <td>6225.376082</td>\n",
       "      <td>6845.056822</td>\n",
       "      <td>7497.231607</td>\n",
       "      <td>10547.775368</td>\n",
       "    </tr>\n",
       "    <tr>\n",
       "      <th>Cluster 2</th>\n",
       "      <td>126.0</td>\n",
       "      <td>14962.778066</td>\n",
       "      <td>1061.734017</td>\n",
       "      <td>12207.526078</td>\n",
       "      <td>14223.787562</td>\n",
       "      <td>14976.943192</td>\n",
       "      <td>15682.288845</td>\n",
       "      <td>17968.553929</td>\n",
       "    </tr>\n",
       "    <tr>\n",
       "      <th>Cluster 3</th>\n",
       "      <td>50.0</td>\n",
       "      <td>4087.520309</td>\n",
       "      <td>1277.754801</td>\n",
       "      <td>0.000000</td>\n",
       "      <td>3275.320193</td>\n",
       "      <td>4361.967019</td>\n",
       "      <td>4986.863329</td>\n",
       "      <td>6089.478323</td>\n",
       "    </tr>\n",
       "    <tr>\n",
       "      <th>Cluster 4</th>\n",
       "      <td>25.0</td>\n",
       "      <td>14808.683793</td>\n",
       "      <td>1159.339639</td>\n",
       "      <td>12554.692742</td>\n",
       "      <td>14047.388986</td>\n",
       "      <td>14773.407206</td>\n",
       "      <td>15391.952192</td>\n",
       "      <td>17833.093470</td>\n",
       "    </tr>\n",
       "  </tbody>\n",
       "</table>\n",
       "</div>"
      ],
      "text/plain": [
       "           count          mean          std           min           25%  \\\n",
       "Cluster                                                                   \n",
       "Cluster 0  147.0  16659.261445  1183.850178  13470.970605  15957.282919   \n",
       "Cluster 1  157.0   6889.972190  1052.276354   4077.658657   6225.376082   \n",
       "Cluster 2  126.0  14962.778066  1061.734017  12207.526078  14223.787562   \n",
       "Cluster 3   50.0   4087.520309  1277.754801      0.000000   3275.320193   \n",
       "Cluster 4   25.0  14808.683793  1159.339639  12554.692742  14047.388986   \n",
       "\n",
       "                    50%           75%           max  \n",
       "Cluster                                              \n",
       "Cluster 0  16711.067980  17433.126684  20000.000000  \n",
       "Cluster 1   6845.056822   7497.231607  10547.775368  \n",
       "Cluster 2  14976.943192  15682.288845  17968.553929  \n",
       "Cluster 3   4361.967019   4986.863329   6089.478323  \n",
       "Cluster 4  14773.407206  15391.952192  17833.093470  "
      ]
     },
     "execution_count": 28,
     "metadata": {},
     "output_type": "execute_result"
    }
   ],
   "source": [
    "# Used panda's group-by function to calculate means\n",
    "import pandas as pd\n",
    "\n",
    "X_df = pd.DataFrame(hclust_results, columns=hclust_results.columns)\n",
    "cl_group = X_df.groupby(['Cluster']).agg('describe')\n",
    "cl_group\n",
    "\n",
    "cl_group.info()\n",
    "\n",
    "print('\\n\\n','Group by Cluster - Means of Age: ')\n",
    "cl_group['Age']\n",
    "\n",
    "print('\\n\\n','Group by Cluster - Means of Spending Score: ')\n",
    "cl_group['SpendingScore']\n",
    "\n",
    "print('\\n\\n','Group by Cluster - Means of Income: ')\n",
    "cl_group['Income']\n",
    "\n",
    "print('\\n\\n','Group by Cluster - Means of Savings: ')\n",
    "cl_group['Savings']\n",
    "\n",
    "\n"
   ]
  },
  {
   "cell_type": "markdown",
   "metadata": {},
   "source": [
    "# Relative Importance Plots"
   ]
  },
  {
   "cell_type": "code",
   "execution_count": 67,
   "metadata": {},
   "outputs": [
    {
     "data": {
      "text/plain": [
       "<Figure size 576x288 with 0 Axes>"
      ]
     },
     "execution_count": 67,
     "metadata": {},
     "output_type": "execute_result"
    },
    {
     "data": {
      "text/plain": [
       "Text(0.5, 1.0, 'Relative importance of features')"
      ]
     },
     "execution_count": 67,
     "metadata": {},
     "output_type": "execute_result"
    },
    {
     "data": {
      "text/plain": [
       "<matplotlib.axes._subplots.AxesSubplot at 0x1ef235a9b38>"
      ]
     },
     "execution_count": 67,
     "metadata": {},
     "output_type": "execute_result"
    },
    {
     "data": {
      "image/png": "[encoded data removed]",
      "text/plain": [
       "<Figure size 576x288 with 2 Axes>"
      ]
     },
     "metadata": {},
     "output_type": "display_data"
    }
   ],
   "source": [
    "# The idea here is to understand how does each feature compared to overall customers\n",
    "# Greener = higher value than population\n",
    "# Redder = lower value than population\n",
    "# Yellow = same value as population\n",
    "\n",
    "all_means = X.mean(axis=0)\n",
    "\n",
    "relative_imp = means - all_means.to_numpy()\n",
    "col_names = hclust_results.columns\n",
    "\n",
    "plt.figure(figsize=(8, 4));\n",
    "plt.title('Relative importance of features');\n",
    "sns.heatmap(data=relative_imp, \n",
    "            annot=relative_imp, \n",
    "            #annot=scaler.inverse_transform(relative_imp), \n",
    "            fmt='.2f', \n",
    "            cmap='RdYlGn', \n",
    "            robust=True, \n",
    "            square=False,\n",
    "            xticklabels=col_names, \n",
    "            yticklabels=['Cluster {}'.format(x) for x in range(K)]);\n",
    "plt.savefig('mall_heatmap_pycaret_hclust.png')"
   ]
  },
  {
   "cell_type": "code",
   "execution_count": null,
   "metadata": {},
   "outputs": [],
   "source": []
  }
 ],
 "metadata": {
  "kernelspec": {
   "display_name": "pycaret-env",
   "language": "python",
   "name": "pycaretenv"
  },
  "language_info": {
   "codemirror_mode": {
    "name": "ipython",
    "version": 3
   },
   "file_extension": ".py",
   "mimetype": "text/x-python",
   "name": "python",
   "nbconvert_exporter": "python",
   "pygments_lexer": "ipython3",
   "version": "3.6.10"
  }
 },
 "nbformat": 4,
 "nbformat_minor": 2
}

